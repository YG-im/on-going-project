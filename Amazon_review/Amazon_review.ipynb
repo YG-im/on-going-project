{
 "cells": [
  {
   "cell_type": "markdown",
   "metadata": {},
   "source": [
    "# 아마존 부정 리뷰 이진 분류 데이터 전처리 및 예측 모델\n",
    "- 데이터 출처 : https://www.kaggle.com/bittlingmayer/amazonreviews\n",
    "- 아마존 리뷰에 출현하는 텍스트를 데이터프레임화. (샘플 내 출현 : 1, 미출현 : 0)\n",
    "- 클래스(column = 'Label') 1 : 긍정리뷰, 클래스 -1 : 부정리뷰"
   ]
  },
  {
   "cell_type": "markdown",
   "metadata": {},
   "source": [
    "## 전략\n",
    "1. 데이터프레임화 된 데이터에서 결측치 및 이상치를 파악\n",
    "1. 클래스 불균형을 판단하기 애매한 클래스 분포를 가짐.\n",
    "    - 재샘플링 안한 샘플과 원본 샘플에 대해서 모두 그리드 생성.\n",
    "1. 특징 선택 : 카이제곱, 상호정보량\n",
    "1. 예측 모델 : Naive Bayes, Support Vector Machine\n",
    "1. 원본/재샘플링, 카이제곱/상호정보량, NB/SVM으로 그리드 생성 후 가장 score가 높은 조합 선택"
   ]
  },
  {
   "cell_type": "code",
   "execution_count": 1,
   "metadata": {},
   "outputs": [],
   "source": [
    "import os\n",
    "os.chdir('/Users/yongwan89/PycharmProjects/dataset')\n",
    "import dill"
   ]
  },
  {
   "cell_type": "markdown",
   "metadata": {},
   "source": [
    "## 데이터 불러오기 및 크기 파악"
   ]
  },
  {
   "cell_type": "code",
   "execution_count": 2,
   "metadata": {},
   "outputs": [
    {
     "name": "stdout",
     "output_type": "stream",
     "text": [
      "(3367, 12533)\n"
     ]
    }
   ],
   "source": [
    "import pandas as pd\n",
    "df = pd.read_csv(\"Amazon_review.csv\", engine = 'python')\n",
    "print(df.shape) # (3367, 12533)"
   ]
  },
  {
   "cell_type": "markdown",
   "metadata": {},
   "source": [
    "## 결측치 비율 파악"
   ]
  },
  {
   "cell_type": "code",
   "execution_count": 3,
   "metadata": {},
   "outputs": [],
   "source": [
    "def check_missing_value(df):\n",
    "    # 결측치 파악해주는 함수\n",
    "    # df : 결측치 파악 여부를 원하는 데이터 프레임 입력\n",
    "    len_df_without_missing = len(df.dropna()) #df에서 결측된 행들 모두 제거한 길이\n",
    "    len_df = len(df)\n",
    "    missing_records_ratio = (len_df - len_df_without_missing) / len_df\n",
    "    print('총 {}열 중 {}개에 결측이 발생함. 결측 비율 = {}'.format(len_df, len_df-len_df_without_missing, missing_records_ratio))\n",
    "    "
   ]
  },
  {
   "cell_type": "code",
   "execution_count": 4,
   "metadata": {},
   "outputs": [
    {
     "name": "stdout",
     "output_type": "stream",
     "text": [
      "총 3367열 중 0개에 결측이 발생함. 결측 비율 = 0.0\n"
     ]
    }
   ],
   "source": [
    "check_missing_value(df)"
   ]
  },
  {
   "cell_type": "markdown",
   "metadata": {},
   "source": [
    "## 이상치 파악\n",
    "- 값이 0 또는 1이 아닌 value가 있으면 이상치"
   ]
  },
  {
   "cell_type": "code",
   "execution_count": 39,
   "metadata": {},
   "outputs": [
    {
     "name": "stdout",
     "output_type": "stream",
     "text": [
      "0\n"
     ]
    }
   ],
   "source": [
    "'''\n",
    "(X == 1).sum(axis = 1) : 각 열별로 X=1인 컬럼 갯수 카운트\n",
    "(X == 0).sum(axis = 1) : 각 열별로 X=0인 컬럼 갯수 카운트\n",
    "그 둘을 각 열별로 더해서 총 컬럼의 갯수와 안맞는 인덱스 추출\n",
    "'''\n",
    "X = df.drop('Label', axis = 1) # 클래스 변수를 제거한 데이터프레임을 X에 저장\n",
    "outlier_indice = ((X == 1).sum(axis = 1) + (X == 0).sum(axis = 1)) != len(X.columns) # 이상치를 포함하는 샘플 확인\n",
    "print(sum(outlier_indice))"
   ]
  },
  {
   "cell_type": "markdown",
   "metadata": {},
   "source": [
    "## 라벨 빈도수 파악 (클래스 불균형 여부 체크)\n",
    "- 다수 클래스와 소수 클래스의 비율이 1:3.27이라서 상대부족 아님.\n",
    "- 소수 클래스 비율이 788개여서 절대부족 아님."
   ]
  },
  {
   "cell_type": "code",
   "execution_count": 12,
   "metadata": {},
   "outputs": [
    {
     "name": "stdout",
     "output_type": "stream",
     "text": [
      "-1    2579\n",
      " 1     788\n",
      "Name: Label, dtype: int64\n",
      "3.2728426395939088\n"
     ]
    }
   ],
   "source": [
    "# 종속 변수 파악\n",
    "Y = df['Label']\n",
    "frequency = Y.value_counts() # -1 : 부정 리뷰, 1 :  긍정 리뷰\n",
    "print(frequency)\n",
    "imb_ratio = frequency.iloc[0] / frequency.iloc[-1]\n",
    "print(imb_ratio)"
   ]
  },
  {
   "cell_type": "markdown",
   "metadata": {},
   "source": [
    "## 재샘플링 데이터 생성\n",
    "- 전체 샘플 수가 적은지 적당한지 판단하기 애매함.\n",
    "- Nearmiss로  재샘플링으로 하고, 원본 데이터도 활용해서 score가 높은 것으로 선택할 예정."
   ]
  },
  {
   "cell_type": "code",
   "execution_count": 24,
   "metadata": {},
   "outputs": [],
   "source": [
    "import imblearn.under_sampling as usam\n",
    "# rus = usam.RandomUnderSampler()  # 랜덤 언더 샘플링\n",
    "# rus_X, rus_Y = rus.fit_sample(X, Y)\n",
    "\n",
    "nrus1 = usam.NearMiss(n_neighbors = 3, version = 1) #nearmiss ver1 객체화\n",
    "nrus2 = usam.NearMiss(version = 2) #nearmiss ver2 객체화 \n",
    "nrus1_X, nrus1_Y = nrus1.fit_sample(X, Y)  #nearmiss ver1 언더샘플링\n",
    "nrus2_X, nrus2_Y = nrus2.fit_sample(X, Y)  #nearmiss ver2 언더샘플링\n",
    "\n",
    "origin_X, origin_Y = X, Y # 재샘플링 데이터와의 구분을 위해 이름 넣어서 재정의\n",
    "# 데이터 프레임화\n",
    "#rus_X = pd.DataFrame(rus_X, columns = X.columns)\n",
    "nrus1_X = pd.DataFrame(nrus1_X, columns = X.columns)\n",
    "nrus2_X = pd.DataFrame(nrus2_X, columns = X.columns)"
   ]
  },
  {
   "cell_type": "markdown",
   "metadata": {},
   "source": [
    "## 그리드 생성\n",
    "- 원본/재샘플링, 카이제곱/상호정보량, NB/SVM으로 그리드 생성"
   ]
  },
  {
   "cell_type": "code",
   "execution_count": 32,
   "metadata": {},
   "outputs": [],
   "source": [
    "# 그리드 생성\n",
    "from sklearn.svm import SVC\n",
    "from sklearn.naive_bayes import BernoulliNB as BNB\n",
    "\n",
    "# 훈련 모델1 : Bernoulli Naive Bayes classification\n",
    "basic_NB = BNB()\n",
    "# 훈련 모델2 : Bernoulli Naive Bayes classification 비용민감모델\n",
    "cost_sensitive_NB = BNB(class_prior = [0.5, 0.5]) # 소수와 다수 클래스 확률을 0.5로 맞춰줌/ 재샘플링하지 않을 경우에만 사용.\n",
    "# 훈련 모델3 : support vector classification\n",
    "basic_SVM = SVC()\n",
    "# 훈련 모델3 : support vector classification 비용민감모델\n",
    "cost_sensitive_SVM = SVC(class_weight = {1:imb_ratio, -1:1})\n",
    "\n",
    "NB_parameter = {}\n",
    "SVM_parameter = {'C': [2** -5, 2** -3, 2**-1, 2**1, 2 ** 3, 2**5], 'kernel': ['rbf', 'linear']}\n",
    "\n",
    "machine_parameter_zip = zip([basic_NB, basic_SVM], [NB_parameter, SVM_parameter])\n",
    "cost_sensitive_machine_parameter_zip = zip([cost_sensitive_NB, cost_sensitive_SVM], [NB_parameter, SVM_parameter])\n"
   ]
  },
  {
   "cell_type": "markdown",
   "metadata": {},
   "source": [
    "## 그리드 서치 및 최고 score가진 조합 저장"
   ]
  },
  {
   "cell_type": "code",
   "execution_count": 34,
   "metadata": {},
   "outputs": [
    {
     "name": "stdout",
     "output_type": "stream",
     "text": [
      "0\n"
     ]
    },
    {
     "name": "stderr",
     "output_type": "stream",
     "text": [
      "/Library/Frameworks/Python.framework/Versions/3.6/lib/python3.6/site-packages/sklearn/svm/base.py:196: FutureWarning: The default value of gamma will change from 'auto' to 'scale' in version 0.22 to account better for unscaled features. Set gamma explicitly to 'auto' or 'scale' to avoid this warning.\n",
      "  \"avoid this warning.\", FutureWarning)\n",
      "/Library/Frameworks/Python.framework/Versions/3.6/lib/python3.6/site-packages/sklearn/svm/base.py:196: FutureWarning: The default value of gamma will change from 'auto' to 'scale' in version 0.22 to account better for unscaled features. Set gamma explicitly to 'auto' or 'scale' to avoid this warning.\n",
      "  \"avoid this warning.\", FutureWarning)\n",
      "/Library/Frameworks/Python.framework/Versions/3.6/lib/python3.6/site-packages/sklearn/svm/base.py:196: FutureWarning: The default value of gamma will change from 'auto' to 'scale' in version 0.22 to account better for unscaled features. Set gamma explicitly to 'auto' or 'scale' to avoid this warning.\n",
      "  \"avoid this warning.\", FutureWarning)\n",
      "/Library/Frameworks/Python.framework/Versions/3.6/lib/python3.6/site-packages/sklearn/svm/base.py:196: FutureWarning: The default value of gamma will change from 'auto' to 'scale' in version 0.22 to account better for unscaled features. Set gamma explicitly to 'auto' or 'scale' to avoid this warning.\n",
      "  \"avoid this warning.\", FutureWarning)\n",
      "/Library/Frameworks/Python.framework/Versions/3.6/lib/python3.6/site-packages/sklearn/svm/base.py:196: FutureWarning: The default value of gamma will change from 'auto' to 'scale' in version 0.22 to account better for unscaled features. Set gamma explicitly to 'auto' or 'scale' to avoid this warning.\n",
      "  \"avoid this warning.\", FutureWarning)\n",
      "/Library/Frameworks/Python.framework/Versions/3.6/lib/python3.6/site-packages/sklearn/svm/base.py:196: FutureWarning: The default value of gamma will change from 'auto' to 'scale' in version 0.22 to account better for unscaled features. Set gamma explicitly to 'auto' or 'scale' to avoid this warning.\n",
      "  \"avoid this warning.\", FutureWarning)\n",
      "/Library/Frameworks/Python.framework/Versions/3.6/lib/python3.6/site-packages/sklearn/svm/base.py:196: FutureWarning: The default value of gamma will change from 'auto' to 'scale' in version 0.22 to account better for unscaled features. Set gamma explicitly to 'auto' or 'scale' to avoid this warning.\n",
      "  \"avoid this warning.\", FutureWarning)\n",
      "/Library/Frameworks/Python.framework/Versions/3.6/lib/python3.6/site-packages/sklearn/svm/base.py:196: FutureWarning: The default value of gamma will change from 'auto' to 'scale' in version 0.22 to account better for unscaled features. Set gamma explicitly to 'auto' or 'scale' to avoid this warning.\n",
      "  \"avoid this warning.\", FutureWarning)\n",
      "/Library/Frameworks/Python.framework/Versions/3.6/lib/python3.6/site-packages/sklearn/svm/base.py:196: FutureWarning: The default value of gamma will change from 'auto' to 'scale' in version 0.22 to account better for unscaled features. Set gamma explicitly to 'auto' or 'scale' to avoid this warning.\n",
      "  \"avoid this warning.\", FutureWarning)\n",
      "/Library/Frameworks/Python.framework/Versions/3.6/lib/python3.6/site-packages/sklearn/svm/base.py:196: FutureWarning: The default value of gamma will change from 'auto' to 'scale' in version 0.22 to account better for unscaled features. Set gamma explicitly to 'auto' or 'scale' to avoid this warning.\n",
      "  \"avoid this warning.\", FutureWarning)\n",
      "/Library/Frameworks/Python.framework/Versions/3.6/lib/python3.6/site-packages/sklearn/svm/base.py:196: FutureWarning: The default value of gamma will change from 'auto' to 'scale' in version 0.22 to account better for unscaled features. Set gamma explicitly to 'auto' or 'scale' to avoid this warning.\n",
      "  \"avoid this warning.\", FutureWarning)\n",
      "/Library/Frameworks/Python.framework/Versions/3.6/lib/python3.6/site-packages/sklearn/svm/base.py:196: FutureWarning: The default value of gamma will change from 'auto' to 'scale' in version 0.22 to account better for unscaled features. Set gamma explicitly to 'auto' or 'scale' to avoid this warning.\n",
      "  \"avoid this warning.\", FutureWarning)\n",
      "/Library/Frameworks/Python.framework/Versions/3.6/lib/python3.6/site-packages/sklearn/svm/base.py:196: FutureWarning: The default value of gamma will change from 'auto' to 'scale' in version 0.22 to account better for unscaled features. Set gamma explicitly to 'auto' or 'scale' to avoid this warning.\n",
      "  \"avoid this warning.\", FutureWarning)\n",
      "/Library/Frameworks/Python.framework/Versions/3.6/lib/python3.6/site-packages/sklearn/svm/base.py:196: FutureWarning: The default value of gamma will change from 'auto' to 'scale' in version 0.22 to account better for unscaled features. Set gamma explicitly to 'auto' or 'scale' to avoid this warning.\n",
      "  \"avoid this warning.\", FutureWarning)\n",
      "/Library/Frameworks/Python.framework/Versions/3.6/lib/python3.6/site-packages/sklearn/svm/base.py:196: FutureWarning: The default value of gamma will change from 'auto' to 'scale' in version 0.22 to account better for unscaled features. Set gamma explicitly to 'auto' or 'scale' to avoid this warning.\n",
      "  \"avoid this warning.\", FutureWarning)\n",
      "/Library/Frameworks/Python.framework/Versions/3.6/lib/python3.6/site-packages/sklearn/svm/base.py:196: FutureWarning: The default value of gamma will change from 'auto' to 'scale' in version 0.22 to account better for unscaled features. Set gamma explicitly to 'auto' or 'scale' to avoid this warning.\n",
      "  \"avoid this warning.\", FutureWarning)\n",
      "/Library/Frameworks/Python.framework/Versions/3.6/lib/python3.6/site-packages/sklearn/svm/base.py:196: FutureWarning: The default value of gamma will change from 'auto' to 'scale' in version 0.22 to account better for unscaled features. Set gamma explicitly to 'auto' or 'scale' to avoid this warning.\n",
      "  \"avoid this warning.\", FutureWarning)\n",
      "/Library/Frameworks/Python.framework/Versions/3.6/lib/python3.6/site-packages/sklearn/svm/base.py:196: FutureWarning: The default value of gamma will change from 'auto' to 'scale' in version 0.22 to account better for unscaled features. Set gamma explicitly to 'auto' or 'scale' to avoid this warning.\n",
      "  \"avoid this warning.\", FutureWarning)\n",
      "/Library/Frameworks/Python.framework/Versions/3.6/lib/python3.6/site-packages/sklearn/svm/base.py:196: FutureWarning: The default value of gamma will change from 'auto' to 'scale' in version 0.22 to account better for unscaled features. Set gamma explicitly to 'auto' or 'scale' to avoid this warning.\n",
      "  \"avoid this warning.\", FutureWarning)\n",
      "/Library/Frameworks/Python.framework/Versions/3.6/lib/python3.6/site-packages/sklearn/svm/base.py:196: FutureWarning: The default value of gamma will change from 'auto' to 'scale' in version 0.22 to account better for unscaled features. Set gamma explicitly to 'auto' or 'scale' to avoid this warning.\n",
      "  \"avoid this warning.\", FutureWarning)\n",
      "/Library/Frameworks/Python.framework/Versions/3.6/lib/python3.6/site-packages/sklearn/svm/base.py:196: FutureWarning: The default value of gamma will change from 'auto' to 'scale' in version 0.22 to account better for unscaled features. Set gamma explicitly to 'auto' or 'scale' to avoid this warning.\n",
      "  \"avoid this warning.\", FutureWarning)\n",
      "/Library/Frameworks/Python.framework/Versions/3.6/lib/python3.6/site-packages/sklearn/svm/base.py:196: FutureWarning: The default value of gamma will change from 'auto' to 'scale' in version 0.22 to account better for unscaled features. Set gamma explicitly to 'auto' or 'scale' to avoid this warning.\n",
      "  \"avoid this warning.\", FutureWarning)\n",
      "/Library/Frameworks/Python.framework/Versions/3.6/lib/python3.6/site-packages/sklearn/svm/base.py:196: FutureWarning: The default value of gamma will change from 'auto' to 'scale' in version 0.22 to account better for unscaled features. Set gamma explicitly to 'auto' or 'scale' to avoid this warning.\n",
      "  \"avoid this warning.\", FutureWarning)\n",
      "/Library/Frameworks/Python.framework/Versions/3.6/lib/python3.6/site-packages/sklearn/svm/base.py:196: FutureWarning: The default value of gamma will change from 'auto' to 'scale' in version 0.22 to account better for unscaled features. Set gamma explicitly to 'auto' or 'scale' to avoid this warning.\n",
      "  \"avoid this warning.\", FutureWarning)\n"
     ]
    },
    {
     "name": "stderr",
     "output_type": "stream",
     "text": [
      "/Library/Frameworks/Python.framework/Versions/3.6/lib/python3.6/site-packages/sklearn/svm/base.py:196: FutureWarning: The default value of gamma will change from 'auto' to 'scale' in version 0.22 to account better for unscaled features. Set gamma explicitly to 'auto' or 'scale' to avoid this warning.\n",
      "  \"avoid this warning.\", FutureWarning)\n",
      "/Library/Frameworks/Python.framework/Versions/3.6/lib/python3.6/site-packages/sklearn/svm/base.py:196: FutureWarning: The default value of gamma will change from 'auto' to 'scale' in version 0.22 to account better for unscaled features. Set gamma explicitly to 'auto' or 'scale' to avoid this warning.\n",
      "  \"avoid this warning.\", FutureWarning)\n",
      "/Library/Frameworks/Python.framework/Versions/3.6/lib/python3.6/site-packages/sklearn/svm/base.py:196: FutureWarning: The default value of gamma will change from 'auto' to 'scale' in version 0.22 to account better for unscaled features. Set gamma explicitly to 'auto' or 'scale' to avoid this warning.\n",
      "  \"avoid this warning.\", FutureWarning)\n",
      "/Library/Frameworks/Python.framework/Versions/3.6/lib/python3.6/site-packages/sklearn/svm/base.py:196: FutureWarning: The default value of gamma will change from 'auto' to 'scale' in version 0.22 to account better for unscaled features. Set gamma explicitly to 'auto' or 'scale' to avoid this warning.\n",
      "  \"avoid this warning.\", FutureWarning)\n",
      "/Library/Frameworks/Python.framework/Versions/3.6/lib/python3.6/site-packages/sklearn/svm/base.py:196: FutureWarning: The default value of gamma will change from 'auto' to 'scale' in version 0.22 to account better for unscaled features. Set gamma explicitly to 'auto' or 'scale' to avoid this warning.\n",
      "  \"avoid this warning.\", FutureWarning)\n",
      "/Library/Frameworks/Python.framework/Versions/3.6/lib/python3.6/site-packages/sklearn/svm/base.py:196: FutureWarning: The default value of gamma will change from 'auto' to 'scale' in version 0.22 to account better for unscaled features. Set gamma explicitly to 'auto' or 'scale' to avoid this warning.\n",
      "  \"avoid this warning.\", FutureWarning)\n"
     ]
    },
    {
     "name": "stdout",
     "output_type": "stream",
     "text": [
      "0.7540838956641606\n",
      "0.7540838956641606\n",
      "0.7540838956641606\n",
      "0.7540838956641606\n",
      "0.7540838956641606\n"
     ]
    }
   ],
   "source": [
    "import warnings\n",
    "warnings.filterwarnings('ignore', 'FutureWarning')\n",
    "\n",
    "# 최고값 초기화\n",
    "from sklearn.model_selection import GridSearchCV\n",
    "best_score = 0\n",
    "best_feature_set = []\n",
    "best_model = ''\n",
    "best_paramter = ''\n",
    "\n",
    "\n",
    "# 특징 선택과 그리드 서치\n",
    "from sklearn.feature_selection import *\n",
    "for selector in [chi2, mutual_info_classif]: #특징 선택으로 카이제곱과 상호정보량 사용.\n",
    "    for k in range(1000, 1001, 1000): # 특징 선택을 위한 for문 : 1001 -> 5001로 늘리면 더 많은 경우의수 고려가능\n",
    "        for (X, Y) in zip([origin_X, nrus1_X, nrus2_X], [origin_Y, nrus1_Y, nrus2_Y]): #zip:(X,Y) 형태로 묵기\n",
    "            fitted_selector = SelectKBest(selector, k).fit(X, Y)\n",
    "            column_indice = fitted_selector.get_support()\n",
    "            columns = X.columns[column_indice]\n",
    "            \n",
    "            new_X = pd.DataFrame(fitted_selector.transform(X), columns = columns)                        \n",
    "            if len(Y) == len(origin_Y): #origin_Y, nrus1_Y, nrus2_Y 중 재샘플링 안된 origin_Y골라서 비용민감모델 적용\n",
    "                if (Y == origin_Y).all(): # Y랑 origin_Y랑 완전 같은지 확인. 그렇다면 비용 민감 모델 적용 필요\n",
    "                    for (model, parameter) in cost_sensitive_machine_parameter_zip:    \n",
    "                        grid = GridSearchCV(estimator = model, param_grid = parameter, cv = 5, scoring = 'f1')\n",
    "                        grid.fit(new_X, Y)\n",
    "                        if best_score < grid.best_score_:\n",
    "                            best_score = grid.best_score_\n",
    "                            best_model = grid.best_estimator_\n",
    "                            best_parameter = grid.best_params_\n",
    "                            best_feature_set = columns\n",
    "            \n",
    "            else:\n",
    "                for (model, parameter) in machine_parameter_zip:\n",
    "                    grid = GridSearchCV(estimator = model, param_grid = parameter, cv = 5, scoring = 'f1')\n",
    "                    grid.fit(new_X, Y)\n",
    "                    if best_score < grid.best_score_:\n",
    "                        best_score = grid.best_score_\n",
    "                        best_model = grid.best_estimator_\n",
    "                        best_parameter = grid.best_params_\n",
    "                        best_feature_set = columns\n",
    "            print(best_score)\n",
    "\n",
    "# 모델 저장\n",
    "import dill\n",
    "with open('project1_model.pkl', 'wb') as file:\n",
    "    dill.dump(best_feature_set, file)\n",
    "    dill.dump(best_model, file)"
   ]
  },
  {
   "cell_type": "markdown",
   "metadata": {},
   "source": [
    "## 모델 import 및 test set 예측"
   ]
  },
  {
   "cell_type": "code",
   "execution_count": 43,
   "metadata": {},
   "outputs": [],
   "source": [
    "df2 = pd.read_csv(\"Amazon_review_test.csv\", engine = 'python')\n",
    "df3 = pd.DataFrame(columns = df.columns).drop(columns = ['Label'])\n",
    "df2.columns = df3.columns   # colums부족으로 전처리\n",
    "df2.to_csv('Amazon_review_test2.csv')"
   ]
  },
  {
   "cell_type": "code",
   "execution_count": 44,
   "metadata": {},
   "outputs": [
    {
     "name": "stdout",
     "output_type": "stream",
     "text": [
      "[ 1  1  1  1  1 -1 -1 -1 -1 -1]\n"
     ]
    }
   ],
   "source": [
    "## 모델 활용\n",
    "import dill\n",
    "\n",
    "\n",
    "with open('project1_model.pkl', 'rb') as file:\n",
    "    feature_set = dill.load(file)\n",
    "    model = dill.load(file)\n",
    "\n",
    "df2 = df2[feature_set]\n",
    "prediction_result = model.predict(df2)\n",
    "print(prediction_result)"
   ]
  }
 ],
 "metadata": {
  "kernelspec": {
   "display_name": "Python 3",
   "language": "python",
   "name": "python3"
  },
  "language_info": {
   "codemirror_mode": {
    "name": "ipython",
    "version": 3
   },
   "file_extension": ".py",
   "mimetype": "text/x-python",
   "name": "python",
   "nbconvert_exporter": "python",
   "pygments_lexer": "ipython3",
   "version": "3.6.5"
  }
 },
 "nbformat": 4,
 "nbformat_minor": 2
}
