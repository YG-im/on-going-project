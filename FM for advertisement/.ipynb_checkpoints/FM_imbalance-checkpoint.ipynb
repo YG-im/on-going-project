{
 "cells": [
  {
   "cell_type": "markdown",
   "metadata": {},
   "source": [
    "- 광고 추천에는 user와 ad 사이의 interaction을 고려하는 것이 중요하다.\n",
    "- classification의 가장 대표적인 logit regression의 경우 linear한 영향만 고려하기 때문에 interaction을 고려하지 못한다.\n",
    "- Factorization Mahine(FM)은 광고 추천에 활용하면 user와 ad사이의 interaction을 고려한 알고리즘을 구축할 수 있다.\n",
    "- 본 노트에서는 FM을 활용하여서 CTR 예측 알고리즘을 구축해보겠다.\n",
    "- CTR 데이터의 class는 positive class인 click(+1)과 negative class인 unclick(-1)로 구성되어있다. pisitive class는 전체 샘플 중  1~10%밖에 차지하지 않아서 클래스 불균형 문제가 존재한다.\n",
    "- 본 노트에서는 클래스 불균형 문제가 있는 CTR 데이터에 대해서 FM을 구축하여서 CTR 예측을 해보겠다.\n",
    "    - 데이터로는 fastFM에서 제공하는 FM 테스트 용 랜덤 데이터에 클래스 불균형을 준 데이터를 사용할 것이다."
   ]
  },
  {
   "cell_type": "markdown",
   "metadata": {},
   "source": [
    "## 목차\n",
    "1. [데이터 생성 및 탐색](#1.데이터-생성-및-탐색)\n",
    "1. [전처리 없이 FM으로 CTR 예측](#2.전처리-없이-FM으로-CTR-예측)\n",
    "1. [비용민감모델로 클래스 불균형 문제 해결하기](#3.비용민감모델로-클래스-불균형-문제-해결하기)\n",
    "1. [재샘플링으로 클래스 불균형 문제 해결하기](#4.재샘플링으로-클래스-불균형-문제-해결하기)\n",
    "\n",
    "**Accuracy, Precision, Recall, F1 score 구하기**\n"
   ]
  },
  {
   "cell_type": "code",
   "execution_count": 27,
   "metadata": {},
   "outputs": [],
   "source": [
    "from sklearn.feature_extraction import DictVectorizer\n",
    "from sklearn.model_selection import train_test_split\n",
    "from sklearn.metrics import accuracy_score, precision_score, recall_score, f1_score\n",
    "from sklearn.preprocessing import minmax_scale\n",
    "\n",
    "\n",
    "import time\n",
    "import warnings\n",
    "warnings.filterwarnings('ignore')"
   ]
  },
  {
   "cell_type": "markdown",
   "metadata": {},
   "source": [
    "## 1.데이터 생성 및 탐색"
   ]
  },
  {
   "cell_type": "code",
   "execution_count": 18,
   "metadata": {},
   "outputs": [],
   "source": [
    "from fastFM.datasets import make_user_item_regression\n",
    "\n",
    "# This sets up a small test dataset.\n",
    "X, y, _ = make_user_item_regression(n_user=100, n_item=100)\n",
    "\n",
    "# Convert dataset to binary classification task.\n",
    "y_labels = np.ones_like(y)\n",
    "for_imbalance = 223 #클래스 불균형을 만들기위한 수치\n",
    "y_labels[y < for_imbalance] = -1 \n",
    "#print(y_labels)\n",
    "X_train, X_test, y_train, y_test = train_test_split(X, y_labels)\n",
    "#print(X_train.toarray())\n"
   ]
  },
  {
   "cell_type": "code",
   "execution_count": 51,
   "metadata": {},
   "outputs": [
    {
     "name": "stdout",
     "output_type": "stream",
     "text": [
      "[train] CTR = number of +1/number of y :  7.07 %\n",
      "[test] CTR = number of +1/number of y :  7.68 %\n"
     ]
    }
   ],
   "source": [
    "#CTR 확인\n",
    "\n",
    "print('[train] CTR = number of +1/number of y : ', round(100*(y_train==1).sum()/len(y_train),2),'%')\n",
    "print('[test] CTR = number of +1/number of y : ', round(100*(y_test==1).sum()/len(y_test),2),'%')\n"
   ]
  },
  {
   "cell_type": "markdown",
   "metadata": {},
   "source": [
    "## 2.전처리 없이 FM으로 CTR 예측\n",
    "1. fast FM\n",
    "- 전처리를 수행하지 않고 FM을 돌려본다."
   ]
  },
  {
   "cell_type": "code",
   "execution_count": 102,
   "metadata": {},
   "outputs": [
    {
     "name": "stdout",
     "output_type": "stream",
     "text": [
      "Accuracy: 0.984\n",
      "Precision:  0.947\n",
      "Recall:  0.839\n",
      "F1-score:  0.89\n",
      "Ratio:  6.8 %\n",
      "--- 0.02325129508972168 seconds ---\n"
     ]
    }
   ],
   "source": [
    "from fastFM import sgd\n",
    "\n",
    "# check time\n",
    "start_time = time.time()\n",
    "\n",
    "# fastFM = sgd.FMClassification(n_iter=1000, init_stdev=0.1, rank=2, step_size=0.02)\n",
    "fastFM = sgd.FMClassification(n_iter=100000, init_stdev=0.1, l2_reg_w=0,\\\n",
    "                          l2_reg_V=0, rank=2, step_size=0.1)\n",
    "fastFM.fit(X_train, y_train)\n",
    "\n",
    "preds_fm = fastFM.predict(X_test)\n",
    "\n",
    "print('Accuracy:', round(accuracy_score(y_test, preds_fm),3))\n",
    "print('Precision: ', round(precision_score(y_test, preds_fm),3))\n",
    "print('Recall: ', round(recall_score(y_test, preds_fm),3))\n",
    "print('F1-score: ', round(f1_score(y_test, preds_fm),3))\n",
    "print('CTR: ', 100*(preds_fm==1).sum()/len(preds_fm),'%')\n",
    "# check time\n",
    "print(\"--- %s seconds ---\" % (time.time() - start_time))"
   ]
  },
  {
   "cell_type": "code",
   "execution_count": 103,
   "metadata": {},
   "outputs": [
    {
     "name": "stdout",
     "output_type": "stream",
     "text": [
      "[test set] CTR:  7.68 %\n"
     ]
    }
   ],
   "source": [
    "print('[test set] CTR: ', 100*(y_test==1).sum()/len(y_test),'%')"
   ]
  },
  {
   "cell_type": "markdown",
   "metadata": {},
   "source": [
    "- 데이터 자체가 FM를 테스트하기 위해 만들어진 데이터이다 보니 accuracy 자체가 상당히 잘 나오고, 클래스 불균형을 해결하지 않아도 F1-score이 크다.\n",
    "- 하지만 그래도 불균형된 데이터이다 보니 accuracy나 precision에 비해서 recall과 F1-score이 낮게 나옴을 확인할 수 있다.\n",
    "- 그리고 정답셋에 비해서 positve class의 비율인 CTR이 낮아짐을 확인할 수 있다.\n",
    "    - 정답 CTR : 7.68%, 예측 CTR: 6.8%\n",
    "- 데이터의 클래스불균형 문제를 해결하여 predicted CTR(pCTR)의 정확도를 높여보겠다."
   ]
  },
  {
   "cell_type": "markdown",
   "metadata": {},
   "source": [
    "# 3.비용민감모델로 pCTR 정확도 높이기\n",
    "- 전략\n",
    "    - fastFM 라이브러리에서는 classification이 될 확률을 계산하여 0과 1사이의 값으로 출력해주는 기능을 제공해주고 있다.\n",
    "    - 확률로 예측값을 얻어내어 class가 나눠지는 threshold을 조정하여 FM을 비용민감모델로 만들어 본다. \n",
    "    - 가장 적절한 threshold를 구한다."
   ]
  },
  {
   "cell_type": "code",
   "execution_count": 104,
   "metadata": {},
   "outputs": [],
   "source": [
    "# probability 형태로도 예측 가능\n",
    "pred_proba = fastFM.predict_proba(X_test)\n",
    "pred_proba = minmax_scale(pred_proba)"
   ]
  },
  {
   "cell_type": "code",
   "execution_count": 83,
   "metadata": {},
   "outputs": [],
   "source": [
    "#threshold\n",
    "alpha_ls = [0.2,0.25,0.3,0.35,0.4,0.45,0.5,0.55,0.6,0.65,0.7]\n",
    "acc_ls, prec_ls, recall_ls, f1_ls, ratio_ls = [], [], [], [], []\n",
    "\n",
    "for alpha in alpha_ls:\n",
    "\n",
    "    #classification\n",
    "    pred_proba[pred_proba < alpha] = -1\n",
    "    pred_proba[pred_proba >= alpha] = 1\n",
    "    \n",
    "#     print('-------------')\n",
    "#     print('alpha: ', alpha)\n",
    "#     print('accuracy:', round(accuracy_score(y_test, pred_proba),3))\n",
    "#     print('precision: ', round(precision_score(y_test, pred_proba),3))\n",
    "#     print('recall: ', round(recall_score(y_test, pred_proba),3))\n",
    "#     print('f1-score: ', round(f1_score(y_test, pred_proba),3))\n",
    "#     print('raito: ', round(100*(pred_proba==1).sum()/len(pred_proba),2),'%')\n",
    "    \n",
    "    acc_ls+=[round(accuracy_score(y_test, pred_proba),3)]\n",
    "    prec_ls+=[round(precision_score(y_test, pred_proba),3)]\n",
    "    recall_ls+=[round(recall_score(y_test, pred_proba),3)]\n",
    "    f1_ls+=[round(f1_score(y_test, pred_proba),3)]\n",
    "    ratio_ls+=[round(100*(pred_proba==1).sum()/len(pred_proba),2)]"
   ]
  },
  {
   "cell_type": "code",
   "execution_count": 106,
   "metadata": {},
   "outputs": [
    {
     "data": {
      "text/html": [
       "<div>\n",
       "<style scoped>\n",
       "    .dataframe tbody tr th:only-of-type {\n",
       "        vertical-align: middle;\n",
       "    }\n",
       "\n",
       "    .dataframe tbody tr th {\n",
       "        vertical-align: top;\n",
       "    }\n",
       "\n",
       "    .dataframe thead th {\n",
       "        text-align: right;\n",
       "    }\n",
       "</style>\n",
       "<table border=\"1\" class=\"dataframe\">\n",
       "  <thead>\n",
       "    <tr style=\"text-align: right;\">\n",
       "      <th></th>\n",
       "      <th>Threshold</th>\n",
       "      <th>Accuracy</th>\n",
       "      <th>Precision</th>\n",
       "      <th>Recall</th>\n",
       "      <th>F1-score</th>\n",
       "      <th>Ratio</th>\n",
       "    </tr>\n",
       "  </thead>\n",
       "  <tbody>\n",
       "    <tr>\n",
       "      <th>0</th>\n",
       "      <td>0.20</td>\n",
       "      <td>0.984</td>\n",
       "      <td>0.863</td>\n",
       "      <td>0.948</td>\n",
       "      <td>0.903</td>\n",
       "      <td>8.44</td>\n",
       "    </tr>\n",
       "    <tr>\n",
       "      <th>1</th>\n",
       "      <td>0.25</td>\n",
       "      <td>0.986</td>\n",
       "      <td>0.898</td>\n",
       "      <td>0.922</td>\n",
       "      <td>0.910</td>\n",
       "      <td>7.88</td>\n",
       "    </tr>\n",
       "    <tr>\n",
       "      <th>2</th>\n",
       "      <td>0.30</td>\n",
       "      <td>0.986</td>\n",
       "      <td>0.911</td>\n",
       "      <td>0.911</td>\n",
       "      <td>0.911</td>\n",
       "      <td>7.68</td>\n",
       "    </tr>\n",
       "    <tr>\n",
       "      <th>3</th>\n",
       "      <td>0.35</td>\n",
       "      <td>0.985</td>\n",
       "      <td>0.919</td>\n",
       "      <td>0.885</td>\n",
       "      <td>0.902</td>\n",
       "      <td>7.40</td>\n",
       "    </tr>\n",
       "    <tr>\n",
       "      <th>4</th>\n",
       "      <td>0.40</td>\n",
       "      <td>0.985</td>\n",
       "      <td>0.933</td>\n",
       "      <td>0.870</td>\n",
       "      <td>0.900</td>\n",
       "      <td>7.16</td>\n",
       "    </tr>\n",
       "    <tr>\n",
       "      <th>5</th>\n",
       "      <td>0.45</td>\n",
       "      <td>0.985</td>\n",
       "      <td>0.948</td>\n",
       "      <td>0.854</td>\n",
       "      <td>0.899</td>\n",
       "      <td>6.92</td>\n",
       "    </tr>\n",
       "    <tr>\n",
       "      <th>6</th>\n",
       "      <td>0.50</td>\n",
       "      <td>0.984</td>\n",
       "      <td>0.947</td>\n",
       "      <td>0.839</td>\n",
       "      <td>0.890</td>\n",
       "      <td>6.80</td>\n",
       "    </tr>\n",
       "    <tr>\n",
       "      <th>7</th>\n",
       "      <td>0.55</td>\n",
       "      <td>0.982</td>\n",
       "      <td>0.945</td>\n",
       "      <td>0.812</td>\n",
       "      <td>0.874</td>\n",
       "      <td>6.60</td>\n",
       "    </tr>\n",
       "    <tr>\n",
       "      <th>8</th>\n",
       "      <td>0.60</td>\n",
       "      <td>0.980</td>\n",
       "      <td>0.955</td>\n",
       "      <td>0.781</td>\n",
       "      <td>0.860</td>\n",
       "      <td>6.28</td>\n",
       "    </tr>\n",
       "    <tr>\n",
       "      <th>9</th>\n",
       "      <td>0.65</td>\n",
       "      <td>0.978</td>\n",
       "      <td>0.960</td>\n",
       "      <td>0.750</td>\n",
       "      <td>0.842</td>\n",
       "      <td>6.00</td>\n",
       "    </tr>\n",
       "    <tr>\n",
       "      <th>10</th>\n",
       "      <td>0.70</td>\n",
       "      <td>0.975</td>\n",
       "      <td>0.957</td>\n",
       "      <td>0.703</td>\n",
       "      <td>0.811</td>\n",
       "      <td>5.64</td>\n",
       "    </tr>\n",
       "  </tbody>\n",
       "</table>\n",
       "</div>"
      ],
      "text/plain": [
       "    Threshold  Accuracy  Precision  Recall  F1-score  Ratio\n",
       "0        0.20     0.984      0.863   0.948     0.903   8.44\n",
       "1        0.25     0.986      0.898   0.922     0.910   7.88\n",
       "2        0.30     0.986      0.911   0.911     0.911   7.68\n",
       "3        0.35     0.985      0.919   0.885     0.902   7.40\n",
       "4        0.40     0.985      0.933   0.870     0.900   7.16\n",
       "5        0.45     0.985      0.948   0.854     0.899   6.92\n",
       "6        0.50     0.984      0.947   0.839     0.890   6.80\n",
       "7        0.55     0.982      0.945   0.812     0.874   6.60\n",
       "8        0.60     0.980      0.955   0.781     0.860   6.28\n",
       "9        0.65     0.978      0.960   0.750     0.842   6.00\n",
       "10       0.70     0.975      0.957   0.703     0.811   5.64"
      ]
     },
     "execution_count": 106,
     "metadata": {},
     "output_type": "execute_result"
    }
   ],
   "source": [
    "data = {'Threshold': alpha_ls, 'Accuracy':acc_ls, 'Precision':prec_ls, \\\n",
    "        'Recall':recall_ls, 'F1-score':f1_ls, 'Ratio':ratio_ls}\n",
    "pd.DataFrame(data)"
   ]
  },
  {
   "cell_type": "code",
   "execution_count": 107,
   "metadata": {},
   "outputs": [
    {
     "data": {
      "image/png": "[encoded data removed]",
      "text/plain": [
       "<Figure size 432x288 with 1 Axes>"
      ]
     },
     "metadata": {
      "image/png": {
       "height": 270,
       "width": 383
      },
      "needs_background": "light"
     },
     "output_type": "display_data"
    }
   ],
   "source": [
    "plt.plot(alpha_ls, acc_ls,'r*:', label='Accuracy') \n",
    "plt.plot(alpha_ls, prec_ls, 'bo:', label='Precision')\n",
    "plt.plot(alpha_ls, recall_ls, 'g^:', label='Recall')\n",
    "plt.plot(alpha_ls, f1_ls, 'yx:', label='F1-score')\n",
    "plt.legend(loc=0)\n",
    "plt.xlabel('Threshold')\n",
    "plt.show()"
   ]
  },
  {
   "cell_type": "markdown",
   "metadata": {},
   "source": [
    "- Threshold를 작게 만들어서 민감하게 만들 수록 recall은 커지는 반면에 precision은 작아진다.\n",
    "    즉, negative class에 대한 정확도를 희생해서 positve class의 정확도를 올린 것.\n",
    "- precision을 얼마나 희생하고 recall을 올릴 것인가의 문제가 있기 때문에 F1-score로 판단.\n",
    "- F1-score은 threshold=0.3일 때가 가장 최대치. 그리고 이때 CTR(=#of+1/total)도 예측값과 정답이 7.68 동일해짐.\n",
    "- 따라서 threshold=0.3으로 설정하여 FM을 비용민감모델로 만든다면 정확한 CTR값을 예측할 수 있다."
   ]
  },
  {
   "cell_type": "markdown",
   "metadata": {},
   "source": [
    "# 4.재샘플링으로 클래스 불균형 문제 해결하기"
   ]
  },
  {
   "cell_type": "code",
   "execution_count": null,
   "metadata": {},
   "outputs": [],
   "source": []
  }
 ],
 "metadata": {
  "kernelspec": {
   "display_name": "Python 3",
   "language": "python",
   "name": "python3"
  },
  "language_info": {
   "codemirror_mode": {
    "name": "ipython",
    "version": 3
   },
   "file_extension": ".py",
   "mimetype": "text/x-python",
   "name": "python",
   "nbconvert_exporter": "python",
   "pygments_lexer": "ipython3",
   "version": "3.6.5"
  }
 },
 "nbformat": 4,
 "nbformat_minor": 2
}
