{
 "cells": [
  {
   "cell_type": "code",
   "execution_count": 1,
   "metadata": {},
   "outputs": [],
   "source": [
    "from sklearn.feature_extraction import DictVectorizer\n",
    "from sklearn.model_selection import train_test_split\n",
    "from sklearn.metrics import accuracy_score\n",
    "from sklearn.preprocessing import minmax_scale\n",
    "\n",
    "import time\n",
    "import warnings\n",
    "warnings.filterwarnings('ignore')"
   ]
  },
  {
   "cell_type": "code",
   "execution_count": 2,
   "metadata": {},
   "outputs": [],
   "source": [
    "from fastFM.datasets import make_user_item_regression\n",
    "\n",
    "# This sets up a small test dataset.\n",
    "X, y, _ = make_user_item_regression(n_user=1000, n_item=100)\n",
    "\n",
    "# Convert dataset to binary classification task.\n",
    "y_labels = np.ones_like(y)\n",
    "y_labels[y < np.mean(y)] = -1\n",
    "#print(y_labels)\n",
    "X_train, X_test, y_train, y_test = train_test_split(X, y_labels)\n",
    "#print(X_train.toarray())\n"
   ]
  },
  {
   "cell_type": "code",
   "execution_count": 3,
   "metadata": {},
   "outputs": [
    {
     "name": "stdout",
     "output_type": "stream",
     "text": [
      "[train] number of +1/number of y :  0.4921333333333333\n",
      "[test] number of +1/number of y :  0.49452\n"
     ]
    }
   ],
   "source": [
    "print('[train] number of +1/number of y : ', (y_train==1).sum()/len(y_train))\n",
    "print('[test] number of +1/number of y : ', (y_test==1).sum()/len(y_test))\n"
   ]
  },
  {
   "cell_type": "markdown",
   "metadata": {},
   "source": [
    "# 1. pyFM"
   ]
  },
  {
   "cell_type": "code",
   "execution_count": 4,
   "metadata": {},
   "outputs": [
    {
     "name": "stdout",
     "output_type": "stream",
     "text": [
      "Creating validation dataset of 0.01 of training for adaptive regularization\n",
      "-- Epoch 1\n",
      "Training log loss: 0.66384\n",
      "-- Epoch 2\n",
      "Training log loss: 0.61586\n",
      "-- Epoch 3\n",
      "Training log loss: 0.58063\n",
      "-- Epoch 4\n",
      "Training log loss: 0.55406\n",
      "-- Epoch 5\n",
      "Training log loss: 0.53334\n",
      "-- Epoch 6\n",
      "Training log loss: 0.51677\n",
      "-- Epoch 7\n",
      "Training log loss: 0.50304\n",
      "-- Epoch 8\n",
      "Training log loss: 0.49143\n",
      "-- Epoch 9\n",
      "Training log loss: 0.48133\n",
      "-- Epoch 10\n",
      "Training log loss: 0.47245\n",
      "--- 23.32673478126526 seconds ---\n"
     ]
    }
   ],
   "source": [
    "from pyfm import pylibfm\n",
    "\n",
    "# check time\n",
    "start_time = time.time()\n",
    "\n",
    "# Build and train a Factorization Machine\n",
    "pyFM = pylibfm.FM(num_factors=10, num_iter=10, verbose=True, task=\"classification\", initial_learning_rate=0.001, learning_rate_schedule=\"optimal\")\n",
    "\n",
    "pyFM.fit(X_train,y_train)\n",
    "\n",
    "# check time\n",
    "print(\"--- %s seconds ---\" % (time.time() - start_time))"
   ]
  },
  {
   "cell_type": "code",
   "execution_count": 7,
   "metadata": {},
   "outputs": [
    {
     "name": "stdout",
     "output_type": "stream",
     "text": [
      "-----------------\n",
      "alpha:  0.5\n",
      "acc: 0.7924\n",
      "raito:  0.46996\n",
      "-----------------\n"
     ]
    }
   ],
   "source": [
    "alpha = 0.5\n",
    "\n",
    "# prediction\n",
    "preds = pyFM.predict(X_test)\n",
    "preds = minmax_scale(preds)\n",
    "\n",
    "#classification\n",
    "preds[preds < alpha] = -1\n",
    "preds[preds >= alpha] = 1\n",
    "\n",
    "print('-----------------')\n",
    "print('alpha: ', alpha)\n",
    "print('acc:', accuracy_score(y_test, preds))\n",
    "print('raito: ', (preds==1).sum()/len(preds))\n",
    "print('-----------------')"
   ]
  },
  {
   "cell_type": "markdown",
   "metadata": {},
   "source": [
    "# 2. fast FM"
   ]
  },
  {
   "cell_type": "code",
   "execution_count": 13,
   "metadata": {},
   "outputs": [
    {
     "name": "stdout",
     "output_type": "stream",
     "text": [
      "acc: 0.97492\n",
      "raito:  0.49168\n",
      "--- 0.0913231372833252 seconds ---\n"
     ]
    }
   ],
   "source": [
    "from fastFM import sgd\n",
    "\n",
    "# check time\n",
    "start_time = time.time()\n",
    "\n",
    "# fastFM = sgd.FMClassification(n_iter=1000, init_stdev=0.1, rank=2, step_size=0.02)\n",
    "fastFM = sgd.FMClassification(n_iter=500000, init_stdev=0.1, l2_reg_w=0,\\\n",
    "                          l2_reg_V=0, rank=2, step_size=0.1)\n",
    "fastFM.fit(X_train, y_train)\n",
    "\n",
    "preds_fm = fastFM.predict(X_test)\n",
    "\n",
    "print('acc:', accuracy_score(y_test, preds_fm))\n",
    "print('raito: ', (preds_fm==1).sum()/len(preds_fm))\n",
    "# check time\n",
    "print(\"--- %s seconds ---\" % (time.time() - start_time))\n"
   ]
  },
  {
   "cell_type": "code",
   "execution_count": 9,
   "metadata": {},
   "outputs": [
    {
     "data": {
      "text/plain": [
       "0.95676"
      ]
     },
     "execution_count": 9,
     "metadata": {},
     "output_type": "execute_result"
    }
   ],
   "source": [
    "# cf)\n",
    "accuracy_score(y_train, fastFM.predict(X_train))"
   ]
  },
  {
   "cell_type": "code",
   "execution_count": 10,
   "metadata": {},
   "outputs": [
    {
     "name": "stdout",
     "output_type": "stream",
     "text": [
      "----------------\n",
      "alpha:  0.5\n",
      "acc: 0.95092\n",
      "raito:  0.50448\n",
      "----------------\n"
     ]
    }
   ],
   "source": [
    "for alpha in [0.5]:\n",
    "\n",
    "    # probability 형태로도 예측 가능\n",
    "    pred_proba = fastFM.predict_proba(X_test)\n",
    "    pred_proba = minmax_scale(pred_proba)\n",
    "\n",
    "    #classification\n",
    "    pred_proba[pred_proba < alpha] = -1\n",
    "    pred_proba[pred_proba >= alpha] = 1\n",
    "    \n",
    "    print('----------------')\n",
    "    print('alpha: ', alpha)\n",
    "    print('acc:', accuracy_score(y_test, pred_proba))\n",
    "    print('raito: ', (pred_proba==1).sum()/len(pred_proba))\n",
    "    print('----------------')"
   ]
  },
  {
   "cell_type": "markdown",
   "metadata": {},
   "source": [
    "# 3. SVM polynomial kernel"
   ]
  },
  {
   "cell_type": "code",
   "execution_count": 11,
   "metadata": {},
   "outputs": [],
   "source": [
    "from sklearn.svm import SVC"
   ]
  },
  {
   "cell_type": "code",
   "execution_count": 12,
   "metadata": {},
   "outputs": [
    {
     "name": "stdout",
     "output_type": "stream",
     "text": [
      "acc: 0.97208\n",
      "raito:  0.4974\n",
      "--- 179.4590449333191 seconds ---\n"
     ]
    }
   ],
   "source": [
    "# check time\n",
    "start_time = time.time()\n",
    "\n",
    "clf = SVC(C=1.0, kernel='poly', degree=2, gamma = 2)\n",
    "classifier = clf.fit(X_train,y_train)\n",
    "\n",
    "preds_SVC = classifier.predict(X_test)\n",
    "\n",
    "print('acc:', accuracy_score(y_test, preds_SVC))\n",
    "print('raito: ', (preds_SVC==1).sum()/len(preds_SVC))\n",
    "\n",
    "# check time\n",
    "print(\"--- %s seconds ---\" % (time.time() - start_time))"
   ]
  },
  {
   "cell_type": "markdown",
   "metadata": {},
   "source": [
    "- fastFM은 0.018초 걸림.\n",
    "    - parameter에 의존성이 좀 있음. interation number 등.\n",
    "- SVC는 1.214초가 걸림.\n",
    "    - parameter 설정할게 없고, degree만 정해주면 거의 최상의 값 찾아줌\n",
    "- accuracy는 0.96대로 동일하지만 fast FM이 압도적으로 빠름"
   ]
  },
  {
   "cell_type": "code",
   "execution_count": null,
   "metadata": {},
   "outputs": [],
   "source": []
  }
 ],
 "metadata": {
  "kernelspec": {
   "display_name": "Python 3",
   "language": "python",
   "name": "python3"
  },
  "language_info": {
   "codemirror_mode": {
    "name": "ipython",
    "version": 3
   },
   "file_extension": ".py",
   "mimetype": "text/x-python",
   "name": "python",
   "nbconvert_exporter": "python",
   "pygments_lexer": "ipython3",
   "version": "3.6.5"
  }
 },
 "nbformat": 4,
 "nbformat_minor": 2
}
