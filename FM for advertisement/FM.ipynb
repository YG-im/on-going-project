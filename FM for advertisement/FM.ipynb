{
 "cells": [
  {
   "cell_type": "code",
   "execution_count": 76,
   "metadata": {},
   "outputs": [],
   "source": [
    "from sklearn.feature_extraction import DictVectorizer\n",
    "from sklearn.model_selection import train_test_split\n",
    "from sklearn.metrics import accuracy_score\n",
    "from sklearn.preprocessing import minmax_scale\n",
    "\n",
    "import time\n",
    "import warnings\n",
    "warnings.filterwarnings('ignore')"
   ]
  },
  {
   "cell_type": "code",
   "execution_count": 112,
   "metadata": {},
   "outputs": [],
   "source": [
    "# Read in data\n",
    "def loadData(filename,path=\"ml-100k/\"):\n",
    "    data = []\n",
    "    y = []\n",
    "    users=set()\n",
    "    items=set()\n",
    "    with open(path+filename) as f:\n",
    "        for line in f:\n",
    "            (user,movieid,rating,ts)=line.split('\\t')\n",
    "            data.append({ \"user_id\": str(user), \"movie_id\": str(movieid)})\n",
    "            y.append(float(rating))\n",
    "            users.add(user)\n",
    "            items.add(movieid)\n",
    "\n",
    "    return (data, np.array(y), users, items)\n",
    "\n",
    "(train_data, y_train, train_users, train_items) = loadData(\"ua.base\")\n",
    "(test_data, y_test, test_users, test_items) = loadData(\"ua.test\")"
   ]
  },
  {
   "cell_type": "code",
   "execution_count": 118,
   "metadata": {},
   "outputs": [
    {
     "name": "stdout",
     "output_type": "stream",
     "text": [
      "samples:  90570\n",
      "{'user_id': '1', 'movie_id': '1'} 5.0\n",
      "label's categories:  {1.0, 2.0, 3.0, 4.0, 5.0}\n",
      "label's categories:  {1.0, -1.0}\n"
     ]
    }
   ],
   "source": [
    "#data properties\n",
    "print('samples: ', len(train_data))\n",
    "print(train_data[0], y_train[0])\n",
    "print('label\\'s categories: ', set(y_train))\n",
    "'''\n",
    "click_through rate형태로 변형하기 위해서\n",
    "별점 5는 클릭할 것이다 = 1\n",
    "별점 1,2,3,4은 클릭하지 않을 것이다 =-1\n",
    "'''\n",
    "y_train[y_train <5]=-1 \n",
    "y_train[y_train ==5]=1 \n",
    "\n",
    "y_test[y_test <5]=-1 \n",
    "y_test[y_test ==5]=1 \n",
    "print('label\\'s categories: ', set(y_train))"
   ]
  },
  {
   "cell_type": "code",
   "execution_count": 120,
   "metadata": {},
   "outputs": [
    {
     "name": "stdout",
     "output_type": "stream",
     "text": [
      "[train] number of +1/number of y :  0.2103124654963012\n",
      "[test] number of +1/number of y :  0.22831389183457051\n"
     ]
    }
   ],
   "source": [
    "print('[train] number of +1/number of y : ', (y_train==1).sum()/len(y_train))\n",
    "print('[test] number of +1/number of y : ', (y_test==1).sum()/len(y_test))\n"
   ]
  },
  {
   "cell_type": "code",
   "execution_count": 121,
   "metadata": {},
   "outputs": [
    {
     "data": {
      "text/plain": [
       "array([[1., 0., 0., ..., 0., 0., 0.],\n",
       "       [0., 0., 0., ..., 0., 0., 0.],\n",
       "       [0., 0., 0., ..., 0., 0., 0.],\n",
       "       ...,\n",
       "       [0., 0., 0., ..., 0., 0., 0.],\n",
       "       [0., 0., 0., ..., 0., 0., 0.],\n",
       "       [0., 0., 0., ..., 0., 0., 0.]])"
      ]
     },
     "execution_count": 121,
     "metadata": {},
     "output_type": "execute_result"
    }
   ],
   "source": [
    "v = DictVectorizer()\n",
    "X_train = v.fit_transform(train_data)\n",
    "X_test = v.transform(test_data)\n",
    "\n",
    "#X_train \n",
    "X_train.toarray()"
   ]
  },
  {
   "cell_type": "markdown",
   "metadata": {},
   "source": [
    "# 1. pyFM"
   ]
  },
  {
   "cell_type": "code",
   "execution_count": 122,
   "metadata": {},
   "outputs": [
    {
     "name": "stdout",
     "output_type": "stream",
     "text": [
      "Creating validation dataset of 0.01 of training for adaptive regularization\n",
      "-- Epoch 1\n",
      "Training log loss: 0.51638\n",
      "-- Epoch 2\n",
      "Training log loss: 0.50573\n",
      "-- Epoch 3\n",
      "Training log loss: 0.50028\n",
      "-- Epoch 4\n",
      "Training log loss: 0.49527\n",
      "-- Epoch 5\n",
      "Training log loss: 0.49068\n",
      "-- Epoch 6\n",
      "Training log loss: 0.48649\n",
      "-- Epoch 7\n",
      "Training log loss: 0.48264\n",
      "-- Epoch 8\n",
      "Training log loss: 0.47907\n",
      "-- Epoch 9\n",
      "Training log loss: 0.47578\n",
      "-- Epoch 10\n",
      "Training log loss: 0.47270\n",
      "--- 28.40037512779236 seconds ---\n"
     ]
    }
   ],
   "source": [
    "from pyfm import pylibfm\n",
    "\n",
    "# check time\n",
    "start_time = time.time()\n",
    "\n",
    "# Build and train a Factorization Machine\n",
    "pyFM = pylibfm.FM(num_factors=10, num_iter=10, verbose=True, task=\"classification\", initial_learning_rate=0.001, learning_rate_schedule=\"optimal\")\n",
    "\n",
    "pyFM.fit(X_train,y_train)\n",
    "\n",
    "# check time\n",
    "print(\"--- %s seconds ---\" % (time.time() - start_time))"
   ]
  },
  {
   "cell_type": "code",
   "execution_count": 126,
   "metadata": {},
   "outputs": [],
   "source": [
    "# prediction\n",
    "preds = pyFM.predict(X_test)\n",
    "preds = minmax_scale(preds)"
   ]
  },
  {
   "cell_type": "code",
   "execution_count": 127,
   "metadata": {},
   "outputs": [
    {
     "data": {
      "text/plain": [
       "0.2649964419563346"
      ]
     },
     "execution_count": 127,
     "metadata": {},
     "output_type": "execute_result"
    }
   ],
   "source": [
    "preds.mean()"
   ]
  },
  {
   "cell_type": "code",
   "execution_count": 128,
   "metadata": {},
   "outputs": [
    {
     "name": "stdout",
     "output_type": "stream",
     "text": [
      "acc: 0.7782608695652173\n"
     ]
    }
   ],
   "source": [
    "#classification\n",
    "preds[preds < 0.5] = -1\n",
    "preds[preds >= 0.5] = 1\n",
    "\n",
    "print('acc:', accuracy_score(y_test, preds))"
   ]
  },
  {
   "cell_type": "code",
   "execution_count": 136,
   "metadata": {},
   "outputs": [
    {
     "data": {
      "text/plain": [
       "0.05790031813361612"
      ]
     },
     "execution_count": 136,
     "metadata": {},
     "output_type": "execute_result"
    }
   ],
   "source": [
    "(preds==1).sum()/len(preds)"
   ]
  },
  {
   "cell_type": "markdown",
   "metadata": {},
   "source": [
    "# 2. fast FM"
   ]
  },
  {
   "cell_type": "code",
   "execution_count": 173,
   "metadata": {},
   "outputs": [
    {
     "name": "stdout",
     "output_type": "stream",
     "text": [
      "acc: 0.7716861081654295\n",
      "--- 0.02376389503479004 seconds ---\n"
     ]
    }
   ],
   "source": [
    "from fastFM import sgd\n",
    "\n",
    "# check time\n",
    "start_time = time.time()\n",
    "\n",
    "#fastFM = sgd.FMClassification(n_iter=1000, init_stdev=0.1, rank=2, step_size=0.02)\n",
    "fastFM = sgd.FMClassification(n_iter=1000, init_stdev=0.1, l2_reg_w=0,\\\n",
    "                          l2_reg_V=0, rank=2, step_size=0.1)\n",
    "fastFM.fit(X_train, y_train)\n",
    "\n",
    "preds_fm = fastFM.predict(X_test)\n",
    "\n",
    "print('acc:', accuracy_score(y_test, preds_fm))\n",
    "# check time\n",
    "print(\"--- %s seconds ---\" % (time.time() - start_time))"
   ]
  },
  {
   "cell_type": "code",
   "execution_count": 174,
   "metadata": {},
   "outputs": [
    {
     "data": {
      "text/plain": [
       "(7277, 0)"
      ]
     },
     "execution_count": 174,
     "metadata": {},
     "output_type": "execute_result"
    }
   ],
   "source": [
    "(y_test==-1).sum(), (preds_fm==1).sum()\n",
    "# 클래스 불균형 문제가 발생."
   ]
  },
  {
   "cell_type": "code",
   "execution_count": 175,
   "metadata": {},
   "outputs": [
    {
     "name": "stdout",
     "output_type": "stream",
     "text": [
      "acc: 0.6453870625662779\n",
      "[7277, 2281]\n"
     ]
    }
   ],
   "source": [
    "# probability 형태로도 예측 가능\n",
    "pred_proba = fastFM.predict_proba(X_test)\n",
    "pred_proba = minmax_scale(Ypred_proba)\n",
    "\n",
    "#classification\n",
    "alpha = 0.5\n",
    "pred_proba[pred_proba < alpha] = -1\n",
    "pred_proba[pred_proba >= alpha] = 1\n",
    "\n",
    "print('acc:', accuracy_score(y_test, pred_proba))\n",
    "print([(y_test==-1).sum(), (pred_proba==1).sum()])\n",
    "# 클래스 불균형 문제가 발생은 안함."
   ]
  },
  {
   "cell_type": "markdown",
   "metadata": {},
   "source": [
    "# 3. SVM polynomial kernel"
   ]
  },
  {
   "cell_type": "code",
   "execution_count": 51,
   "metadata": {},
   "outputs": [],
   "source": [
    "from sklearn.svm import SVC"
   ]
  },
  {
   "cell_type": "code",
   "execution_count": 143,
   "metadata": {},
   "outputs": [
    {
     "name": "stdout",
     "output_type": "stream",
     "text": [
      "acc: 0.7716861081654295\n",
      "--- 81.49648785591125 seconds ---\n"
     ]
    }
   ],
   "source": [
    "# check time\n",
    "start_time = time.time()\n",
    "\n",
    "clf = SVC(C=1.0, kernel='poly', degree=2, gamma = 'auto')\n",
    "classifier = clf.fit(X_train,y_train)\n",
    "\n",
    "preds_SVC = classifier.predict(X_test)\n",
    "#print(y_pred, y_pred_proba)\n",
    "print('acc:', accuracy_score(y_test, preds_SVC))\n",
    "\n",
    "# check time\n",
    "print(\"--- %s seconds ---\" % (time.time() - start_time))"
   ]
  },
  {
   "cell_type": "code",
   "execution_count": 145,
   "metadata": {},
   "outputs": [
    {
     "data": {
      "text/plain": [
       "0"
      ]
     },
     "execution_count": 145,
     "metadata": {},
     "output_type": "execute_result"
    }
   ],
   "source": [
    "(preds_SVC==1).sum()"
   ]
  },
  {
   "cell_type": "markdown",
   "metadata": {},
   "source": [
    "- classification으로 하니 클래스 불균형 문제 발생.\n",
    "    - click 정보가 압도적으로 적다보니 ....\n",
    "\n",
    "- fastFM은 0.0249초 걸림.\n",
    "    - parameter에 의존성이 좀 있음\n",
    "- SVC는 81.496초가 걸림.\n",
    "    - parameter 설정할게 없고, degree만 정해주면 최상의 값 찾아줌\n",
    "- accuracy는 0.057대로 동일하지만 fast FM이 압도적으로 빠름"
   ]
  },
  {
   "cell_type": "code",
   "execution_count": null,
   "metadata": {},
   "outputs": [],
   "source": []
  }
 ],
 "metadata": {
  "kernelspec": {
   "display_name": "Python 3",
   "language": "python",
   "name": "python3"
  },
  "language_info": {
   "codemirror_mode": {
    "name": "ipython",
    "version": 3
   },
   "file_extension": ".py",
   "mimetype": "text/x-python",
   "name": "python",
   "nbconvert_exporter": "python",
   "pygments_lexer": "ipython3",
   "version": "3.6.5"
  }
 },
 "nbformat": 4,
 "nbformat_minor": 2
}
