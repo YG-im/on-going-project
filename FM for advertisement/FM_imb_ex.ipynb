{
 "cells": [
  {
   "cell_type": "markdown",
   "metadata": {},
   "source": [
    "# Factorization Machine을 활용한 광고 CTR 예측 알고리즘\n",
    "- 광고 추천에는 user와 ad 사이의 interaction을 고려하는 것이 중요하다.\n",
    "- classification의 가장 대표적인 logit regression의 경우 linear한 영향만 고려하기 때문에 interaction을 고려하지 못한다.\n",
    "- Factorization Mahine(FM)은 광고 추천에 활용하면 user와 ad사이의 interaction을 고려한 알고리즘을 구축할 수 있다.\n",
    "- 또한, FM은 sparse data를 다루는데 특화가 되어있기 때문에 highly sparse data인 click-through data에 적합한 머신이라고 할 수 있다.\n",
    "- 이에 FM을 활용하여서 Click-Through Rate(CTR) 예측 알고리즘을 구축해보겠다.\n",
    "    - FM의 장점을 활용할 수 있는 새로운 CTR 계산법인 historical and predicted CTR (hpCTR)을 소개하겠다.\n",
    "- 더 나아가, CTR 데이터의 class는 positive class인 click(+1)과 negative class인 unclick(-1)로 구성되어있다. pisitive class는 전체 샘플 중  1~10%밖에 차지하지 않아서 클래스 불균형 문제가 존재한다. 따라서 본 노트에서는 클래스 불균형 문제가 있는 CTR 데이터에 대해서 재샘플링과 비용민감모델을 활용하여 클래스 불균형 문제를 해결해보겠다.\n",
    "- 본 실험은 'fastFM' library를 활용했다\n"
   ]
  },
  {
   "cell_type": "markdown",
   "metadata": {},
   "source": [
    "## 목차\n",
    "1. [데이터 생성 및 탐색](#1.-데이터-생성-및-탐색)\n",
    "1. [only Factorizaton Machines](#2.-only-Factorizaton-Machines)\n",
    "1. [비용민감모델+Factorizaton Machines](#3.-비용민감모델+Factorizaton-Machines)\n",
    "1. [재샘플링 : SMOTE, Borderline-SMOTE](#4.-재샘플링-:-SMOTE,-Borderline\\-SMOTE)\n",
    "1. [클래스 불균형 문제에대한 실험 결과](#5.-클래스-불균형-문제에대한-실험-결과)\n",
    "1. [hpCTR과 eCPM 예측 예시](#6.-hpCTR과-eCPM-예측-예시)\n",
    "\n"
   ]
  },
  {
   "cell_type": "code",
   "execution_count": 1,
   "metadata": {},
   "outputs": [],
   "source": [
    "import numpy as np\n",
    "import pandas as pd\n",
    "import matplotlib as mpl\n",
    "import matplotlib.pyplot as plt\n",
    "import time\n",
    "import warnings\n",
    "warnings.filterwarnings('ignore')\n",
    "\n",
    "from sklearn.feature_extraction import DictVectorizer\n",
    "from sklearn.model_selection import train_test_split\n",
    "from sklearn.metrics import accuracy_score, precision_score, recall_score, f1_score\n",
    "from sklearn.preprocessing import minmax_scale"
   ]
  },
  {
   "cell_type": "markdown",
   "metadata": {},
   "source": [
    "## 1. 데이터 생성 및 탐색\n",
    "- 데이터로는 fastFM에서 제공하는 FM 테스트 용 랜덤 데이터에 클래스 불균형을 준 데이터를 사용할 것이다.\n",
    "- 파이프라인 (자세한 설명은 발표자료 참고):  \n",
    "    1. 광고(ex) a)가 들어오면 그 광고는 clustering algorithm에의해서 이미 구축되어있는 A, B, C, .. clusters 중 적절한 cluster로 배정된다(ex) A). \n",
    "         - FM의 사이즈를 줄여서 머신 속도를 올리기위함. 실제 카카오에서는 clustering을 통한 차원 축소를 한다. [ref. Kakao AI report vol.05]\n",
    "    1. A cluster로 배정된 광고 a는 '클러스터의 모든 유저+광고a'를 concatenate하여 A cluster의 FM에 태운다.\n",
    "    1. A의 FM은 모든 유저에게 한번씩 노출되었을 시 광고 a가 클릭될 비율인 hpCTR을 예측하여 출력한다."
   ]
  },
  {
   "cell_type": "markdown",
   "metadata": {},
   "source": [
    "### 데이터 수집(생성)\n",
    "- 데이터 수집단계 대신 fastFM에서 제공하는 데이터 생성 알고리즘을 통해서 데이터를 생성하고 raw 데이터 형태로 변경해서 시작하겠다."
   ]
  },
  {
   "cell_type": "code",
   "execution_count": 2,
   "metadata": {},
   "outputs": [
    {
     "name": "stdout",
     "output_type": "stream",
     "text": [
      "The data has the below form.\n",
      " >> [{'user': '0', 'AD': '0'}, {'user': '0', 'AD': '1'}, {'user': '0', 'AD': '2'}, {'user': '0', 'AD': '3'}, {'user': '0', 'AD': '4'}, {'user': '0', 'AD': '5'}, {'user': '0', 'AD': '6'}, {'user': '0', 'AD': '7'}, {'user': '0', 'AD': '8'}, {'user': '0', 'AD': '9'}, {'user': '0', 'AD': '10'}, {'user': '0', 'AD': '11'}, {'user': '0', 'AD': '12'}, {'user': '0', 'AD': '13'}, {'user': '0', 'AD': '14'}, {'user': '0', 'AD': '15'}, {'user': '0', 'AD': '16'}, {'user': '0', 'AD': '17'}, {'user': '0', 'AD': '18'}, {'user': '0', 'AD': '19'}]\n"
     ]
    }
   ],
   "source": [
    "from fastFM.datasets import make_user_item_regression\n",
    "\n",
    "num_of_users = 100 # 생성할 데이터의 user 수\n",
    "num_of_items = 100 # 생성할 데이터의 item 수 (광고들)\n",
    "for_imbalance = 223 #클래스 불균형을 만들기위한 수치. cf) 불균형 X: y.mean()\n",
    "\n",
    "# This sets up a small test dataset.\n",
    "X, y, _ = make_user_item_regression(n_user=num_of_users, n_item=num_of_items)\n",
    "\n",
    "# Convert dataset to binary classification task.\n",
    "y_labels = np.ones_like(y)\n",
    "y_labels[y < for_imbalance] = -1 \n",
    "\n",
    "# convert the data into the form of the raw data.\n",
    "X_ar = X.toarray()\n",
    "X_raw = [{'user': '{}'.format(X_ar[i][:100].argmax()), \\\n",
    "                      'AD': '{}'.format(X_ar[i][100:].argmax())} \\\n",
    "                      for i in range(len(X_ar))]\n",
    "print('The data has the below form.\\n', '>>',\\\n",
    "      X_raw[:20])\n"
   ]
  },
  {
   "cell_type": "markdown",
   "metadata": {},
   "source": [
    "### 데이터 전처리 및 탐색\n",
    "- 수집된 로우 데이터 sklearn의 DictVectorizer을 활용하여서 벡터로 만들어주겠다.\n",
    "- 특징과 클래스, sparsity, imbalance 등을 탐색하는 데이터 탐색을 진행하겠다."
   ]
  },
  {
   "cell_type": "code",
   "execution_count": 3,
   "metadata": {},
   "outputs": [
    {
     "name": "stdout",
     "output_type": "stream",
     "text": [
      "  (0, 0)\t1.0\n",
      "  (0, 100)\t1.0\n",
      "  (1, 1)\t1.0\n",
      "  (1, 100)\t1.0\n",
      "  (2, 12)\t1.0\n",
      "  (2, 100)\t1.0\n",
      "  (3, 23)\t1.0\n",
      "  (3, 100)\t1.0\n",
      "  (4, 34)\t1.0\n",
      "  (4, 100)\t1.0\n"
     ]
    }
   ],
   "source": [
    "# {'user': '95', 'AD': '0'} -> [0,0,..,1,0,0,..,0,0,..,1,0,...]\n",
    "v = DictVectorizer()\n",
    "X_vec = v.fit_transform(X_raw)\n",
    "print(X_vec[:5])"
   ]
  },
  {
   "cell_type": "code",
   "execution_count": 4,
   "metadata": {},
   "outputs": [],
   "source": [
    "X_train, X_test, y_train, y_test = train_test_split(X_vec, y_labels, random_state=77)\n",
    "#print(X_train.toarray())"
   ]
  },
  {
   "cell_type": "code",
   "execution_count": 5,
   "metadata": {},
   "outputs": [
    {
     "name": "stdout",
     "output_type": "stream",
     "text": [
      "(7500, 201)\n",
      "cf) click: \"+1=click, -1=unclick\"\n"
     ]
    },
    {
     "data": {
      "text/html": [
       "<div>\n",
       "<style scoped>\n",
       "    .dataframe tbody tr th:only-of-type {\n",
       "        vertical-align: middle;\n",
       "    }\n",
       "\n",
       "    .dataframe tbody tr th {\n",
       "        vertical-align: top;\n",
       "    }\n",
       "\n",
       "    .dataframe thead th {\n",
       "        text-align: right;\n",
       "    }\n",
       "</style>\n",
       "<table border=\"1\" class=\"dataframe\">\n",
       "  <thead>\n",
       "    <tr style=\"text-align: right;\">\n",
       "      <th></th>\n",
       "      <th>click</th>\n",
       "      <th>user0</th>\n",
       "      <th>user1</th>\n",
       "      <th>user2</th>\n",
       "      <th>user3</th>\n",
       "      <th>user4</th>\n",
       "      <th>user5</th>\n",
       "      <th>user6</th>\n",
       "      <th>user7</th>\n",
       "      <th>user8</th>\n",
       "      <th>...</th>\n",
       "      <th>AD90</th>\n",
       "      <th>AD91</th>\n",
       "      <th>AD92</th>\n",
       "      <th>AD93</th>\n",
       "      <th>AD94</th>\n",
       "      <th>AD95</th>\n",
       "      <th>AD96</th>\n",
       "      <th>AD97</th>\n",
       "      <th>AD98</th>\n",
       "      <th>AD99</th>\n",
       "    </tr>\n",
       "  </thead>\n",
       "  <tbody>\n",
       "    <tr>\n",
       "      <th>0</th>\n",
       "      <td>-1.0</td>\n",
       "      <td>0.0</td>\n",
       "      <td>0.0</td>\n",
       "      <td>0.0</td>\n",
       "      <td>0.0</td>\n",
       "      <td>0.0</td>\n",
       "      <td>0.0</td>\n",
       "      <td>0.0</td>\n",
       "      <td>0.0</td>\n",
       "      <td>0.0</td>\n",
       "      <td>...</td>\n",
       "      <td>0.0</td>\n",
       "      <td>0.0</td>\n",
       "      <td>0.0</td>\n",
       "      <td>0.0</td>\n",
       "      <td>0.0</td>\n",
       "      <td>0.0</td>\n",
       "      <td>0.0</td>\n",
       "      <td>0.0</td>\n",
       "      <td>0.0</td>\n",
       "      <td>0.0</td>\n",
       "    </tr>\n",
       "    <tr>\n",
       "      <th>1</th>\n",
       "      <td>-1.0</td>\n",
       "      <td>0.0</td>\n",
       "      <td>0.0</td>\n",
       "      <td>0.0</td>\n",
       "      <td>0.0</td>\n",
       "      <td>0.0</td>\n",
       "      <td>0.0</td>\n",
       "      <td>0.0</td>\n",
       "      <td>0.0</td>\n",
       "      <td>0.0</td>\n",
       "      <td>...</td>\n",
       "      <td>0.0</td>\n",
       "      <td>0.0</td>\n",
       "      <td>0.0</td>\n",
       "      <td>0.0</td>\n",
       "      <td>0.0</td>\n",
       "      <td>0.0</td>\n",
       "      <td>0.0</td>\n",
       "      <td>0.0</td>\n",
       "      <td>0.0</td>\n",
       "      <td>0.0</td>\n",
       "    </tr>\n",
       "    <tr>\n",
       "      <th>2</th>\n",
       "      <td>-1.0</td>\n",
       "      <td>0.0</td>\n",
       "      <td>0.0</td>\n",
       "      <td>0.0</td>\n",
       "      <td>0.0</td>\n",
       "      <td>0.0</td>\n",
       "      <td>0.0</td>\n",
       "      <td>0.0</td>\n",
       "      <td>1.0</td>\n",
       "      <td>0.0</td>\n",
       "      <td>...</td>\n",
       "      <td>0.0</td>\n",
       "      <td>0.0</td>\n",
       "      <td>0.0</td>\n",
       "      <td>0.0</td>\n",
       "      <td>0.0</td>\n",
       "      <td>0.0</td>\n",
       "      <td>0.0</td>\n",
       "      <td>0.0</td>\n",
       "      <td>0.0</td>\n",
       "      <td>0.0</td>\n",
       "    </tr>\n",
       "    <tr>\n",
       "      <th>3</th>\n",
       "      <td>-1.0</td>\n",
       "      <td>0.0</td>\n",
       "      <td>0.0</td>\n",
       "      <td>0.0</td>\n",
       "      <td>0.0</td>\n",
       "      <td>0.0</td>\n",
       "      <td>0.0</td>\n",
       "      <td>0.0</td>\n",
       "      <td>0.0</td>\n",
       "      <td>0.0</td>\n",
       "      <td>...</td>\n",
       "      <td>0.0</td>\n",
       "      <td>0.0</td>\n",
       "      <td>0.0</td>\n",
       "      <td>0.0</td>\n",
       "      <td>0.0</td>\n",
       "      <td>0.0</td>\n",
       "      <td>0.0</td>\n",
       "      <td>0.0</td>\n",
       "      <td>0.0</td>\n",
       "      <td>0.0</td>\n",
       "    </tr>\n",
       "    <tr>\n",
       "      <th>4</th>\n",
       "      <td>-1.0</td>\n",
       "      <td>0.0</td>\n",
       "      <td>0.0</td>\n",
       "      <td>0.0</td>\n",
       "      <td>0.0</td>\n",
       "      <td>0.0</td>\n",
       "      <td>1.0</td>\n",
       "      <td>0.0</td>\n",
       "      <td>0.0</td>\n",
       "      <td>0.0</td>\n",
       "      <td>...</td>\n",
       "      <td>0.0</td>\n",
       "      <td>0.0</td>\n",
       "      <td>0.0</td>\n",
       "      <td>0.0</td>\n",
       "      <td>0.0</td>\n",
       "      <td>0.0</td>\n",
       "      <td>0.0</td>\n",
       "      <td>0.0</td>\n",
       "      <td>0.0</td>\n",
       "      <td>0.0</td>\n",
       "    </tr>\n",
       "  </tbody>\n",
       "</table>\n",
       "<p>5 rows × 201 columns</p>\n",
       "</div>"
      ],
      "text/plain": [
       "   click  user0  user1  user2  user3  user4  user5  user6  user7  user8  ...  \\\n",
       "0   -1.0    0.0    0.0    0.0    0.0    0.0    0.0    0.0    0.0    0.0  ...   \n",
       "1   -1.0    0.0    0.0    0.0    0.0    0.0    0.0    0.0    0.0    0.0  ...   \n",
       "2   -1.0    0.0    0.0    0.0    0.0    0.0    0.0    0.0    1.0    0.0  ...   \n",
       "3   -1.0    0.0    0.0    0.0    0.0    0.0    0.0    0.0    0.0    0.0  ...   \n",
       "4   -1.0    0.0    0.0    0.0    0.0    0.0    1.0    0.0    0.0    0.0  ...   \n",
       "\n",
       "   AD90  AD91  AD92  AD93  AD94  AD95  AD96  AD97  AD98  AD99  \n",
       "0   0.0   0.0   0.0   0.0   0.0   0.0   0.0   0.0   0.0   0.0  \n",
       "1   0.0   0.0   0.0   0.0   0.0   0.0   0.0   0.0   0.0   0.0  \n",
       "2   0.0   0.0   0.0   0.0   0.0   0.0   0.0   0.0   0.0   0.0  \n",
       "3   0.0   0.0   0.0   0.0   0.0   0.0   0.0   0.0   0.0   0.0  \n",
       "4   0.0   0.0   0.0   0.0   0.0   0.0   0.0   0.0   0.0   0.0  \n",
       "\n",
       "[5 rows x 201 columns]"
      ]
     },
     "execution_count": 5,
     "metadata": {},
     "output_type": "execute_result"
    }
   ],
   "source": [
    "# X_train and y_train in DataFrame\n",
    "col = ['user{}'.format(i) for i in range(num_of_users)] \\\n",
    "+ ['AD{}'.format(i) for i in range(num_of_items)]\n",
    "x_df = pd.DataFrame(X_train.toarray(), columns=col)\n",
    "y_df = pd.Series(y_train,name='click')\n",
    "df = pd.concat([y_df, x_df],axis=1)\n",
    "print(df.shape)\n",
    "print('cf) click: \"+1=click, -1=unclick\"')\n",
    "df.head()"
   ]
  },
  {
   "cell_type": "code",
   "execution_count": 6,
   "metadata": {},
   "outputs": [
    {
     "name": "stdout",
     "output_type": "stream",
     "text": [
      "[train] ratio =  7.17 %\n",
      "[train] number of positive class(+1) =  538 ,  number of negative class(-1) =  6962\n",
      "[train] sparsity:  1.0 %\n"
     ]
    }
   ],
   "source": [
    "# 전체 광고와 전체 유저를 대상으로한 raio = number_of_+1/total_number_of_y \n",
    "print('[train] ratio = ', round(100*(y_train==1).sum()/len(y_train),2),'%') \n",
    "# number of positive and negative class\n",
    "print('[train]','number of positive class(+1) = ', (y_train==1).sum(),', ','number of negative class(-1) = ', len(y_train)-(y_train==1).sum())\n",
    "# sparsity\n",
    "print('[train] sparsity: ',100*X_train.toarray().sum()/(7500*200), '%')"
   ]
  },
  {
   "cell_type": "markdown",
   "metadata": {},
   "source": [
    "**데이터 탐색 결과**\n",
    "- Features :\n",
    "    - 전체 x값들 중 1.0%만 값을 가지고 나머지는 전부 0이다. 데이터가 highly sparse하다.\n",
    "    - 특징들은 크게 user와 AD(광고) 그룹으로 이루어져있다. CTR 예측에서는 둘 사이의 interaction을 고려해야한다.\n",
    "    - 따라서, sparse한 데이터셋에서 interaction을 고려하기 용이한 FM을 사용하겠다.\n",
    "- class : \n",
    "    - 전체 y값들 중 약 7~8%만 positive class(+1)이고 나머지는 negative class(-1)이다. \n",
    "    - 클래스 불균형이 심하다.\n",
    "    - 비용민감모델/재샘플링을 적용하여 클래스 불균형 문제를 해결하겠다.\n",
    "    "
   ]
  },
  {
   "cell_type": "markdown",
   "metadata": {},
   "source": [
    "## 2. only Factorizaton Machines\n",
    "- 뒤에 나올 비용민감모델과 재샘플링 실험에 대한 대조군을 위해서 데이터에 대한 처리나 모델의 수정 없이 FM을 돌려서 click-through 데이터를 훈련시키고, test set에 대한 예측을 진행해보겠다."
   ]
  },
  {
   "cell_type": "code",
   "execution_count": 7,
   "metadata": {},
   "outputs": [
    {
     "name": "stdout",
     "output_type": "stream",
     "text": [
      "--------------------\n",
      "Accuracy: 0.987\n",
      "Precision:  0.958\n",
      "Recall:  0.864\n",
      "F1-score:  0.909\n",
      "Ratio:  6.64 %\n",
      "--- 0.02412 seconds ---\n"
     ]
    }
   ],
   "source": [
    "from fastFM import sgd\n",
    "\n",
    "# check time\n",
    "start_time = time.time()\n",
    "\n",
    "fastFM = sgd.FMClassification(n_iter=100000, init_stdev=0.1, l2_reg_w=0,\\\n",
    "                          l2_reg_V=0, rank=2, step_size=0.1)\n",
    "fastFM.fit(X_train, y_train)\n",
    "\n",
    "preds_fm = fastFM.predict(X_test)\n",
    "\n",
    "print('--------------------')\n",
    "print('Accuracy:', round(accuracy_score(y_test, preds_fm),3))\n",
    "print('Precision: ', round(precision_score(y_test, preds_fm),3))\n",
    "print('Recall: ', round(recall_score(y_test, preds_fm),3))\n",
    "print('F1-score: ', round(f1_score(y_test, preds_fm),3))\n",
    "print('Ratio: ', 100*(preds_fm==1).sum()/len(preds_fm),'%')\n",
    "# check time\n",
    "print(\"--- %s seconds ---\" % round((time.time() - start_time),5))"
   ]
  },
  {
   "cell_type": "code",
   "execution_count": 8,
   "metadata": {},
   "outputs": [
    {
     "name": "stdout",
     "output_type": "stream",
     "text": [
      "cf) [test set] true ratio:  7.36 %\n"
     ]
    }
   ],
   "source": [
    "print('cf) [test set] true ratio: ', 100*(y_test==1).sum()/len(y_test),'%')"
   ]
  },
  {
   "cell_type": "markdown",
   "metadata": {},
   "source": [
    "**결과**\n",
    "- 데이터 자체가 FM를 테스트하기 위해 만들어진 데이터이다 보니 accuracy 자체가 상당히 잘 나오고, 클래스 불균형을 해결하지 않아도 F1-score가 높게 나왔다.\n",
    "- 하지만 그래도 불균형된 데이터이다 보니 accuracy나 precision에 비해서 recall과 F1-score가 낮게 나옴을 확인할 수 있다.\n",
    "- 그리고 test set의 true ratio에 비해서 positve class의 비율인 predicted ratio가 낮은 것을 확인할 수 있다. \n",
    "    - test set true ratio : 7.36%, predicted ratio: 6.8%\n",
    "- 클래스 불균형 문제에서 발생하는 전형적인 현상이다.\n",
    "- 데이터의 클래스불균형 문제를 해결하여 F1-score을 높이고 ratio를 true 값에 가깝게 예측되도록 해보겠다."
   ]
  },
  {
   "cell_type": "markdown",
   "metadata": {},
   "source": [
    "## 3. 비용민감모델+Factorizaton Machines\n",
    "- click을 unclick으로 예측하게 되면 CTR자체가 실제보다 낮게 계산되게 된다. CTR은 광고료 책정에 직결되기 때문에 광고 플랫폼(카카오)입장에서는 굉장히 큰 비용 손실이라고 할 수 있다. 따라서 본 섹션에서는 이에 대한 개선을 위해서 비용민감모델(Cost Sensitive Model : CSM)을 도입해보겠다.\n",
    "- 전략\n",
    "    - fastFM 라이브러리에서는 classification에 대한 출력값을 binary 형태가 아닌 continous value로 출력해주는 기능이 있다.\n",
    "    - train 데이터를 대상으로 예측값을 continous value로 얻어내고, classification의 기준인 threshold을 조정하여 가장 높은 F1-score을 주는 threshold를 선택한다.\n",
    "    - 선택된 threshold로 FM을 비용민감모델로 만든다. "
   ]
  },
  {
   "cell_type": "markdown",
   "metadata": {},
   "source": [
    "### 비용민감모델 구축\n",
    "- 앞서 훈련된 모델을 활용한다.\n",
    "- 먼저 train set에 대한 F1-score을 maximize하는 threshold를 얻어보겠다."
   ]
  },
  {
   "cell_type": "code",
   "execution_count": 9,
   "metadata": {},
   "outputs": [],
   "source": [
    "# continous value로 예측값 얻기\n",
    "pred_prob = fastFM.predict_proba(X_train) # 일단 train으로 threshold 조정 후 test에 도입\n",
    "pred_prob = minmax_scale(pred_prob)\n",
    "#scaler = MinMaxScaler() : 객체화해서 일관되게 써야함.\n"
   ]
  },
  {
   "cell_type": "code",
   "execution_count": 10,
   "metadata": {},
   "outputs": [],
   "source": [
    "# Grid search with respect to threshold\n",
    "alpha_ls = [0.2,0.25,0.3,0.35,0.4,0.45,0.5,0.55,0.6,0.65,0.7] # threshold 후보들\n",
    "acc_ls, prec_ls, recall_ls, f1_ls, ratio_ls = [], [], [], [], []\n",
    "Nround=6\n",
    "\n",
    "for alpha in alpha_ls:\n",
    "\n",
    "    pred_proba = pred_prob.copy()\n",
    "    \n",
    "    #classification\n",
    "    pred_proba[pred_proba < alpha] = -1\n",
    "    pred_proba[pred_proba >= alpha] = 1\n",
    "    \n",
    "    acc_ls+=[round(accuracy_score(y_train, pred_proba),Nround)]\n",
    "    prec_ls+=[round(precision_score(y_train, pred_proba),Nround)]\n",
    "    recall_ls+=[round(recall_score(y_train, pred_proba),Nround)]\n",
    "    f1_ls+=[round(f1_score(y_train, pred_proba),Nround)]\n",
    "    ratio_ls+=[round(100*(pred_proba==1).sum()/len(pred_proba),Nround)]"
   ]
  },
  {
   "cell_type": "code",
   "execution_count": 11,
   "metadata": {},
   "outputs": [
    {
     "data": {
      "text/html": [
       "<div>\n",
       "<style scoped>\n",
       "    .dataframe tbody tr th:only-of-type {\n",
       "        vertical-align: middle;\n",
       "    }\n",
       "\n",
       "    .dataframe tbody tr th {\n",
       "        vertical-align: top;\n",
       "    }\n",
       "\n",
       "    .dataframe thead th {\n",
       "        text-align: right;\n",
       "    }\n",
       "</style>\n",
       "<table border=\"1\" class=\"dataframe\">\n",
       "  <thead>\n",
       "    <tr style=\"text-align: right;\">\n",
       "      <th></th>\n",
       "      <th>Threshold</th>\n",
       "      <th>Accuracy</th>\n",
       "      <th>Precision</th>\n",
       "      <th>Recall</th>\n",
       "      <th>F1-score</th>\n",
       "      <th>Ratio</th>\n",
       "    </tr>\n",
       "  </thead>\n",
       "  <tbody>\n",
       "    <tr>\n",
       "      <th>0</th>\n",
       "      <td>0.20</td>\n",
       "      <td>0.994267</td>\n",
       "      <td>0.931937</td>\n",
       "      <td>0.992565</td>\n",
       "      <td>0.961296</td>\n",
       "      <td>7.640000</td>\n",
       "    </tr>\n",
       "    <tr>\n",
       "      <th>1</th>\n",
       "      <td>0.25</td>\n",
       "      <td>0.995867</td>\n",
       "      <td>0.955117</td>\n",
       "      <td>0.988848</td>\n",
       "      <td>0.971689</td>\n",
       "      <td>7.426667</td>\n",
       "    </tr>\n",
       "    <tr>\n",
       "      <th>2</th>\n",
       "      <td>0.30</td>\n",
       "      <td>0.996133</td>\n",
       "      <td>0.968692</td>\n",
       "      <td>0.977695</td>\n",
       "      <td>0.973173</td>\n",
       "      <td>7.240000</td>\n",
       "    </tr>\n",
       "    <tr>\n",
       "      <th>3</th>\n",
       "      <td>0.35</td>\n",
       "      <td>0.996667</td>\n",
       "      <td>0.981238</td>\n",
       "      <td>0.972119</td>\n",
       "      <td>0.976657</td>\n",
       "      <td>7.106667</td>\n",
       "    </tr>\n",
       "    <tr>\n",
       "      <th>4</th>\n",
       "      <td>0.40</td>\n",
       "      <td>0.996667</td>\n",
       "      <td>0.988571</td>\n",
       "      <td>0.964684</td>\n",
       "      <td>0.976482</td>\n",
       "      <td>7.000000</td>\n",
       "    </tr>\n",
       "    <tr>\n",
       "      <th>5</th>\n",
       "      <td>0.45</td>\n",
       "      <td>0.995733</td>\n",
       "      <td>0.990310</td>\n",
       "      <td>0.949814</td>\n",
       "      <td>0.969639</td>\n",
       "      <td>6.880000</td>\n",
       "    </tr>\n",
       "    <tr>\n",
       "      <th>6</th>\n",
       "      <td>0.50</td>\n",
       "      <td>0.995200</td>\n",
       "      <td>0.992157</td>\n",
       "      <td>0.940520</td>\n",
       "      <td>0.965649</td>\n",
       "      <td>6.800000</td>\n",
       "    </tr>\n",
       "    <tr>\n",
       "      <th>7</th>\n",
       "      <td>0.55</td>\n",
       "      <td>0.994533</td>\n",
       "      <td>0.997996</td>\n",
       "      <td>0.925651</td>\n",
       "      <td>0.960463</td>\n",
       "      <td>6.653333</td>\n",
       "    </tr>\n",
       "    <tr>\n",
       "      <th>8</th>\n",
       "      <td>0.60</td>\n",
       "      <td>0.993867</td>\n",
       "      <td>0.997976</td>\n",
       "      <td>0.916357</td>\n",
       "      <td>0.955426</td>\n",
       "      <td>6.586667</td>\n",
       "    </tr>\n",
       "    <tr>\n",
       "      <th>9</th>\n",
       "      <td>0.65</td>\n",
       "      <td>0.992533</td>\n",
       "      <td>0.997934</td>\n",
       "      <td>0.897770</td>\n",
       "      <td>0.945205</td>\n",
       "      <td>6.453333</td>\n",
       "    </tr>\n",
       "    <tr>\n",
       "      <th>10</th>\n",
       "      <td>0.70</td>\n",
       "      <td>0.991600</td>\n",
       "      <td>0.997904</td>\n",
       "      <td>0.884758</td>\n",
       "      <td>0.937931</td>\n",
       "      <td>6.360000</td>\n",
       "    </tr>\n",
       "  </tbody>\n",
       "</table>\n",
       "</div>"
      ],
      "text/plain": [
       "    Threshold  Accuracy  Precision    Recall  F1-score     Ratio\n",
       "0        0.20  0.994267   0.931937  0.992565  0.961296  7.640000\n",
       "1        0.25  0.995867   0.955117  0.988848  0.971689  7.426667\n",
       "2        0.30  0.996133   0.968692  0.977695  0.973173  7.240000\n",
       "3        0.35  0.996667   0.981238  0.972119  0.976657  7.106667\n",
       "4        0.40  0.996667   0.988571  0.964684  0.976482  7.000000\n",
       "5        0.45  0.995733   0.990310  0.949814  0.969639  6.880000\n",
       "6        0.50  0.995200   0.992157  0.940520  0.965649  6.800000\n",
       "7        0.55  0.994533   0.997996  0.925651  0.960463  6.653333\n",
       "8        0.60  0.993867   0.997976  0.916357  0.955426  6.586667\n",
       "9        0.65  0.992533   0.997934  0.897770  0.945205  6.453333\n",
       "10       0.70  0.991600   0.997904  0.884758  0.937931  6.360000"
      ]
     },
     "execution_count": 11,
     "metadata": {},
     "output_type": "execute_result"
    }
   ],
   "source": [
    "# Grid search 결과 데이터프레임화\n",
    "data = {'Threshold': alpha_ls, 'Accuracy':acc_ls, 'Precision':prec_ls, \\\n",
    "        'Recall':recall_ls, 'F1-score':f1_ls, 'Ratio':ratio_ls}\n",
    "df_data = pd.DataFrame(data)\n",
    "df_data"
   ]
  },
  {
   "cell_type": "code",
   "execution_count": 12,
   "metadata": {
    "scrolled": true
   },
   "outputs": [
    {
     "data": {
      "image/png": "[encoded data removed]",
      "text/plain": [
       "<Figure size 432x288 with 1 Axes>"
      ]
     },
     "metadata": {
      "image/png": {
       "height": 269,
       "width": 383
      },
      "needs_background": "light"
     },
     "output_type": "display_data"
    }
   ],
   "source": [
    "# Grid search 결과 그래프화\n",
    "plt.plot(alpha_ls, acc_ls,'r*:', label='Accuracy') \n",
    "plt.plot(alpha_ls, prec_ls, 'bo:', label='Precision')\n",
    "plt.plot(alpha_ls, recall_ls, 'g^:', label='Recall')\n",
    "plt.plot(alpha_ls, f1_ls, 'yx:', label='F1-score')\n",
    "plt.legend(loc=0)\n",
    "plt.xlabel('Threshold')\n",
    "plt.show()"
   ]
  },
  {
   "cell_type": "code",
   "execution_count": 13,
   "metadata": {},
   "outputs": [
    {
     "data": {
      "text/html": [
       "<div>\n",
       "<style scoped>\n",
       "    .dataframe tbody tr th:only-of-type {\n",
       "        vertical-align: middle;\n",
       "    }\n",
       "\n",
       "    .dataframe tbody tr th {\n",
       "        vertical-align: top;\n",
       "    }\n",
       "\n",
       "    .dataframe thead th {\n",
       "        text-align: right;\n",
       "    }\n",
       "</style>\n",
       "<table border=\"1\" class=\"dataframe\">\n",
       "  <thead>\n",
       "    <tr style=\"text-align: right;\">\n",
       "      <th></th>\n",
       "      <th>Threshold</th>\n",
       "      <th>Accuracy</th>\n",
       "      <th>Precision</th>\n",
       "      <th>Recall</th>\n",
       "      <th>F1-score</th>\n",
       "      <th>Ratio</th>\n",
       "    </tr>\n",
       "  </thead>\n",
       "  <tbody>\n",
       "    <tr>\n",
       "      <th>3</th>\n",
       "      <td>0.35</td>\n",
       "      <td>0.996667</td>\n",
       "      <td>0.981238</td>\n",
       "      <td>0.972119</td>\n",
       "      <td>0.976657</td>\n",
       "      <td>7.106667</td>\n",
       "    </tr>\n",
       "  </tbody>\n",
       "</table>\n",
       "</div>"
      ],
      "text/plain": [
       "   Threshold  Accuracy  Precision    Recall  F1-score     Ratio\n",
       "3       0.35  0.996667   0.981238  0.972119  0.976657  7.106667"
      ]
     },
     "execution_count": 13,
     "metadata": {},
     "output_type": "execute_result"
    }
   ],
   "source": [
    "# F1-score을 최대화하는 threshold 선택.\n",
    "threshold = df_data[df_data['F1-score'] == max(df_data['F1-score'])]['Threshold'].iloc[0]\n",
    "df_data[df_data['F1-score'] == max(df_data['F1-score'])]"
   ]
  },
  {
   "cell_type": "markdown",
   "metadata": {},
   "source": [
    "**Threshold에 대한 Grid search 결과**\n",
    "- Threshold를 작게 만들어서 모델을 민감하게 만들 수록 recall은 커지는 반면에 precision은 작아진다.\n",
    "    즉, negative class에 대한 정확도를 희생해서 positve class의 정확도를 올린다고 해석할 수 있다.\n",
    "- 적정 Threshold를 정함에 있어서 precision을 얼마나 희생하고 recall을 올릴 것인가의 문제가 있다.\n",
    "- 이 때문에 클래스 불균형 문제에서는 기준 메트릭으로 F1-score(= precistion과 recall의 조화평균)을 사용한다.\n",
    "- 이 모델에서는 F1-score가 threshold=0.35일 때 가장 최대치가 된다.\n",
    "- 따라서 threshold=0.35으로 설정하여 FM을 비용민감모델로 만든다면 positive class에대한 오분류를 줄일 수 있다."
   ]
  },
  {
   "cell_type": "markdown",
   "metadata": {},
   "source": [
    "### Predcition"
   ]
  },
  {
   "cell_type": "code",
   "execution_count": 14,
   "metadata": {},
   "outputs": [
    {
     "name": "stdout",
     "output_type": "stream",
     "text": [
      "--------------------\n",
      "Accuracy: 0.9876\n",
      "Precision:  0.937143\n",
      "Recall:  0.891304\n",
      "F1-score:  0.913649\n",
      "Ratio:  7.0 %\n",
      "--------------------\n"
     ]
    }
   ],
   "source": [
    "pred_proba_test = fastFM.predict_proba(X_test)\n",
    "pred_proba_test = minmax_scale(pred_proba_test)\n",
    "pred_proba_test[pred_proba_test < threshold] = -1\n",
    "pred_proba_test[pred_proba_test >= threshold] = 1\n",
    "    \n",
    "print('--------------------')\n",
    "print('Accuracy:', round(accuracy_score(y_test, pred_proba_test),Nround))\n",
    "print('Precision: ', round(precision_score(y_test, pred_proba_test),Nround))\n",
    "print('Recall: ', round(recall_score(y_test, pred_proba_test),Nround))\n",
    "print('F1-score: ', round(f1_score(y_test, pred_proba_test),Nround))\n",
    "print('Ratio: ', round(100*(pred_proba_test==1).sum()/len(pred_proba_test),Nround),'%')\n",
    "print('--------------------')"
   ]
  },
  {
   "cell_type": "markdown",
   "metadata": {},
   "source": [
    "**비용민감모델 적용 결과**\n",
    "- 대조군(only FM)의 결과와 비교했을 때 F1-score값이 상승한 것을 볼 수 있다. 그리고 클래스의 ratio가 정답셋의 true ratio에 더 가까워졌음을 확인할 수 있다.\n",
    "- cf) [test set] true ratio:  7.36 %\n",
    "- cf) only FM\n",
    "    - Accuracy: 0.987 \n",
    "    - Precision:  0.958\n",
    "    - Recall:  0.864\n",
    "    - F1-score:  0.909\n",
    "    - Ratio:  6.64 %"
   ]
  },
  {
   "cell_type": "markdown",
   "metadata": {},
   "source": [
    "## 4. 재샘플링 : SMOTE, Borderline-SMOTE\n",
    "- 훈련 데이터(7500개)에 소수 클래스가 538개로 절대 부족이기 때문에 **오버샘플링을 진행**하겠다.\n",
    "    - cf) 실제 데이터에서는 데이터양이 매우 크기 때문에 절대 부족이 발생하진 않을 것이다. 따라서 실제 데이터에대해서는 언더샘플링을 고려해볼 수도 있을 것이다.\n",
    "- 많이 쓰이는 오버샘플링에는 SMOTE와 Borderline-SMOTE가 있다.\n",
    "    - SMOTE : 소수클래스 샘플의 이웃을 k개 선택하여 그 중간에 샘플을 생성한다. 소수클래스와 다수클래스이 경계는 그대로이다.\n",
    "    - Borderline-SMOTE : 다수 클래스 샘플과 가까운 소수클래스 샘플의 이웃을 k개 선택하여 그 중간에 샘플을 생성한다. 소수클래스와 다수클래스의 경계를 밀어주는 효과가 생긴다.    "
   ]
  },
  {
   "cell_type": "code",
   "execution_count": 15,
   "metadata": {
    "scrolled": true
   },
   "outputs": [
    {
     "name": "stdout",
     "output_type": "stream",
     "text": [
      "positve_class:  53800 ,  total:  7500\n",
      "positve_class/total:  7.17 %\n"
     ]
    }
   ],
   "source": [
    "# 절대 부족, 상대 부족 확인\n",
    "print('positve_class: ',100*(y_train==1).sum(), ', ','total: ',len(y_train))\n",
    "print('positve_class/total: ', round(100*(y_train==1).sum()/len(y_train),2), '%')\n"
   ]
  },
  {
   "cell_type": "markdown",
   "metadata": {},
   "source": [
    "### SMOTE : oversampling"
   ]
  },
  {
   "cell_type": "code",
   "execution_count": 16,
   "metadata": {},
   "outputs": [],
   "source": [
    "import imblearn.over_sampling as osam"
   ]
  },
  {
   "cell_type": "code",
   "execution_count": 17,
   "metadata": {},
   "outputs": [],
   "source": [
    "#SMOTE : knn 원리로 소수클래스 재샘플링(소수클래스 결정공간은 그대로.)\n",
    "SMOTEos = osam.SMOTE(k_neighbors=5)\n",
    "osm_X1, osm_Y1 = SMOTEos.fit_sample(X_train, y_train)"
   ]
  },
  {
   "cell_type": "code",
   "execution_count": 18,
   "metadata": {
    "scrolled": true
   },
   "outputs": [
    {
     "name": "stdout",
     "output_type": "stream",
     "text": [
      "positve_class/total:  50.0 %\n"
     ]
    }
   ],
   "source": [
    "print('positve_class/total: ', round(100*(osm_Y1==1).sum()/len(osm_Y1),2), '%')"
   ]
  },
  {
   "cell_type": "code",
   "execution_count": 19,
   "metadata": {},
   "outputs": [
    {
     "name": "stdout",
     "output_type": "stream",
     "text": [
      "--------------------\n",
      "Accuracy: 0.981\n",
      "Precision:  0.966\n",
      "Recall:  0.772\n",
      "F1-score:  0.858\n",
      "Ratio:  5.88 %\n",
      "--------------------\n"
     ]
    }
   ],
   "source": [
    "fastFM_SMOTE = sgd.FMClassification(n_iter=100000, init_stdev=0.1, l2_reg_w=0,\\\n",
    "                          l2_reg_V=0, rank=2, step_size=0.1)\n",
    "fastFM_SMOTE.fit(osm_X1, osm_Y1)\n",
    "\n",
    "preds_fm_SMOTE = fastFM_SMOTE.predict(X_test)\n",
    "\n",
    "print('--------------------')\n",
    "print('Accuracy:', round(accuracy_score(y_test, preds_fm_SMOTE),3))\n",
    "print('Precision: ', round(precision_score(y_test, preds_fm_SMOTE),3))\n",
    "print('Recall: ', round(recall_score(y_test, preds_fm_SMOTE),3))\n",
    "print('F1-score: ', round(f1_score(y_test, preds_fm_SMOTE),3))\n",
    "print('Ratio: ', 100*(preds_fm_SMOTE==1).sum()/len(preds_fm_SMOTE),'%')\n",
    "print('--------------------')"
   ]
  },
  {
   "cell_type": "markdown",
   "metadata": {},
   "source": [
    "### Borderline-SMOTE : oversampling"
   ]
  },
  {
   "cell_type": "code",
   "execution_count": 20,
   "metadata": {},
   "outputs": [],
   "source": [
    "#Borderline-SMOTE : knn 원리로 소수클래스의 결정공간을 확장 시켜줌.\n",
    "B_SMOTEos = osam.SMOTE(k_neighbors=5, m_neighbors=5)\n",
    "osm_X2, osm_Y2 = B_SMOTEos.fit_sample(X_train, y_train)"
   ]
  },
  {
   "cell_type": "code",
   "execution_count": 21,
   "metadata": {},
   "outputs": [
    {
     "name": "stdout",
     "output_type": "stream",
     "text": [
      "positve_class/total:  50.0 %\n"
     ]
    }
   ],
   "source": [
    "print('positve_class/total: ', round(100*(osm_Y2==1).sum()/len(osm_Y2),2), '%')\n"
   ]
  },
  {
   "cell_type": "code",
   "execution_count": 22,
   "metadata": {
    "scrolled": true
   },
   "outputs": [
    {
     "name": "stdout",
     "output_type": "stream",
     "text": [
      "--------------------\n",
      "Accuracy: 0.982\n",
      "Precision:  0.966\n",
      "Recall:  0.777\n",
      "F1-score:  0.861\n",
      "Ratio:  5.92 %\n",
      "--------------------\n"
     ]
    }
   ],
   "source": [
    "fastFM_BSMOTE = sgd.FMClassification(n_iter=100000, init_stdev=0.1, l2_reg_w=0,\\\n",
    "                          l2_reg_V=0, rank=2, step_size=0.1)\n",
    "fastFM_BSMOTE.fit(osm_X2, osm_Y2)\n",
    "\n",
    "preds_fm_BSMOTE = fastFM_BSMOTE.predict(X_test)\n",
    "\n",
    "print('--------------------')\n",
    "print('Accuracy:', round(accuracy_score(y_test, preds_fm_BSMOTE),3))\n",
    "print('Precision: ', round(precision_score(y_test, preds_fm_BSMOTE),3))\n",
    "print('Recall: ', round(recall_score(y_test, preds_fm_BSMOTE),3))\n",
    "print('F1-score: ', round(f1_score(y_test, preds_fm_BSMOTE),3))\n",
    "print('Ratio: ', 100*(preds_fm_BSMOTE==1).sum()/len(preds_fm_BSMOTE),'%')\n",
    "print('--------------------')"
   ]
  },
  {
   "cell_type": "markdown",
   "metadata": {},
   "source": [
    "## 5. 클래스 불균형 문제에대한 실험 결과 비교"
   ]
  },
  {
   "cell_type": "code",
   "execution_count": 23,
   "metadata": {},
   "outputs": [],
   "source": [
    "Alist = [round(accuracy_score(y_test, preds_fm),3),\\\n",
    "         round(accuracy_score(y_test, pred_proba_test),3),\\\n",
    "         round(accuracy_score(y_test, preds_fm_SMOTE),3),\\\n",
    "         round(accuracy_score(y_test, preds_fm_BSMOTE),3)]\n",
    "Plist = [round(precision_score(y_test, preds_fm),3),\\\n",
    "         round(precision_score(y_test, pred_proba_test),3),\\\n",
    "         round(precision_score(y_test, preds_fm_SMOTE),3),\\\n",
    "         round(precision_score(y_test, preds_fm_BSMOTE),3)]\n",
    "Rlist = [round(recall_score(y_test, preds_fm),3),\\\n",
    "         round(recall_score(y_test, pred_proba_test),3),\\\n",
    "         round(recall_score(y_test, preds_fm_SMOTE),3),\\\n",
    "         round(recall_score(y_test, preds_fm_BSMOTE),3)]\n",
    "f1list = [round(f1_score(y_test, preds_fm),3),\\\n",
    "          round(f1_score(y_test, pred_proba_test),3),\\\n",
    "          round(f1_score(y_test, preds_fm_SMOTE),3),\\\n",
    "          round(f1_score(y_test, preds_fm_BSMOTE),3)]\n",
    "Clist = [str(100*(preds_fm==1).sum()/len(preds_fm))+'%',\\\n",
    "         str(round(100*(pred_proba_test==1).sum()/len(pred_proba_test),3))+'%',\\\n",
    "         str(100*(preds_fm_SMOTE==1).sum()/len(preds_fm_SMOTE))+'%',\\\n",
    "         str(100*(preds_fm_BSMOTE==1).sum()/len(preds_fm_BSMOTE))+'%']\n",
    "\n",
    "comparison = {'': ['FM', 'CSM+FM', 'SMOTE+FM', 'B-SMOTE+FM'],\n",
    "              'Accuracy': Alist, \n",
    "              'Precision': Plist,\n",
    "              'Recall':  Rlist, \n",
    "              'F1-score':  f1list,\n",
    "              'Ratio':  Clist}"
   ]
  },
  {
   "cell_type": "code",
   "execution_count": 24,
   "metadata": {
    "scrolled": true
   },
   "outputs": [
    {
     "data": {
      "text/html": [
       "<div>\n",
       "<style scoped>\n",
       "    .dataframe tbody tr th:only-of-type {\n",
       "        vertical-align: middle;\n",
       "    }\n",
       "\n",
       "    .dataframe tbody tr th {\n",
       "        vertical-align: top;\n",
       "    }\n",
       "\n",
       "    .dataframe thead th {\n",
       "        text-align: right;\n",
       "    }\n",
       "</style>\n",
       "<table border=\"1\" class=\"dataframe\">\n",
       "  <thead>\n",
       "    <tr style=\"text-align: right;\">\n",
       "      <th></th>\n",
       "      <th></th>\n",
       "      <th>Accuracy</th>\n",
       "      <th>Precision</th>\n",
       "      <th>Recall</th>\n",
       "      <th>F1-score</th>\n",
       "      <th>Ratio</th>\n",
       "    </tr>\n",
       "  </thead>\n",
       "  <tbody>\n",
       "    <tr>\n",
       "      <th>0</th>\n",
       "      <td>FM</td>\n",
       "      <td>0.987</td>\n",
       "      <td>0.958</td>\n",
       "      <td>0.864</td>\n",
       "      <td>0.909</td>\n",
       "      <td>6.64%</td>\n",
       "    </tr>\n",
       "    <tr>\n",
       "      <th>1</th>\n",
       "      <td>CSM+FM</td>\n",
       "      <td>0.988</td>\n",
       "      <td>0.937</td>\n",
       "      <td>0.891</td>\n",
       "      <td>0.914</td>\n",
       "      <td>7.0%</td>\n",
       "    </tr>\n",
       "    <tr>\n",
       "      <th>2</th>\n",
       "      <td>SMOTE+FM</td>\n",
       "      <td>0.981</td>\n",
       "      <td>0.966</td>\n",
       "      <td>0.772</td>\n",
       "      <td>0.858</td>\n",
       "      <td>5.88%</td>\n",
       "    </tr>\n",
       "    <tr>\n",
       "      <th>3</th>\n",
       "      <td>B-SMOTE+FM</td>\n",
       "      <td>0.982</td>\n",
       "      <td>0.966</td>\n",
       "      <td>0.777</td>\n",
       "      <td>0.861</td>\n",
       "      <td>5.92%</td>\n",
       "    </tr>\n",
       "  </tbody>\n",
       "</table>\n",
       "</div>"
      ],
      "text/plain": [
       "               Accuracy  Precision  Recall  F1-score  Ratio\n",
       "0          FM     0.987      0.958   0.864     0.909  6.64%\n",
       "1      CSM+FM     0.988      0.937   0.891     0.914   7.0%\n",
       "2    SMOTE+FM     0.981      0.966   0.772     0.858  5.88%\n",
       "3  B-SMOTE+FM     0.982      0.966   0.777     0.861  5.92%"
      ]
     },
     "execution_count": 24,
     "metadata": {},
     "output_type": "execute_result"
    }
   ],
   "source": [
    "pd.DataFrame(comparison)"
   ]
  },
  {
   "cell_type": "markdown",
   "metadata": {},
   "source": [
    "**결론**\n",
    "- FM을 비용민감모델(CSM)로 만든 파이프라인이 가장 높은 F1-score을 보여준다. Accuracy도 가장 높고, Ratio도 true ratio와 가장 일치한다.\n",
    "- 의외로 재샘플링은 오히려 Accuracy 뿐만 아니라 F1-score을 떨어트렸다.\n",
    "    - 이 이유는 데이터 자체가 FM을 테스트하기 위한 것이다 보니 재샘플링을 한 fake data가 들어가는 것 자체로 Accuracy, F1-score에 악영향을 미친것이라고 추측할 수 있다. 실제 데이터에서는 재샘플링이 더 좋은 결과를 줄 가능성이 있다.\n",
    "- **결론적으로, click-through data에 대해서 FM을 활용할 때는 비용민감모델을 쓰는 것이 클래스 불균형 문제를 가장 잘 해결해준다.**\n",
    "- 이제 비용민감모델로 만들어진 Factorization machine(FM+CSM)을 적용하여 Click-through rate를 예측해보겠다."
   ]
  },
  {
   "cell_type": "markdown",
   "metadata": {},
   "source": [
    "# 6. hpCTR과 eCPM 예측 예시\n",
    "- **hpCTR이란?** historical and predicted CTR(hpCTR) = 그룹화된 유저에게 특정광고가 한번씩 노출되었을 때 발생할 클릭수/그룹내 총 유저수\n",
    "    - historical CTR(hCTR)은 과거 데이터로만 총 노출수 대비 클릭 횟수를 계산한다. 쉽게 계산할 수 있다는 장점이 있지만 hCTR 데이터에 없는 내용이 반영되지 않는 문제점이 있다.\n",
    "    - predicted CTR(pCTR)은 보통 Logistic Regression으로 예측하는 조건부 확률이다. 특정 유저에게 특정 광고가 노출되었을 때 그 유저가 광고를 클릭할 확률로 계산한다. pCTR은 유저 개개인에 대상으로 광고를 클릭할 확률을 구할 수 있다는 장점이 있지만 linear한 효과만 고려하는 Logistic Regression을 사용했다는 점과 데이터가 부족한 신입 유저에 대해서는 정확한 예측이 어렵다는 단점이 있다.\n",
    "    - 이 노트에서 새롭게 제시한 hpCTR은 사전 클러스터링이 된 그룹의 유저들을 대상으로 특정 광고가 단 한번씩 노출되었을 시의 클릭 비율을 계산한다. \n",
    "        - FM을 활용하여 유저들과 광고사이의 historical data로부터 데이터에 없는 모든 interaction을 예측하여 CTR을 계산한다. \n",
    "        - FM을 활용하기 때문에 신입유저의 데이터가 적어도 광고들 사이의 interaction을 높은 정확도로 예측할 수 있다. \n",
    "        - 그룹의 유저들을 대상으로 특정 광고가 단 한번씩 노출되었을 시의 클릭 비율을 계산하는 것이기때문에 같은 유저에게 중복 노출이 되었을 경우 등의 상황이 자연스럽게 제외된다는 장점이 있다.\n",
    "- 전략 :\n",
    "    - CTR을 구할 광고를 하나 선택하고, 모든 유저와 매치시키는 데이터를 생성한다.\n",
    "        - ex) for AD5, [{User0,AD5}, {User1,AD5}, ...., {user99,AD5}]\n",
    "    - 앞서 훈련 데이터에 적용했던 DictVectorizor로 vector화한다.\n",
    "    - 이 데이터를 훈련된 FM+CSM에 태워서 각 유저들에 따른 AD5의 클릭 여부를 예측한다.\n",
    "    - 이를 바탕으로 모든 유저에게 특정 광고가 노출되었을 때의 hpCTR을 예측할 수 있다.\n",
    "    - 그것을 바탕으로 eCPM(effective cost per mile = hpCTR x bid x 1000)을 계산한다.\n",
    "\n",
    "- 예를 들어,\n",
    "    - 유저들을 사전 클러스터링해서 차원 축소를 해준다.\n",
    "    - 만약, 클러스터 중 하나를 20대 남성 그룹이라고 가정하자.\n",
    "    - 이 그룹에 대해서 CTR 계산을 원하는 광고(A)를 이 그룹에서 훈련된 FM에 넣고, 출력값으로 hpCTR을 얻는다.\n",
    "    - 계산된 hpCTR로 eCPM을 계산한다. \n",
    "    - 이제 20대 남성 유저가 접속했을 때 계산된 광고A의 eCPM을  다른 광고들의 eCPM과 비교하여 노출여부를 결정한다. 그리고 노출 후 클릭 액션이 발생시 eCPM을 기준으로 과금액이 상정된다."
   ]
  },
  {
   "cell_type": "code",
   "execution_count": 25,
   "metadata": {},
   "outputs": [],
   "source": [
    "# eCPM 계산하는 함수\n",
    "\n",
    "def eCPM_is(check_AD_str, bid = 2000, n_eCPM = 1000, threshold_ = 0.5):\n",
    "    '''\n",
    "    check_AD_str : eCPM을 계산하고 싶은 광고의 숫자를 string으로 입력한다. ex) '5'\n",
    "    n_eCPM : eCPM이 1000회 노출당 과금액이므로 default는 1000이다.\n",
    "    bid : 1회 노출당 기준 과금액\n",
    "    threshold_ : 비용민감모델의 기준 threshold 값 입력.\n",
    "    '''\n",
    "     \n",
    "    check_AD = check_AD_str \n",
    "    thres = threshold_\n",
    "    \n",
    "    # data\n",
    "    test_raw = [{'user': '{}'.format(i), 'AD': check_AD}\\\n",
    "             for i in range(num_of_users)]\n",
    "\n",
    "    # v : used DictVectorizer\n",
    "    test_vec = v.transform(test_raw)\n",
    "\n",
    "    # prediction\n",
    "    test_pred = fastFM.predict_proba(test_vec)\n",
    "    test_pred = minmax_scale(test_pred)\n",
    "    \n",
    "    test_pred[test_pred < thres] = -1\n",
    "    test_pred[test_pred >= thres] = 1\n",
    "    \n",
    "    hpCTR = (test_pred==1).sum()/len(test_pred)\n",
    "    eCPM = int(hpCTR*bid*n_eCPM)\n",
    "    \n",
    "    print('------------------------------------')\n",
    "    print('AD{}\\'s hpCTR w.r.t. the user group: '.format(check_AD),\\\n",
    "          round(100*hpCTR,2),'%')\n",
    "    print('AD{}\\'s eCPM: '.format(check_AD), eCPM, '원')\n",
    "    print('------------------------------------')\n"
   ]
  },
  {
   "cell_type": "markdown",
   "metadata": {},
   "source": [
    "### hpCTR과 eCPM 예측 : Cost Sensitive Model +  Factorizaion Machines"
   ]
  },
  {
   "cell_type": "code",
   "execution_count": 26,
   "metadata": {},
   "outputs": [
    {
     "name": "stdout",
     "output_type": "stream",
     "text": [
      "------------------------------------\n",
      "Cost Sensitive Model + Factorization Machines\n",
      "------------------------------------\n",
      "AD0's hpCTR w.r.t. the user group:  1.0 %\n",
      "AD0's eCPM:  20000 원\n",
      "------------------------------------\n",
      "------------------------------------\n",
      "AD10's hpCTR w.r.t. the user group:  7.0 %\n",
      "AD10's eCPM:  140000 원\n",
      "------------------------------------\n",
      "------------------------------------\n",
      "AD35's hpCTR w.r.t. the user group:  24.0 %\n",
      "AD35's eCPM:  480000 원\n",
      "------------------------------------\n",
      "------------------------------------\n",
      "AD44's hpCTR w.r.t. the user group:  23.0 %\n",
      "AD44's eCPM:  460000 원\n",
      "------------------------------------\n",
      "cf) bid = 2000\n"
     ]
    }
   ],
   "source": [
    "print('------------------------------------')\n",
    "print('Cost Sensitive Model + Factorization Machines')\n",
    "eCPM_is(check_AD_str='0', bid = 2000, threshold_=threshold)\n",
    "eCPM_is(check_AD_str='10', bid = 2000, threshold_=threshold)\n",
    "eCPM_is(check_AD_str='35', bid = 2000, threshold_=threshold)\n",
    "eCPM_is(check_AD_str='44', bid = 2000, threshold_=threshold)\n",
    "print('cf) bid = 2000')"
   ]
  },
  {
   "cell_type": "markdown",
   "metadata": {},
   "source": [
    "### hpCTR과 eCPM 예측 : only Factorizaion Machines (대조군)"
   ]
  },
  {
   "cell_type": "code",
   "execution_count": 27,
   "metadata": {},
   "outputs": [
    {
     "name": "stdout",
     "output_type": "stream",
     "text": [
      "------------------------------------\n",
      "Only Factorization Machines\n",
      "------------------------------------\n",
      "AD0's hpCTR w.r.t. the user group:  1.0 %\n",
      "AD0's eCPM:  20000 원\n",
      "------------------------------------\n",
      "------------------------------------\n",
      "AD10's hpCTR w.r.t. the user group:  7.0 %\n",
      "AD10's eCPM:  140000 원\n",
      "------------------------------------\n",
      "------------------------------------\n",
      "AD35's hpCTR w.r.t. the user group:  23.0 %\n",
      "AD35's eCPM:  460000 원\n",
      "------------------------------------\n",
      "------------------------------------\n",
      "AD44's hpCTR w.r.t. the user group:  22.0 %\n",
      "AD44's eCPM:  440000 원\n",
      "------------------------------------\n",
      "cf) bid = 2000\n"
     ]
    }
   ],
   "source": [
    "# 대조군에서 hpCTR과 eCPM\n",
    "'''\n",
    "ex) 비용민감모델을 안쓴 경우 : '35', '44'번 광고의 경우 pCTR이 더 낮게 책정되고,\n",
    "eCPM도 낮게 책정되었음을 볼 수 있다. \n",
    "'''\n",
    "print('------------------------------------')\n",
    "print('Only Factorization Machines')\n",
    "eCPM_is(check_AD_str='0', bid = 2000)\n",
    "eCPM_is(check_AD_str='10', bid = 2000)\n",
    "eCPM_is(check_AD_str='35', bid = 2000)\n",
    "eCPM_is(check_AD_str='44', bid = 2000)\n",
    "print('cf) bid = 2000')"
   ]
  },
  {
   "cell_type": "markdown",
   "metadata": {},
   "source": [
    "### 모든 광고의 hpCTR 및 eCPM 예측 : Cost Sensitive Model + Factorization Machines"
   ]
  },
  {
   "cell_type": "code",
   "execution_count": 28,
   "metadata": {},
   "outputs": [
    {
     "name": "stdout",
     "output_type": "stream",
     "text": [
      "------------------------------------\n",
      "Cost Sensitive Model + Factorization Machines\n",
      "------------------------------------\n",
      "AD0's hpCTR w.r.t. the user group:  1.0 %\n",
      "AD0's eCPM:  20000 원\n",
      "------------------------------------\n",
      "------------------------------------\n",
      "AD1's hpCTR w.r.t. the user group:  1.0 %\n",
      "AD1's eCPM:  20000 원\n",
      "------------------------------------\n",
      "------------------------------------\n",
      "AD2's hpCTR w.r.t. the user group:  24.0 %\n",
      "AD2's eCPM:  480000 원\n",
      "------------------------------------\n",
      "------------------------------------\n",
      "AD3's hpCTR w.r.t. the user group:  8.0 %\n",
      "AD3's eCPM:  160000 원\n",
      "------------------------------------\n",
      "------------------------------------\n",
      "AD4's hpCTR w.r.t. the user group:  50.0 %\n",
      "AD4's eCPM:  1000000 원\n",
      "------------------------------------\n",
      "------------------------------------\n",
      "AD5's hpCTR w.r.t. the user group:  1.0 %\n",
      "AD5's eCPM:  20000 원\n",
      "------------------------------------\n",
      "------------------------------------\n",
      "AD6's hpCTR w.r.t. the user group:  1.0 %\n",
      "AD6's eCPM:  20000 원\n",
      "------------------------------------\n",
      "------------------------------------\n",
      "AD7's hpCTR w.r.t. the user group:  1.0 %\n",
      "AD7's eCPM:  20000 원\n",
      "------------------------------------\n",
      "------------------------------------\n",
      "AD8's hpCTR w.r.t. the user group:  1.0 %\n",
      "AD8's eCPM:  20000 원\n",
      "------------------------------------\n",
      "------------------------------------\n",
      "AD9's hpCTR w.r.t. the user group:  20.0 %\n",
      "AD9's eCPM:  400000 원\n",
      "------------------------------------\n",
      "------------------------------------\n",
      "AD10's hpCTR w.r.t. the user group:  7.0 %\n",
      "AD10's eCPM:  140000 원\n",
      "------------------------------------\n",
      "------------------------------------\n",
      "AD11's hpCTR w.r.t. the user group:  9.0 %\n",
      "AD11's eCPM:  180000 원\n",
      "------------------------------------\n",
      "------------------------------------\n",
      "AD12's hpCTR w.r.t. the user group:  1.0 %\n",
      "AD12's eCPM:  20000 원\n",
      "------------------------------------\n",
      "------------------------------------\n",
      "AD13's hpCTR w.r.t. the user group:  1.0 %\n",
      "AD13's eCPM:  20000 원\n",
      "------------------------------------\n",
      "------------------------------------\n",
      "AD14's hpCTR w.r.t. the user group:  1.0 %\n",
      "AD14's eCPM:  20000 원\n",
      "------------------------------------\n",
      "------------------------------------\n",
      "AD15's hpCTR w.r.t. the user group:  1.0 %\n",
      "AD15's eCPM:  20000 원\n",
      "------------------------------------\n",
      "------------------------------------\n",
      "AD16's hpCTR w.r.t. the user group:  1.0 %\n",
      "AD16's eCPM:  20000 원\n",
      "------------------------------------\n",
      "------------------------------------\n",
      "AD17's hpCTR w.r.t. the user group:  1.0 %\n",
      "AD17's eCPM:  20000 원\n",
      "------------------------------------\n",
      "------------------------------------\n",
      "AD18's hpCTR w.r.t. the user group:  7.0 %\n",
      "AD18's eCPM:  140000 원\n",
      "------------------------------------\n",
      "------------------------------------\n",
      "AD19's hpCTR w.r.t. the user group:  1.0 %\n",
      "AD19's eCPM:  20000 원\n",
      "------------------------------------\n",
      "------------------------------------\n",
      "AD20's hpCTR w.r.t. the user group:  1.0 %\n",
      "AD20's eCPM:  20000 원\n",
      "------------------------------------\n",
      "------------------------------------\n",
      "AD21's hpCTR w.r.t. the user group:  1.0 %\n",
      "AD21's eCPM:  20000 원\n",
      "------------------------------------\n",
      "------------------------------------\n",
      "AD22's hpCTR w.r.t. the user group:  1.0 %\n",
      "AD22's eCPM:  20000 원\n",
      "------------------------------------\n",
      "------------------------------------\n",
      "AD23's hpCTR w.r.t. the user group:  1.0 %\n",
      "AD23's eCPM:  20000 원\n",
      "------------------------------------\n",
      "------------------------------------\n",
      "AD24's hpCTR w.r.t. the user group:  1.0 %\n",
      "AD24's eCPM:  20000 원\n",
      "------------------------------------\n",
      "------------------------------------\n",
      "AD25's hpCTR w.r.t. the user group:  1.0 %\n",
      "AD25's eCPM:  20000 원\n",
      "------------------------------------\n",
      "------------------------------------\n",
      "AD26's hpCTR w.r.t. the user group:  1.0 %\n",
      "AD26's eCPM:  20000 원\n",
      "------------------------------------\n",
      "------------------------------------\n",
      "AD27's hpCTR w.r.t. the user group:  8.0 %\n",
      "AD27's eCPM:  160000 원\n",
      "------------------------------------\n",
      "------------------------------------\n",
      "AD28's hpCTR w.r.t. the user group:  11.0 %\n",
      "AD28's eCPM:  220000 원\n",
      "------------------------------------\n",
      "------------------------------------\n",
      "AD29's hpCTR w.r.t. the user group:  1.0 %\n",
      "AD29's eCPM:  20000 원\n",
      "------------------------------------\n",
      "------------------------------------\n",
      "AD30's hpCTR w.r.t. the user group:  1.0 %\n",
      "AD30's eCPM:  20000 원\n",
      "------------------------------------\n",
      "------------------------------------\n",
      "AD31's hpCTR w.r.t. the user group:  1.0 %\n",
      "AD31's eCPM:  20000 원\n",
      "------------------------------------\n",
      "------------------------------------\n",
      "AD32's hpCTR w.r.t. the user group:  1.0 %\n",
      "AD32's eCPM:  20000 원\n",
      "------------------------------------\n",
      "------------------------------------\n",
      "AD33's hpCTR w.r.t. the user group:  8.0 %\n",
      "AD33's eCPM:  160000 원\n",
      "------------------------------------\n",
      "------------------------------------\n",
      "AD34's hpCTR w.r.t. the user group:  23.0 %\n",
      "AD34's eCPM:  460000 원\n",
      "------------------------------------\n",
      "------------------------------------\n",
      "AD35's hpCTR w.r.t. the user group:  24.0 %\n",
      "AD35's eCPM:  480000 원\n",
      "------------------------------------\n",
      "------------------------------------\n",
      "AD36's hpCTR w.r.t. the user group:  6.0 %\n",
      "AD36's eCPM:  120000 원\n",
      "------------------------------------\n",
      "------------------------------------\n",
      "AD37's hpCTR w.r.t. the user group:  15.0 %\n",
      "AD37's eCPM:  300000 원\n",
      "------------------------------------\n",
      "------------------------------------\n",
      "AD38's hpCTR w.r.t. the user group:  1.0 %\n",
      "AD38's eCPM:  20000 원\n",
      "------------------------------------\n",
      "------------------------------------\n",
      "AD39's hpCTR w.r.t. the user group:  1.0 %\n",
      "AD39's eCPM:  20000 원\n",
      "------------------------------------\n",
      "------------------------------------\n",
      "AD40's hpCTR w.r.t. the user group:  1.0 %\n",
      "AD40's eCPM:  20000 원\n",
      "------------------------------------\n",
      "------------------------------------\n",
      "AD41's hpCTR w.r.t. the user group:  6.0 %\n",
      "AD41's eCPM:  120000 원\n",
      "------------------------------------\n",
      "------------------------------------\n",
      "AD42's hpCTR w.r.t. the user group:  8.0 %\n",
      "AD42's eCPM:  160000 원\n",
      "------------------------------------\n",
      "------------------------------------\n",
      "AD43's hpCTR w.r.t. the user group:  1.0 %\n",
      "AD43's eCPM:  20000 원\n",
      "------------------------------------\n",
      "------------------------------------\n",
      "AD44's hpCTR w.r.t. the user group:  23.0 %\n",
      "AD44's eCPM:  460000 원\n",
      "------------------------------------\n",
      "------------------------------------\n",
      "AD45's hpCTR w.r.t. the user group:  1.0 %\n",
      "AD45's eCPM:  20000 원\n",
      "------------------------------------\n",
      "------------------------------------\n",
      "AD46's hpCTR w.r.t. the user group:  1.0 %\n",
      "AD46's eCPM:  20000 원\n",
      "------------------------------------\n",
      "------------------------------------\n",
      "AD47's hpCTR w.r.t. the user group:  1.0 %\n",
      "AD47's eCPM:  20000 원\n",
      "------------------------------------\n",
      "------------------------------------\n",
      "AD48's hpCTR w.r.t. the user group:  47.0 %\n",
      "AD48's eCPM:  940000 원\n",
      "------------------------------------\n",
      "------------------------------------\n",
      "AD49's hpCTR w.r.t. the user group:  1.0 %\n",
      "AD49's eCPM:  20000 원\n",
      "------------------------------------\n",
      "------------------------------------\n",
      "AD50's hpCTR w.r.t. the user group:  1.0 %\n",
      "AD50's eCPM:  20000 원\n",
      "------------------------------------\n",
      "------------------------------------\n",
      "AD51's hpCTR w.r.t. the user group:  1.0 %\n",
      "AD51's eCPM:  20000 원\n",
      "------------------------------------\n",
      "------------------------------------\n",
      "AD52's hpCTR w.r.t. the user group:  1.0 %\n",
      "AD52's eCPM:  20000 원\n",
      "------------------------------------\n",
      "------------------------------------\n",
      "AD53's hpCTR w.r.t. the user group:  1.0 %\n",
      "AD53's eCPM:  20000 원\n",
      "------------------------------------\n",
      "------------------------------------\n",
      "AD54's hpCTR w.r.t. the user group:  1.0 %\n",
      "AD54's eCPM:  20000 원\n",
      "------------------------------------\n",
      "------------------------------------\n",
      "AD55's hpCTR w.r.t. the user group:  1.0 %\n",
      "AD55's eCPM:  20000 원\n",
      "------------------------------------\n",
      "------------------------------------\n",
      "AD56's hpCTR w.r.t. the user group:  28.0 %\n",
      "AD56's eCPM:  560000 원\n",
      "------------------------------------\n",
      "------------------------------------\n",
      "AD57's hpCTR w.r.t. the user group:  1.0 %\n",
      "AD57's eCPM:  20000 원\n",
      "------------------------------------\n",
      "------------------------------------\n",
      "AD58's hpCTR w.r.t. the user group:  1.0 %\n",
      "AD58's eCPM:  20000 원\n",
      "------------------------------------\n",
      "------------------------------------\n",
      "AD59's hpCTR w.r.t. the user group:  1.0 %\n",
      "AD59's eCPM:  20000 원\n",
      "------------------------------------\n",
      "------------------------------------\n",
      "AD60's hpCTR w.r.t. the user group:  11.0 %\n",
      "AD60's eCPM:  220000 원\n",
      "------------------------------------\n",
      "------------------------------------\n",
      "AD61's hpCTR w.r.t. the user group:  1.0 %\n",
      "AD61's eCPM:  20000 원\n",
      "------------------------------------\n",
      "------------------------------------\n",
      "AD62's hpCTR w.r.t. the user group:  5.0 %\n",
      "AD62's eCPM:  100000 원\n",
      "------------------------------------\n",
      "------------------------------------\n",
      "AD63's hpCTR w.r.t. the user group:  8.0 %\n",
      "AD63's eCPM:  160000 원\n",
      "------------------------------------\n",
      "------------------------------------\n",
      "AD64's hpCTR w.r.t. the user group:  18.0 %\n",
      "AD64's eCPM:  360000 원\n",
      "------------------------------------\n",
      "------------------------------------\n",
      "AD65's hpCTR w.r.t. the user group:  9.0 %\n",
      "AD65's eCPM:  180000 원\n",
      "------------------------------------\n",
      "------------------------------------\n",
      "AD66's hpCTR w.r.t. the user group:  1.0 %\n",
      "AD66's eCPM:  20000 원\n",
      "------------------------------------\n"
     ]
    },
    {
     "name": "stdout",
     "output_type": "stream",
     "text": [
      "------------------------------------\n",
      "AD67's hpCTR w.r.t. the user group:  7.0 %\n",
      "AD67's eCPM:  140000 원\n",
      "------------------------------------\n",
      "------------------------------------\n",
      "AD68's hpCTR w.r.t. the user group:  9.0 %\n",
      "AD68's eCPM:  180000 원\n",
      "------------------------------------\n",
      "------------------------------------\n",
      "AD69's hpCTR w.r.t. the user group:  1.0 %\n",
      "AD69's eCPM:  20000 원\n",
      "------------------------------------\n",
      "------------------------------------\n",
      "AD70's hpCTR w.r.t. the user group:  1.0 %\n",
      "AD70's eCPM:  20000 원\n",
      "------------------------------------\n",
      "------------------------------------\n",
      "AD71's hpCTR w.r.t. the user group:  39.0 %\n",
      "AD71's eCPM:  780000 원\n",
      "------------------------------------\n",
      "------------------------------------\n",
      "AD72's hpCTR w.r.t. the user group:  1.0 %\n",
      "AD72's eCPM:  20000 원\n",
      "------------------------------------\n",
      "------------------------------------\n",
      "AD73's hpCTR w.r.t. the user group:  1.0 %\n",
      "AD73's eCPM:  20000 원\n",
      "------------------------------------\n",
      "------------------------------------\n",
      "AD74's hpCTR w.r.t. the user group:  22.0 %\n",
      "AD74's eCPM:  440000 원\n",
      "------------------------------------\n",
      "------------------------------------\n",
      "AD75's hpCTR w.r.t. the user group:  1.0 %\n",
      "AD75's eCPM:  20000 원\n",
      "------------------------------------\n",
      "------------------------------------\n",
      "AD76's hpCTR w.r.t. the user group:  1.0 %\n",
      "AD76's eCPM:  20000 원\n",
      "------------------------------------\n",
      "------------------------------------\n",
      "AD77's hpCTR w.r.t. the user group:  33.0 %\n",
      "AD77's eCPM:  660000 원\n",
      "------------------------------------\n",
      "------------------------------------\n",
      "AD78's hpCTR w.r.t. the user group:  1.0 %\n",
      "AD78's eCPM:  20000 원\n",
      "------------------------------------\n",
      "------------------------------------\n",
      "AD79's hpCTR w.r.t. the user group:  1.0 %\n",
      "AD79's eCPM:  20000 원\n",
      "------------------------------------\n",
      "------------------------------------\n",
      "AD80's hpCTR w.r.t. the user group:  1.0 %\n",
      "AD80's eCPM:  20000 원\n",
      "------------------------------------\n",
      "------------------------------------\n",
      "AD81's hpCTR w.r.t. the user group:  1.0 %\n",
      "AD81's eCPM:  20000 원\n",
      "------------------------------------\n",
      "------------------------------------\n",
      "AD82's hpCTR w.r.t. the user group:  1.0 %\n",
      "AD82's eCPM:  20000 원\n",
      "------------------------------------\n",
      "------------------------------------\n",
      "AD83's hpCTR w.r.t. the user group:  1.0 %\n",
      "AD83's eCPM:  20000 원\n",
      "------------------------------------\n",
      "------------------------------------\n",
      "AD84's hpCTR w.r.t. the user group:  2.0 %\n",
      "AD84's eCPM:  40000 원\n",
      "------------------------------------\n",
      "------------------------------------\n",
      "AD85's hpCTR w.r.t. the user group:  1.0 %\n",
      "AD85's eCPM:  20000 원\n",
      "------------------------------------\n",
      "------------------------------------\n",
      "AD86's hpCTR w.r.t. the user group:  1.0 %\n",
      "AD86's eCPM:  20000 원\n",
      "------------------------------------\n",
      "------------------------------------\n",
      "AD87's hpCTR w.r.t. the user group:  7.0 %\n",
      "AD87's eCPM:  140000 원\n",
      "------------------------------------\n",
      "------------------------------------\n",
      "AD88's hpCTR w.r.t. the user group:  7.0 %\n",
      "AD88's eCPM:  140000 원\n",
      "------------------------------------\n",
      "------------------------------------\n",
      "AD89's hpCTR w.r.t. the user group:  60.0 %\n",
      "AD89's eCPM:  1200000 원\n",
      "------------------------------------\n",
      "------------------------------------\n",
      "AD90's hpCTR w.r.t. the user group:  14.0 %\n",
      "AD90's eCPM:  280000 원\n",
      "------------------------------------\n",
      "------------------------------------\n",
      "AD91's hpCTR w.r.t. the user group:  1.0 %\n",
      "AD91's eCPM:  20000 원\n",
      "------------------------------------\n",
      "------------------------------------\n",
      "AD92's hpCTR w.r.t. the user group:  20.0 %\n",
      "AD92's eCPM:  400000 원\n",
      "------------------------------------\n",
      "------------------------------------\n",
      "AD93's hpCTR w.r.t. the user group:  1.0 %\n",
      "AD93's eCPM:  20000 원\n",
      "------------------------------------\n",
      "------------------------------------\n",
      "AD94's hpCTR w.r.t. the user group:  1.0 %\n",
      "AD94's eCPM:  20000 원\n",
      "------------------------------------\n",
      "------------------------------------\n",
      "AD95's hpCTR w.r.t. the user group:  1.0 %\n",
      "AD95's eCPM:  20000 원\n",
      "------------------------------------\n",
      "------------------------------------\n",
      "AD96's hpCTR w.r.t. the user group:  1.0 %\n",
      "AD96's eCPM:  20000 원\n",
      "------------------------------------\n",
      "------------------------------------\n",
      "AD97's hpCTR w.r.t. the user group:  6.0 %\n",
      "AD97's eCPM:  120000 원\n",
      "------------------------------------\n",
      "------------------------------------\n",
      "AD98's hpCTR w.r.t. the user group:  1.0 %\n",
      "AD98's eCPM:  20000 원\n",
      "------------------------------------\n",
      "------------------------------------\n",
      "AD99's hpCTR w.r.t. the user group:  50.0 %\n",
      "AD99's eCPM:  1000000 원\n",
      "------------------------------------\n"
     ]
    }
   ],
   "source": [
    "# 모든 광고의 hpCTR 및 eCPM 계산 for CSM\n",
    "print('------------------------------------')\n",
    "print('Cost Sensitive Model + Factorization Machines')\n",
    "for i in range(num_of_items):\n",
    "    eCPM_is(check_AD_str='{}'.format(i), bid = 2000, threshold_=threshold)"
   ]
  },
  {
   "cell_type": "markdown",
   "metadata": {},
   "source": [
    "# - The End -"
   ]
  },
  {
   "cell_type": "code",
   "execution_count": null,
   "metadata": {},
   "outputs": [],
   "source": []
  }
 ],
 "metadata": {
  "kernelspec": {
   "display_name": "Python 3",
   "language": "python",
   "name": "python3"
  },
  "language_info": {
   "codemirror_mode": {
    "name": "ipython",
    "version": 3
   },
   "file_extension": ".py",
   "mimetype": "text/x-python",
   "name": "python",
   "nbconvert_exporter": "python",
   "pygments_lexer": "ipython3",
   "version": "3.6.5"
  }
 },
 "nbformat": 4,
 "nbformat_minor": 2
}
