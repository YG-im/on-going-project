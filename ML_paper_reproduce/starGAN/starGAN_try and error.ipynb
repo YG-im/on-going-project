{
 "cells": [
  {
   "cell_type": "markdown",
   "metadata": {},
   "source": [
    "# starGAN 논문 구현"
   ]
  },
  {
   "cell_type": "code",
   "execution_count": 2,
   "metadata": {},
   "outputs": [],
   "source": [
    "import tensorflow as tf"
   ]
  },
  {
   "cell_type": "code",
   "execution_count": 3,
   "metadata": {},
   "outputs": [],
   "source": [
    "from sklearn.preprocessing import OneHotEncoder"
   ]
  },
  {
   "cell_type": "code",
   "execution_count": 26,
   "metadata": {},
   "outputs": [],
   "source": [
    "from tensorflow.keras.layers import Dense, Flatten, Conv2D, ReLU, Conv2DTranspose\n",
    "from tensorflow.keras.activations import tanh"
   ]
  },
  {
   "cell_type": "markdown",
   "metadata": {},
   "source": [
    "# Load dataset"
   ]
  },
  {
   "cell_type": "code",
   "execution_count": 22,
   "metadata": {},
   "outputs": [],
   "source": [
    "def random_image_label_data(sample_size, image_size, RGB=3):\n",
    "    '''\n",
    "    sample_size : 원하는 샘플 양 설정.\n",
    "    image_size :  원하는 이미지 사이즈 설정. ex) 128x128 -> image_size=128\n",
    "    RGB : default=3 \n",
    "    '''\n",
    "    N1 = sample_size\n",
    "    image_size_ = image_size\n",
    "    RGB_ = RGB\n",
    "    # np.random.normal : Draw random samples from a normal (Gaussian) distribution.\n",
    "    image_data = np.random.normal(size=[N1,image_size_,image_size_,RGB_]) \n",
    "    label_hair = tf.one_hot(np.random.randint(0,3,size=N1),depth=3)\n",
    "    label_gender = tf.one_hot(np.random.randint(0,2,size=N1),depth=1)\n",
    "    label_age = tf.one_hot(np.random.randint(0,2,size=N1),depth=1)\n",
    "    label_gender_age = np.append(label_gender,label_age, axis=1)\n",
    "    label = np.append(label_hair,label_gender_age, axis=1)\n",
    "    return (image_data, label)"
   ]
  },
  {
   "cell_type": "code",
   "execution_count": 23,
   "metadata": {},
   "outputs": [
    {
     "name": "stdout",
     "output_type": "stream",
     "text": [
      "(2, 128, 128, 3)\n",
      "(2, 5)\n",
      "(2, 128, 128, 3)\n",
      "(2, 5)\n"
     ]
    }
   ],
   "source": [
    "# 데이터 shape 파악\n",
    "# input이 들어가서 output으로 오류없이 나오는지만 확인._실제로 하면 GPU필요하고 하루 이상 돌아가야함.\n",
    "image_data, label = random_image_label_data(1000,128)\n",
    "train_dataset = tf.data.Dataset.from_tensor_slices((image_data, label))\n",
    "train_dataset = train_dataset.batch(2) # 작은 배치로 해서 코드가 잘 돌아가는지 점검\n",
    "\n",
    "for images, labels in train_dataset.take(2): \n",
    "    print(images.shape)\n",
    "    print(labels.shape)\n",
    "    '''\n",
    "    (2, 128, 128, 3) #첫번째 2개씩 128,128,3짜리\n",
    "    (2, 5) # 첫번째 label 2개씩 불러오기\n",
    "    (2, 128, 128, 3)\n",
    "    (2, 5)\n",
    "    '''"
   ]
  },
  {
   "cell_type": "markdown",
   "metadata": {},
   "source": [
    "# Create the Models"
   ]
  },
  {
   "cell_type": "code",
   "execution_count": null,
   "metadata": {},
   "outputs": [],
   "source": [
    "# class 만들때, tf.keras.model ; 반드시 상속\n",
    "# Appendix에 나온 대로 하면됨"
   ]
  },
  {
   "cell_type": "markdown",
   "metadata": {},
   "source": [
    "## Generator"
   ]
  },
  {
   "cell_type": "markdown",
   "metadata": {},
   "source": [
    "### Down sampling"
   ]
  },
  {
   "cell_type": "markdown",
   "metadata": {},
   "source": [
    "- concat 함수"
   ]
  },
  {
   "cell_type": "code",
   "execution_count": 24,
   "metadata": {},
   "outputs": [],
   "source": [
    "def concat(image, label):\n",
    "    '''\n",
    "    1차원 행렬인 label(array)을 다차원 행렬인 image(array)에 맞춰서 broadcasting해서 합쳐서 tensor로 출력해주는 함수.\n",
    "    label, image 는 array와 tensor형태 모두 허용.\n",
    "    '''\n",
    "    N = len(image) #  총 샘플 수\n",
    "    label_len =  len(label[0]) # 하나의 label의 list 길이 \n",
    "    image_size = len(image[0]) # 하나의 image의 한변의 길이\n",
    "\n",
    "    #비어있는 list 정의\n",
    "    concat = []\n",
    "    for i in range(N):\n",
    "        # label과 image i번째 성분\n",
    "        label_ = label[i]\n",
    "        image_ = image[i]\n",
    "        # 128x128x5짜리 성분이 1인 행렬 만들기\n",
    "        ones = np.ones((image_size, image_size, label_len))\n",
    "        # ones에서 [1,1,1,1,1]을 label_로 치환해서 128x128x5짜리 label 행렬 구축.\n",
    "        label_vol = np.where(ones==np.ones((label_len)), label_ , ones)\n",
    "        # image데이터와 label데이터를 concat해서 128x128x8행렬로 변경\n",
    "        image_label_concat = np.concatenate((image_, label_vol), axis=2)\n",
    "        # image_label_concat을 concat에 추가.\n",
    "        concat.append(image_label_concat)\n",
    "    # concat을 list에서 np.array로 바꾸고 출력.\n",
    "    concat_array = np.array(concat) \n",
    "    # list를 바로 텐서로 바꾸니 시간이 오래걸려서 array 바꾸고 tensor로 바꾸는 방식으로.\n",
    "    return tf.convert_to_tensor(concat_array, dtype=tf.float32) # tensor형태로 바꿔서 출력"
   ]
  },
  {
   "cell_type": "code",
   "execution_count": 25,
   "metadata": {},
   "outputs": [],
   "source": [
    "xxx = concat(image_data, label)\n",
    "#xxx"
   ]
  },
  {
   "cell_type": "markdown",
   "metadata": {},
   "source": [
    "- Instance Normalization\n",
    "    - call : 호출\n",
    "    - IN에서 y= a*x+b 에서 a,b 학습? ㅇㅇ"
   ]
  },
  {
   "cell_type": "code",
   "execution_count": 161,
   "metadata": {},
   "outputs": [],
   "source": [
    "class InstanceNormalization(tf.keras.layers.Layer):\n",
    "    \"\"\"InstanceNormalization for only 4-rank Tensor (image data)\n",
    "    \"\"\"\n",
    "    def __init__(self, epsilon=1e-5):\n",
    "        super(InstanceNormalization, self).__init__() #관습적. # super().__init__() \n",
    "        self.epsilon = epsilon\n",
    "\n",
    "    def build(self, input_shape):\n",
    "        shape = tf.TensorShape(input_shape)\n",
    "        param_shape = shape[-1]\n",
    "        # Create a trainable weight variable for this layer.\n",
    "        self.gamma = self.add_weight(name='gamma',     #이거 학습하는거\n",
    "                                     shape=param_shape,\n",
    "                                     initializer='ones',\n",
    "                                     trainable=True)\n",
    "        self.beta = self.add_weight(name='beta',\n",
    "                                    shape=param_shape,\n",
    "                                    initializer='zeros',\n",
    "                                    trainable=True)\n",
    "        # Make sure to call the `build` method at the end\n",
    "        super(InstanceNormalization, self).build(input_shape)\n",
    "\n",
    "    def call(self, inputs):\n",
    "        # Compute the axes along which to reduce the mean / variance\n",
    "        input_shape = inputs.get_shape()\n",
    "        reduction_axes = [1, 2] # only shape index\n",
    "        mean, variance = tf.nn.moments(inputs, reduction_axes, keep_dims=True)\n",
    "        normalized = (inputs - mean) / tf.sqrt(variance + self.epsilon)\n",
    "        return self.gamma * normalized + self.beta\n"
   ]
  },
  {
   "cell_type": "code",
   "execution_count": null,
   "metadata": {},
   "outputs": [],
   "source": [
    "class Downsampling(tf.keras.Model):\n",
    "    def __int__(self):\n",
    "        super(Downsampling, self).__init__()\n",
    "        self.conv1 = Conv2D(64, kernel_size = 7, strides = 1, padding = 'SAME')\n",
    "        self.conv2 = Conv2D(128, kernel_size = 4, strides = 2, padding = 'SAME')\n",
    "        self.conv3 = Conv2D(256, kernel_size = 4, strides = 2, padding = 'SAME')\n",
    "        self.IN = InstanceNormalization() #구현필요\n",
    "        self.activation = layers.relu()\n",
    "    \n",
    "    def call(self, image, label):\n",
    "        x = concat(image,label) #구현필요\n",
    "        x = self.conv1(x)\n",
    "        x = self.IN(x)\n",
    "        x = self.activation(x)\n",
    "        x = self.conv2(x)\n",
    "        x = self.IN(x)\n",
    "        x = self.activation(x)\n",
    "        x = self.conv3(x)\n",
    "        x = self.IN(x)\n",
    "        x = self.activation(x)\n",
    "        return x"
   ]
  },
  {
   "cell_type": "markdown",
   "metadata": {},
   "source": []
  },
  {
   "attachments": {
    "residual%20block.png": {
     "image/png": "[encoded data removed]"
    }
   },
   "cell_type": "markdown",
   "metadata": {},
   "source": [
    "## residual block \n",
    "![residual%20block.png](attachment:residual%20block.png)\n",
    "- conv -> BN -> relu -> conv -> BN -> RB ->relu\n",
    "- 아래 블록이 6개\n",
    "- 자세한 이유 공부하기?\n",
    "    - https://www.cv-foundation.org/openaccess/content_cvpr_2016/papers/He_Deep_Residual_Learning_CVPR_2016_paper.pdf\n",
    "- 참고 코드 : https://www.tensorflow.org/alpha/tutorials/eager/custom_layers"
   ]
  },
  {
   "cell_type": "code",
   "execution_count": 28,
   "metadata": {},
   "outputs": [],
   "source": [
    "#참고 코드 : https://www.tensorflow.org/alpha/tutorials/eager/custom_layers\n",
    "class ResnetIdentityBlock(tf.keras.Model):\n",
    "    def __init__(self, kernel_size, filters):\n",
    "        super(ResnetIdentityBlock, self).__init__(name='')\n",
    "        filters1, filters2, filters3 = filters\n",
    "\n",
    "        self.conv2a = tf.keras.layers.Conv2D(filters1, (1, 1))\n",
    "        self.bn2a = tf.keras.layers.BatchNormalization()\n",
    "\n",
    "        self.conv2b = tf.keras.layers.Conv2D(filters2, kernel_size, padding='same')\n",
    "        self.bn2b = tf.keras.layers.BatchNormalization()\n",
    "\n",
    "        self.conv2c = tf.keras.layers.Conv2D(filters3, (1, 1))\n",
    "        self.bn2c = tf.keras.layers.BatchNormalization()\n",
    "\n",
    "    def call(self, input_tensor, training=False):\n",
    "        x = self.conv2a(input_tensor)\n",
    "        x = self.bn2a(x, training=training)\n",
    "        x = tf.nn.relu(x)\n",
    "\n",
    "        x = self.conv2b(x)\n",
    "        x = self.bn2b(x, training=training)\n",
    "        x = tf.nn.relu(x)\n",
    "\n",
    "        x = self.conv2c(x)\n",
    "        x = self.bn2c(x, training=training)\n",
    "\n",
    "        x += input_tensor\n",
    "        return tf.nn.relu(x)"
   ]
  },
  {
   "cell_type": "markdown",
   "metadata": {},
   "source": [
    "# loss"
   ]
  },
  {
   "cell_type": "code",
   "execution_count": 32,
   "metadata": {},
   "outputs": [],
   "source": [
    "# 코드 오류있음. 일단 테스트용으로.\n",
    "\n",
    "######## Class, 보조 함수 정의 ##################\n",
    "\n",
    "# InstanceNormalization function 정의\n",
    "def IN(images):\n",
    "  HW = images.shape[1]*images.shape[2] \n",
    "\n",
    "  u_ti = 1/HW*np.sum(images, axis=(1,2))   # 2x3  \n",
    "  for _ in range(2):\n",
    "    u_ti = np.stack((u_ti, )*images.shape[1], axis=-1) # 2x3x128x128\n",
    "  u_ti = np.swapaxes(u_ti,1,3) # 2x128x128x3  \n",
    "\n",
    "  var_ti = 1/HW*np.sum((images - u_ti), axis=(1,2))**2 # 2x3  \n",
    "  for _ in range(2):\n",
    "    var_ti = np.stack((var_ti, )*images.shape[1], axis=-1) # 2x3x128x128\n",
    "  var_ti = np.swapaxes(var_ti,1,3) # 2x128x128x3                      \n",
    "\n",
    "  y_tijk = (images - u_ti) / np.sqrt(var_ti + np.finfo(np.float32).eps)  # 2x128x128x3\n",
    "  return y_tijk   \n",
    "\n",
    "# Input merge function (이미지와 label 정보 합침) 정의\n",
    "def input_merge(images, labels):\n",
    "  batch_size = images.shape[0]\n",
    "  image_size = images.shape[1]\n",
    "  channels = labels.shape[1]\n",
    "  merged = np.zeros([batch_size,image_size,image_size,channels])\n",
    "  for batch in range(batch_size):\n",
    "    temp = tf.broadcast_to(labels[batch], [image_size,image_size,channels])\n",
    "    merged[batch] = temp\n",
    "  merged = tf.concat([images, merged], axis=-1)\n",
    "  return merged  \n",
    "  \n",
    "# Downsampling class 정의\n",
    "class Downsampling_Part(tf.keras.Model):\n",
    "  def __init__(self):\n",
    "    super(Downsampling_Part, self).__init__()\n",
    "    self.conv1 = Conv2D(64, kernel_size = 7, strides = 1, padding = 'SAME')\n",
    "    self.conv2 = Conv2D(128, kernel_size = 4, strides = 2, padding = 'SAME')\n",
    "    self.conv3 = Conv2D(256, kernel_size = 4, strides = 2, padding = 'SAME')\n",
    "    self.activation = ReLU()\n",
    "    \n",
    "  def call(self, images, labels):\n",
    "    x = input_merge(images,labels)\n",
    "    x = self.conv1(x)\n",
    "    x = IN(x)\n",
    "    x = self.activation(x)\n",
    "    assert x.shape == (2, 128, 128, 64) \n",
    "\n",
    "    x = self.conv2(x)\n",
    "    x = IN(x)\n",
    "    x = self.activation(x)\n",
    "    assert x.shape == (2, 64, 64, 128) \n",
    "    \n",
    "    x = self.conv3(x)\n",
    "    x = IN(x)\n",
    "    x = self.activation(x)\n",
    "    assert x.shape == (2, 32, 32, 256) \n",
    "    return x\n",
    " \n",
    "# ResidualBlock class 정의\n",
    "class ResidualBlock_Part(tf.keras.Model):\n",
    "  def __init__(self, kernel_size=3, filters=256, strides=1, padding='SAME'):\n",
    "    super(ResidualBlock_Part, self).__init__()\n",
    "    self.conv = Conv2D(filters, kernel_size, strides, padding)\n",
    "    self.activation_ReLU = ReLU()\n",
    "\n",
    "  def call(self, input_tensor):\n",
    "    x = input_tensor\n",
    "    x_list = []\n",
    "    for i in range(6):\n",
    "      x_list.append(x)\n",
    "      x_list[i] = self.conv(x_list[i])\n",
    "      x_list[i] = IN(x_list[i])\n",
    "      if i == 0:\n",
    "        x_list[i] += input_tensor\n",
    "      else:\n",
    "        x_list[i] += x_list[i-1]\n",
    "      x_list[i] = self.activation_ReLU(x_list[i])\n",
    "    return x_list[-1] \n",
    "  \n",
    "  \n",
    "# Upsampling class 정의\n",
    "class Upsampling_Part(tf.keras.Model):\n",
    "  def __init__(self):\n",
    "    super(Upsampling_Part, self).__init__()\n",
    "    self.deconv1 = Conv2DTranspose(128, kernel_size = 4, strides = 2, padding = 'SAME')\n",
    "    self.deconv2 = Conv2DTranspose(64, kernel_size = 4, strides = 2, padding = 'SAME')\n",
    "    self.conv1 = Conv2D(3, kernel_size = 7, strides = 1, padding = 'SAME')\n",
    "    self.activation_ReLU = ReLU()\n",
    "    \n",
    "  def call(self, x):\n",
    "    x = self.deconv1(x)\n",
    "    x = IN(x)\n",
    "    x = self.activation_ReLU(x)\n",
    "    assert x.shape == (2, 64, 64, 128) \n",
    "\n",
    "    x = self.deconv2(x)\n",
    "    x = IN(x)\n",
    "    x = self.activation_ReLU(x)\n",
    "    assert x.shape == (2, 128, 128, 64) \n",
    "    \n",
    "    x = self.conv1(x)\n",
    "    x = tanh(x)\n",
    "    assert x.shape == (2, 128, 128, 3) \n",
    "    return x\n",
    "  \n",
    "# 최종 Generator class 정의\n",
    "class Build_Generator(tf.keras.Model):\n",
    "  def __init__(self):\n",
    "    super(Build_Generator, self).__init__()\n",
    "    self.Downsampling = Downsampling_Part()\n",
    "    self.ResidualBlock = ResidualBlock_Part()\n",
    "    self.Upsampling = Upsampling_Part()\n",
    "    \n",
    "  def call(self, images, labels):\n",
    "    x = self.Downsampling(images, labels)\n",
    "    print(\"The shape of the input tensor after downsampling :\", x.shape)\n",
    "    x = self.ResidualBlock(x)\n",
    "    print(\"The shape of the input tensor after Bottleneck :\", x.shape)\n",
    "    x = self.Upsampling(x)\n",
    "    print(\"The shape of the input tensor after upsampling :\", x.shape)\n",
    "    return x\n",
    " \n",
    "######## Generator 수행 ##################\n",
    "# 데이터 생성\n",
    "N = 1000\n",
    "image_size = 128\n",
    "image_data = np.random.normal(size=[N, image_size, image_size, 3])\n",
    "\n",
    "label_1 = np.random.uniform(low=0., high=3., size=N).astype(np.int32) # facial expression attributes\n",
    "label_1 = tf.one_hot(label_1, depth=3)\n",
    "label_2 = np.random.randint(2, size=(N,2)) # male, young attributes\n",
    "label =  np.concatenate([label_1, label_2], axis=-1)\n",
    "\n",
    "train_dataset = tf.data.Dataset.from_tensor_slices((image_data,label))\n",
    "train_dataset = train_dataset.batch(2) \n",
    "\n"
   ]
  },
  {
   "cell_type": "code",
   "execution_count": 56,
   "metadata": {},
   "outputs": [],
   "source": [
    "class conv(tf.keras.Model):\n",
    "    def __init__(self, filters, size, strides=1, padding='same', activation='relu',\n",
    "               apply_norm='instance', norm_momentum=0.9, norm_epsilon=1e-5, use_bias=True):\n",
    "        super(conv, self).__init__()\n",
    "        assert apply_norm in ['batch', 'instance', 'none']\n",
    "        self.apply_norm = apply_norm\n",
    "        assert activation in ['leaky_relu', 'relu', 'tanh', 'none']\n",
    "        self.activation = activation\n",
    "\n",
    "#         if self.apply_norm == 'none':\n",
    "#             use_bias = True\n",
    "#         else:\n",
    "#             use_bias = False\n",
    "\n",
    "        self.conv = tf.keras.layers.Conv2D(filters=filters,\n",
    "                                  kernel_size=(size, size),\n",
    "                                  strides=strides,\n",
    "                                  padding=padding,\n",
    "                                  kernel_initializer=tf.random_normal_initializer(0., 0.02),\n",
    "                                  use_bias=use_bias)\n",
    "\n",
    "        if self.apply_norm == 'instance':\n",
    "            self.instancenorm = InstanceNormalization()\n",
    "        elif self.apply_norm == 'batch':\n",
    "            self.batchnorm = tf.keras.layers.layers.BatchNormalization(momentum=norm_momentum,\n",
    "                                                     epsilon=norm_epsilon)\n",
    "        else:\n",
    "            pass\n",
    "\n",
    "    def call(self, x): #, training\n",
    "        # convolution\n",
    "        x = self.conv(x)\n",
    "\n",
    "#         # normalization\n",
    "#         if self.apply_norm == 'instance':\n",
    "#             x = self.instancenorm(x)\n",
    "#         elif self.apply_norm == 'batch':\n",
    "#             x = self.batchnorm(x, training=training)\n",
    "#         else:\n",
    "#             pass\n",
    "\n",
    "        # activation\n",
    "        if self.activation == 'relu':\n",
    "            x = tf.nn.relu(x)\n",
    "        elif self.activation == 'tanh':\n",
    "            x = tf.nn.tanh(x)\n",
    "        elif self.activation == 'leaky_relu':\n",
    "            x = tf.nn.leaky_relu(x)\n",
    "        else:\n",
    "            pass\n",
    "\n",
    "        return x"
   ]
  },
  {
   "cell_type": "code",
   "execution_count": 106,
   "metadata": {},
   "outputs": [],
   "source": [
    "class Build_Discriminator(tf.keras.Model):\n",
    "\n",
    "    def __init__(self, num_classes=5): \n",
    "#        super(Discriminator, self).__init__(name='Discriminator')\n",
    "        super().__init__()\n",
    "        self.num_classes = num_classes\n",
    "        # Define your layers here.\n",
    "        self.conv1 = conv(64, 4, 2, padding='same', activation='leaky_relu', apply_norm='none')\n",
    "        self.conv2 = conv(128, 4, 2, padding='same', activation='leaky_relu', apply_norm='none')\n",
    "        self.conv3 = conv(256, 4, 2, padding='same', activation='leaky_relu', apply_norm='none')\n",
    "        self.conv4 = conv(512, 4, 2, padding='same', activation='leaky_relu', apply_norm='none')\n",
    "        self.conv5 = conv(1024, 4, 2, padding='same', activation='leaky_relu', apply_norm='none')\n",
    "        self.conv6 = conv(2048, 4, 2, padding='same', activation='leaky_relu', apply_norm='none')\n",
    "        self.d_src = conv(1, 3, 1, padding='same', use_bias=False)\n",
    "        self.d_cls = conv(self.num_classes, 2, 1, padding='same', use_bias=False)\n",
    "\n",
    "    def call(self, inputs):\n",
    "        # Define your forward pass here,\n",
    "        # using layers you previously defined (in `__init__`).\n",
    "        x1 = self.conv1(inputs)\n",
    "        x2 = self.conv2(x1)\n",
    "        x3 = self.conv3(x2)\n",
    "        x4 = self.conv4(x3)\n",
    "        x5 = self.conv5(x4)\n",
    "        x6 = self.conv6(x5)\n",
    "        \n",
    "        output_d_src = self.d_src(x6)\n",
    "        output_d_cls = self.d_cls(x6)\n",
    "        output_d_cls = tf.reshape(output_d_cls, shape=[2,2,2, self.num_classes])\n",
    "        output_d_cls = tf.math.reduce_mean(output_d_cls,axis=[1,2]) # 이렇게 하는게 맞을까?\n",
    "        output_d_cls = tf.reshape(output_d_cls, shape=[2,1,1,5]) # output에 맞춰준다.\n",
    "        \n",
    "        return output_d_src, output_d_cls"
   ]
  },
  {
   "cell_type": "code",
   "execution_count": 107,
   "metadata": {},
   "outputs": [
    {
     "name": "stdout",
     "output_type": "stream",
     "text": [
      "The shape of the input tensor after downsampling : (2, 32, 32, 256)\n",
      "The shape of the input tensor after Bottleneck : (2, 32, 32, 256)\n",
      "The shape of the input tensor after upsampling : (2, 128, 128, 3)\n",
      "(2, 128, 128, 3) (2, 2, 2, 1) (2, 1, 1, 5)\n"
     ]
    }
   ],
   "source": [
    "# Generator 수행\n",
    "Generator = Build_Generator()\n",
    "generated_output = Generator(images, labels)\n",
    "Discriminator = Build_Discriminator()\n",
    "Disc_src, Disc_cls = Discriminator(generated_output)\n",
    "print(result.shape, Disc_src.shape, Disc_cls.shape)"
   ]
  },
  {
   "cell_type": "code",
   "execution_count": 108,
   "metadata": {},
   "outputs": [],
   "source": [
    "#tf.executing_eagerly()"
   ]
  },
  {
   "cell_type": "markdown",
   "metadata": {},
   "source": [
    "https://www.tensorflow.org/alpha/tutorials/generative/dcgan\n",
    "- 이거 참고하기\n",
    "    - with tf.GradientTape() as ..."
   ]
  },
  {
   "cell_type": "code",
   "execution_count": 109,
   "metadata": {},
   "outputs": [],
   "source": [
    "D_real_, D_real_cls_ = Discriminator(images)  # real_output = real_image + cls 정답\n",
    "D_fake_, D_fake_cls_ = Discriminator(generated_output) # generated_input = generated_image + cls 정답"
   ]
  },
  {
   "cell_type": "code",
   "execution_count": 111,
   "metadata": {},
   "outputs": [
    {
     "name": "stdout",
     "output_type": "stream",
     "text": [
      "(2, 2, 2, 1) (2, 1, 1, 5)\n"
     ]
    }
   ],
   "source": [
    "print(D_fake_.shape, D_fake_cls_.shape)"
   ]
  },
  {
   "cell_type": "code",
   "execution_count": 129,
   "metadata": {},
   "outputs": [
    {
     "data": {
      "text/plain": [
       "<tf.Tensor: id=13879, shape=(), dtype=float64, numpy=-5.877931025180347>"
      ]
     },
     "execution_count": 129,
     "metadata": {},
     "output_type": "execute_result"
    }
   ],
   "source": [
    " # 0.0001\n",
    "tf.reduce_mean(tf.math.log(D_real_+epsilon)+tf.math.log(1-D_fake_+epsilon))"
   ]
  },
  {
   "cell_type": "code",
   "execution_count": 147,
   "metadata": {
    "scrolled": true
   },
   "outputs": [
    {
     "name": "stdout",
     "output_type": "stream",
     "text": [
      "The shape of the input tensor after downsampling : (2, 32, 32, 256)\n",
      "The shape of the input tensor after Bottleneck : (2, 32, 32, 256)\n",
      "The shape of the input tensor after upsampling : (2, 128, 128, 3)\n"
     ]
    }
   ],
   "source": [
    "'''\n",
    "loss 함수\n",
    "decision, D(c'|x) = D(x) 이런거 어떻게 구현하지?\n",
    "'''\n",
    "\n",
    "# generated_output = Generator(images, labels)\n",
    "epsilon = 1e-8\n",
    "\n",
    "def adv_loss(real_input, generated_output):\n",
    "    D_real, D_real_cls = Discriminator(real_input)  # real_output = real_image + cls 정답\n",
    "    D_fake, D_fake_cls = Discriminator(generated_output) # generated_input = generated_image + cls 정답\n",
    "    return tf.reduce_mean(tf.math.log(D_real+epsilon)+tf.math.log(1-D_fake+epsilon))\n",
    "    \n",
    "def real_cls_loss(real_input): #?\n",
    "    D_real, D_real_cls = Discriminator(real_input) # real_input = real_image + cls 정답\n",
    "    return tf.reduce_mean(-tf.math.log(D_real_cls + epsilon))\n",
    "\n",
    "def fake_cls_loss(generated_output, label_fake): #cls 들어가야하는거 맞나?\n",
    "    D_fake, D_fake_cls = Discriminator(generated_output) # real_input = real_image + cls 정답\n",
    "    return tf.reduce_mean(-tf.math.log(D_fake_cls + epsilon))\n",
    "\n",
    "def rec_loss(real_input, label_real, generated_output, label_fake):\n",
    "    G_real_from_fake = Generator(generated_output, label_real)\n",
    "    real_subt_G = tf.norm(tf.math.subtract(real_input,G_real_from_fake), axis=1 )#axis 수정??? \n",
    "    return tf.reduce_mean(real_subt_G)\n",
    "\n",
    "def generator_loss(real_input, label_real, generated_output, label_fake, lambda_cls=1, lambda_rec=10):\n",
    "    return adv_loss(real_input, generated_output) + lambda_cls*fake_cls_loss(generated_output, label_fake)\\\n",
    "        +lambda_rec*rec_loss(real_input, label_real, generated_output, label_fake)\n",
    "\n",
    "def discriminator_loss(real_input, generated_output, lambda_cls=1):\n",
    "    return -adv_loss(real_input, generated_output) + lambda_cls*real_cls_loss(real_input)\n",
    "\n"
   ]
  },
  {
   "cell_type": "code",
   "execution_count": 160,
   "metadata": {
    "scrolled": true
   },
   "outputs": [
    {
     "name": "stdout",
     "output_type": "stream",
     "text": [
      "The shape of the input tensor after downsampling : (2, 32, 32, 256)\n",
      "The shape of the input tensor after Bottleneck : (2, 32, 32, 256)\n",
      "The shape of the input tensor after upsampling : (2, 128, 128, 3)\n",
      "tf.Tensor(153.08289377577708, shape=(), dtype=float64)\n",
      "tf.Tensor(16.033839916356733, shape=(), dtype=float64)\n"
     ]
    }
   ],
   "source": [
    "generated_output = Generator(images, labels)\n",
    "print(generator_loss(images, labels, generated_output, labels))\n",
    "print(discriminator_loss(images, generated_output))"
   ]
  },
  {
   "cell_type": "code",
   "execution_count": 146,
   "metadata": {},
   "outputs": [],
   "source": [
    "# generator_optimizer = tf.optimizers.Adam(1e-4)\n",
    "# discriminator_optimizer = tf.optimizers.Adam(1e-4)"
   ]
  },
  {
   "cell_type": "code",
   "execution_count": 150,
   "metadata": {},
   "outputs": [],
   "source": [
    "#DCGAN train algorithm 이거 기반으로 업그레이드하기\n",
    "@tf.function  #Decorlator\n",
    "def train_step(images):\n",
    "    noise = tf.random.normal([BATCH_SIZE, noise_dim])\n",
    "\n",
    "    with tf.GradientTape() as gen_tape, tf.GradientTape() as disc_tape:\n",
    "        generated_images = generator(noise, training=True)\n",
    "\n",
    "        real_output = discriminator(images, training=True)\n",
    "        fake_output = discriminator(generated_images, training=True)\n",
    "\n",
    "        gen_loss = generator_loss(fake_output)\n",
    "        disc_loss = discriminator_loss(real_output, fake_output)\n",
    "\n",
    "    gradients_of_generator = gen_tape.gradient(gen_loss, generator.trainable_variables)\n",
    "    gradients_of_discriminator = disc_tape.gradient(disc_loss, discriminator.trainable_variables)\n",
    "\n",
    "    generator_optimizer.apply_gradients(zip(gradients_of_generator, generator.trainable_variables))\n",
    "    discriminator_optimizer.apply_gradients(zip(gradients_of_discriminator, discriminator.trainable_variables))"
   ]
  },
  {
   "cell_type": "markdown",
   "metadata": {},
   "source": [
    "### cf) The tf.function decorator\n",
    "- When you annotate a function with tf.function, you can still call it like any other function. But it will be compiled into a graph, which means you get the benefits of faster execution, running on GPU or TPU, or exporting to SavedModel.\n",
    "\n",
    "\n",
    "### cf) @ : Decorlator\n",
    "- 코드를 바꾸지 않고 함수의 기능을 추가하거나 수정하고 싶을때 사용합니다. \n",
    "- decorlator를 사용하여 공통되는 코드를 따로 묶어서 사용할수 있습니다. `*args`와 `**kwargs`를 이용하여 내부함수와 내부 인자로 사용합니다.\n",
    "\n",
    "- 예를 들어 아래와 같은 함수를 만들때 code_1, code_3은 공통적인 코드로 공통적인 코드부분을 묶고 싶을때 사용할수 있습니다.\n",
    "\n",
    "```\n",
    "def A():\n",
    "    code_1\n",
    "    code_2\n",
    "    code_3\n",
    "\n",
    "def B():\n",
    "    code_1\n",
    "    code_4\n",
    "    code_3\n",
    "```\n",
    "\n",
    "C() 함수는 데코레이터로 사용하기 위해 만든 함수로 위의 코드에서 A()와 B() 함수의 공통 코드인 code_1, code_3을 가지고 있습니다.\n",
    "\n",
    "```\n",
    "def C(func):\n",
    "    def wrapper(*args, *kwargs)\n",
    "        code_1\n",
    "        func(*args, *kwargs) \n",
    "        code_3\n",
    "    return wrapper\n",
    "\n",
    "@C\n",
    "def A():\n",
    "    code_2\n",
    "\n",
    "@C\n",
    "def B():\n",
    "    code_4\n",
    "```"
   ]
  },
  {
   "cell_type": "code",
   "execution_count": 109,
   "metadata": {
    "scrolled": true
   },
   "outputs": [
    {
     "data": {
      "text/plain": [
       "(1, 128, 128, 8)"
      ]
     },
     "execution_count": 109,
     "metadata": {},
     "output_type": "execute_result"
    }
   ],
   "source": [
    "concat = []\n",
    "image_size = 128\n",
    "label_len = 5\n",
    "i=0\n",
    "\n",
    "label_ = label.numpy()[i]\n",
    "image_ = image_data[i]\n",
    "ones = np.ones((image_size, image_size, label_len))\n",
    "label_vol = np.where(ones==np.ones((1,label_len)), label_ , ones)\n",
    "image_label_concat = np.concatenate((image_, label_vol), axis=2)\n",
    "concat.append(image_label_concat)\n",
    "np.array(concat).shape"
   ]
  },
  {
   "cell_type": "code",
   "execution_count": 23,
   "metadata": {},
   "outputs": [
    {
     "name": "stdout",
     "output_type": "stream",
     "text": [
      "(2, 64, 64, 4)\n"
     ]
    }
   ],
   "source": [
    "for images, labels in train_dataset.take(1): \n",
    "    output = conv(images)\n",
    "    print(output.shape)\n",
    "#     print(labels.shape)"
   ]
  },
  {
   "cell_type": "code",
   "execution_count": null,
   "metadata": {},
   "outputs": [],
   "source": [
    "class MyModel(tf.keras.Model):\n",
    "\n",
    "    def __init__(self, num_classes=10):\n",
    "        super(MyModel, self).__init__(name='my_model')\n",
    "        self.num_classes = num_classes\n",
    "        # Define your layers here.\n",
    "        self.dense_1 = layers.Dense(32, activation='relu')\n",
    "        self.dense_2 = layers.Dense(num_classes, activation='sigmoid')\n",
    "\n",
    "    def call(self, inputs):\n",
    "        # Define your forward pass here,\n",
    "        # using layers you previously defined (in `__init__`).\n",
    "        x = self.dense_1(inputs)\n",
    "        return self.dense_2(x)\n",
    "\n"
   ]
  },
  {
   "cell_type": "markdown",
   "metadata": {},
   "source": [
    "## Discriminator"
   ]
  },
  {
   "cell_type": "markdown",
   "metadata": {},
   "source": [
    "# Define the loss functions and the optimizer"
   ]
  },
  {
   "cell_type": "code",
   "execution_count": 6,
   "metadata": {},
   "outputs": [],
   "source": [
    "# 논문에서 G와 D 각각 loss를 어떻게 구현하는지 파악해야함"
   ]
  },
  {
   "cell_type": "code",
   "execution_count": null,
   "metadata": {},
   "outputs": [],
   "source": []
  }
 ],
 "metadata": {
  "kernelspec": {
   "display_name": "Python 3",
   "language": "python",
   "name": "python3"
  },
  "language_info": {
   "codemirror_mode": {
    "name": "ipython",
    "version": 3
   },
   "file_extension": ".py",
   "mimetype": "text/x-python",
   "name": "python",
   "nbconvert_exporter": "python",
   "pygments_lexer": "ipython3",
   "version": "3.6.5"
  }
 },
 "nbformat": 4,
 "nbformat_minor": 2
}
