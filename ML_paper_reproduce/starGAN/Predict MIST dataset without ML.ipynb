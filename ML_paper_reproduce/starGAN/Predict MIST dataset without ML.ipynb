{
 "cells": [
  {
   "cell_type": "markdown",
   "metadata": {},
   "source": [
    "# MNIST data 유사도 체크를 통한 특이한 예측법"
   ]
  },
  {
   "cell_type": "code",
   "execution_count": 1,
   "metadata": {},
   "outputs": [],
   "source": [
    "import tensorflow as tf"
   ]
  },
  {
   "cell_type": "code",
   "execution_count": 60,
   "metadata": {},
   "outputs": [],
   "source": [
    "(train_images, train_labels), (test_images, test_labels) = tf.keras.datasets.mnist.load_data()"
   ]
  },
  {
   "cell_type": "code",
   "execution_count": 61,
   "metadata": {},
   "outputs": [],
   "source": [
    "index_list = []\n",
    "train_list = []\n",
    "error_list = []\n",
    "for i in list(set(train_labels)):\n",
    "    index_array = np.where(train_labels==i)[0]\n",
    "    index_list.append(index_array)\n",
    "    # train set에서 같은 정답을 추출해서 28x28행렬을 다 더해서 평균냄.\n",
    "    train_array = train_images[index_array].sum(axis=0)/len(train_images[index_array])\n",
    "    train_list.append(train_array)\n",
    "    # 각 샘플별로 train_array와 성분별로 얼마나 차이나는지 제곱으로 해서 전부 sum함. 그리고 샘플 평균 구하기(error구하는 느낌.) sum으로 할까 mean으로 할까?)\n",
    "    error_list.append(((train_array - train_images[index_array])**2).sum(axis=1).sum(axis=1).mean())\n",
    "#train_list들과 새로운 샘플과의 오차를 구해보고 가장 작은 오차를 보이는게 정답?"
   ]
  },
  {
   "cell_type": "markdown",
   "metadata": {},
   "source": [
    "## squared error를 이용하여 성분의 유사도 체크 후 전체 sum이 작은 값으로 정답 설정"
   ]
  },
  {
   "cell_type": "code",
   "execution_count": 62,
   "metadata": {
    "scrolled": true
   },
   "outputs": [
    {
     "data": {
      "text/plain": [
       "0.813"
      ]
     },
     "execution_count": 62,
     "metadata": {},
     "output_type": "execute_result"
    }
   ],
   "source": [
    "acc_list = []\n",
    "for index in range(6000):\n",
    "    pred = ((train_list - train_images[index])**2).sum(axis=1).sum(axis=1).argmin()\n",
    "    sol = train_labels[index]\n",
    "    acc_list.append(True if pred == sol else False)\n",
    "False_index = np.where(np.array(acc_list) == False)[0]\n",
    "1-len(False_index)/len(acc_list)    "
   ]
  },
  {
   "cell_type": "markdown",
   "metadata": {},
   "source": [
    "- train set 정확도 : 0.813"
   ]
  },
  {
   "cell_type": "code",
   "execution_count": 63,
   "metadata": {},
   "outputs": [
    {
     "data": {
      "text/plain": [
       "0.7893333333333333"
      ]
     },
     "execution_count": 63,
     "metadata": {},
     "output_type": "execute_result"
    }
   ],
   "source": [
    "acc_list = []\n",
    "for index in range(6000):\n",
    "    pred = ((train_list - test_images[index])**2).sum(axis=1).sum(axis=1).argmin()\n",
    "    sol = test_labels[index]\n",
    "    acc_list.append(True if pred == sol else False)\n",
    "False_index = np.where(np.array(acc_list) == False)[0]\n",
    "1-len(False_index)/len(acc_list)    "
   ]
  },
  {
   "cell_type": "markdown",
   "metadata": {},
   "source": [
    "- test set 정확도 : 0.789"
   ]
  },
  {
   "cell_type": "markdown",
   "metadata": {},
   "source": [
    "- 오답은 왜 나온거지.. 글쎄"
   ]
  },
  {
   "cell_type": "code",
   "execution_count": 6,
   "metadata": {},
   "outputs": [
    {
     "data": {
      "text/plain": [
       "(1, 5)"
      ]
     },
     "execution_count": 6,
     "metadata": {},
     "output_type": "execute_result"
    }
   ],
   "source": [
    "index =11\n",
    "pred_ = np.array([((train_list[j] - train_images[index])**2).sum() for j in range(10)])\n",
    "pred = pred_.argmin()\n",
    "sol = train_labels[index]\n",
    "(pred, sol)"
   ]
  },
  {
   "cell_type": "code",
   "execution_count": 7,
   "metadata": {},
   "outputs": [
    {
     "data": {
      "text/plain": [
       "array([5115819.32098976, 2635133.08608766, 3269188.67510432,\n",
       "       4222495.29703986, 3540480.62398504, 3429094.80486756,\n",
       "       3946658.98342645, 3892022.69752059, 3625443.59572105,\n",
       "       4037624.74940793])"
      ]
     },
     "execution_count": 7,
     "metadata": {},
     "output_type": "execute_result"
    }
   ],
   "source": [
    "pred_"
   ]
  },
  {
   "cell_type": "markdown",
   "metadata": {},
   "source": [
    "## 위치의 유무는 어떨까?\n",
    "- 잘 안돼...."
   ]
  },
  {
   "cell_type": "code",
   "execution_count": 187,
   "metadata": {},
   "outputs": [],
   "source": [
    "def sigmoid(x):\n",
    "    return 1/(1+np.exp(-x))"
   ]
  },
  {
   "cell_type": "code",
   "execution_count": 248,
   "metadata": {},
   "outputs": [
    {
     "data": {
      "text/plain": [
       "0.6832692891038881"
      ]
     },
     "execution_count": 248,
     "metadata": {},
     "output_type": "execute_result"
    }
   ],
   "source": [
    "sigmoid(train_list[1]).mean()"
   ]
  },
  {
   "cell_type": "code",
   "execution_count": 296,
   "metadata": {},
   "outputs": [],
   "source": [
    "train_list_make_ones = []\n",
    "for k in range(len(train_list)):\n",
    "    train_list_sigmoid = sigmoid(train_list[k] - 0.5)\n",
    "    make_zero = np.where(train_list_sigmoid <0.5,0,train_list_sigmoid)\n",
    "    make_zero_one = np.where(make_zero >0.5,1,make_zero)\n",
    "    train_list_make_ones.append(make_zero_one)"
   ]
  },
  {
   "cell_type": "code",
   "execution_count": 295,
   "metadata": {},
   "outputs": [],
   "source": [
    "def make_ones(test_image):\n",
    "    train_list_sigmoid = sigmoid(test_image - 0.5)\n",
    "    make_zero = np.where(train_list_sigmoid <0.5,0,train_list_sigmoid)\n",
    "    make_zero_one = np.where(make_zero >0.5,1,make_zero)\n",
    "    return make_zero_one"
   ]
  },
  {
   "cell_type": "code",
   "execution_count": 297,
   "metadata": {},
   "outputs": [
    {
     "data": {
      "text/plain": [
       "array([0., 0., 0., 0., 0., 0., 0., 0., 0., 0., 0., 1., 1., 1., 1., 1., 1.,\n",
       "       1., 0., 0., 0., 0., 0., 0., 0., 0., 0., 0.])"
      ]
     },
     "execution_count": 297,
     "metadata": {},
     "output_type": "execute_result"
    }
   ],
   "source": [
    "make_ones(train_images[10])[4]"
   ]
  },
  {
   "cell_type": "code",
   "execution_count": 298,
   "metadata": {},
   "outputs": [
    {
     "data": {
      "text/plain": [
       "array([0., 0., 0., 0., 0., 0., 0., 1., 1., 1., 1., 1., 1., 1., 1., 1., 1.,\n",
       "       1., 1., 1., 1., 1., 1., 1., 0., 0., 0., 0.])"
      ]
     },
     "execution_count": 298,
     "metadata": {},
     "output_type": "execute_result"
    }
   ],
   "source": [
    "train_list_make_ones[j][4]"
   ]
  },
  {
   "cell_type": "code",
   "execution_count": 323,
   "metadata": {
    "scrolled": true
   },
   "outputs": [
    {
     "data": {
      "text/plain": [
       "1"
      ]
     },
     "execution_count": 323,
     "metadata": {},
     "output_type": "execute_result"
    }
   ],
   "source": [
    "i=4\n",
    "np.array([np.where(train_list_make_ones[j] == make_ones(train_images[i]))[0].shape for j in range(10)]).argmax()"
   ]
  },
  {
   "cell_type": "code",
   "execution_count": 325,
   "metadata": {},
   "outputs": [
    {
     "data": {
      "text/plain": [
       "9"
      ]
     },
     "execution_count": 325,
     "metadata": {},
     "output_type": "execute_result"
    }
   ],
   "source": [
    "train_labels[4]"
   ]
  },
  {
   "cell_type": "code",
   "execution_count": 330,
   "metadata": {
    "scrolled": true
   },
   "outputs": [
    {
     "data": {
      "text/plain": [
       "784"
      ]
     },
     "execution_count": 330,
     "metadata": {},
     "output_type": "execute_result"
    }
   ],
   "source": [
    "28*28"
   ]
  },
  {
   "cell_type": "markdown",
   "metadata": {},
   "source": [
    "## data normalization 후 .."
   ]
  },
  {
   "cell_type": "code",
   "execution_count": 64,
   "metadata": {},
   "outputs": [],
   "source": [
    "#train_images = train_images.reshape(train_images.shape[0], 28, 28, 1).astype('float32')\n",
    "train_images = (train_images - 127.5) / 127.5 # Normalize the images to [-1, 1]"
   ]
  },
  {
   "cell_type": "code",
   "execution_count": 66,
   "metadata": {},
   "outputs": [],
   "source": [
    "index_list = []\n",
    "train_list = []\n",
    "error_list = []\n",
    "for i in list(set(train_labels)):\n",
    "    index_array = np.where(train_labels==i)[0]\n",
    "    index_list.append(index_array)\n",
    "    # train set에서 같은 정답을 추출해서 28x28행렬을 다 더해서 평균냄.\n",
    "    train_array = train_images[index_array].sum(axis=0)/len(train_images[index_array])\n",
    "    train_list.append(train_array)\n",
    "    # 각 샘플별로 train_array와 성분별로 얼마나 차이나는지 제곱으로 해서 전부 sum함. 그리고 샘플 평균 구하기(error구하는 느낌.) sum으로 할까 mean으로 할까?)\n",
    "    error_list.append(((train_array - train_images[index_array])**2).sum(axis=1).sum(axis=1).mean())\n",
    "    \n",
    "    #train_list들과 새로운 샘플과의 오차를 구해보고 가장 작은 오차를 보이는게 정답?"
   ]
  },
  {
   "cell_type": "code",
   "execution_count": 68,
   "metadata": {},
   "outputs": [
    {
     "data": {
      "text/plain": [
       "0.813"
      ]
     },
     "execution_count": 68,
     "metadata": {},
     "output_type": "execute_result"
    }
   ],
   "source": [
    "acc_list = []\n",
    "for index in range(6000):\n",
    "    pred = ((train_list - train_images[index])**2).sum(axis=1).sum(axis=1).argmin()\n",
    "    sol = train_labels[index]\n",
    "    acc_list.append(True if pred == sol else False)\n",
    "False_index = np.where(np.array(acc_list) == False)[0]\n",
    "1-len(False_index)/len(acc_list)   "
   ]
  },
  {
   "cell_type": "code",
   "execution_count": 69,
   "metadata": {},
   "outputs": [
    {
     "data": {
      "text/plain": [
       "0.6268333333333334"
      ]
     },
     "execution_count": 69,
     "metadata": {},
     "output_type": "execute_result"
    }
   ],
   "source": [
    "acc_list = []\n",
    "for index in range(6000):\n",
    "    pred = ((train_list - test_images[index])**2).sum(axis=1).sum(axis=1).argmin()\n",
    "    sol = test_labels[index]\n",
    "    acc_list.append(True if pred == sol else False)\n",
    "False_index = np.where(np.array(acc_list) == False)[0]\n",
    "1- len(False_index)/len(acc_list)    "
   ]
  },
  {
   "cell_type": "markdown",
   "metadata": {},
   "source": [
    "## 데이터 전처리 안하고 한 첫번째 방법이 제일 정확도가 높다. NN의 사진 학습이 높은 정확도를 가진 신기한 알고리즘인것 같다."
   ]
  },
  {
   "cell_type": "code",
   "execution_count": null,
   "metadata": {},
   "outputs": [],
   "source": []
  }
 ],
 "metadata": {
  "kernelspec": {
   "display_name": "Python 3",
   "language": "python",
   "name": "python3"
  },
  "language_info": {
   "codemirror_mode": {
    "name": "ipython",
    "version": 3
   },
   "file_extension": ".py",
   "mimetype": "text/x-python",
   "name": "python",
   "nbconvert_exporter": "python",
   "pygments_lexer": "ipython3",
   "version": "3.6.5"
  }
 },
 "nbformat": 4,
 "nbformat_minor": 2
}
