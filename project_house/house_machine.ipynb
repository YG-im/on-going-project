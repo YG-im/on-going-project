{
 "cells": [
  {
   "cell_type": "markdown",
   "metadata": {},
   "source": [
    "# 집값 예측\n",
    "- 전략\n",
    "    - 지역구분 $\\rightarrow$ 재건축 여부  $\\rightarrow$ 크기, 방갯수 $\\rightarrow$ 경치\n",
    "    - grade는 어떻게 쓸지 고민"
   ]
  },
  {
   "cell_type": "markdown",
   "metadata": {},
   "source": [
    "- Data fields\n",
    "    - ID : 집을 구분하는 번호\n",
    "    - date : 집을 구매한 날짜\n",
    "    - price : 집의 가격(Target variable)\n",
    "    - bedrooms : 침실의 수\n",
    "    - bathrooms : 침실 개수 당 화장실의 수(화장실의 수 / 침실의 수 )\n",
    "    - sqft_living : 주거 공간의 평방 피트(면적)\n",
    "    - sqft_lot : 부지의 평방 피트(면적)\n",
    "    - floors : 집의 층 수\n",
    "    - waterfront : 집의 전방에 강이 흐르는지 유무 (a.k.a. 리버뷰)\n",
    "    - view : 집이 얼마나 좋아 보이는지의 정도\n",
    "    - condition : 집의 전반적인 상태   #건물 연식이 몇년이 지나면 가격 같음\n",
    "    - grade : King County grading 시스템 기준으로 매긴 집의 등급   \n",
    "    - sqft_above : 지하실을 제외한 평방 피트(면적)\n",
    "    - sqft_basement : 지하실의 평방 피트(면적)   # 지하실 있는 데이터는 따로 취급?\n",
    "    - yr_built : 지어진 년도\n",
    "    - yr_renovated : 집을 재건축한 년도\n",
    "    - zipcode : 우편번호\n",
    "    - lat : 위도\n",
    "    - long : 경도\n",
    "    - sqft_living15 : 2015년 기준 주거 공간의 평방 피트(면적, 집을 재건축했다면, 변화가 있을 수 있음)\n",
    "    - sqft_lot15 : 2015년 기준 부지의 평방 피트(면적, 집을 재건축했다면, 변화가 있을 수 있음)"
   ]
  },
  {
   "cell_type": "code",
   "execution_count": 1,
   "metadata": {},
   "outputs": [],
   "source": [
    "import pandas as pd\n",
    "import numpy as np\n",
    "import random"
   ]
  },
  {
   "cell_type": "code",
   "execution_count": 29,
   "metadata": {},
   "outputs": [],
   "source": [
    "# (데이터 수가 작아서 전처리 단계에서는 샘플 안해도 될듯)\n",
    "# 이중 1000개의 데이터를 임의로 샘플 추출 합니다.  \n",
    "def rd_data(data, number = 100):\n",
    "    rd_idx = [random.randint(0,len(data)) for _ in range(number)]   # 0 ~ len(data) 개까지의 인덱스 중 랜덤 샘플 # 개 추출\n",
    "    sample = data.iloc[rd_idx].reset_index(drop=True)  # 샘플 추출\n",
    "    return sample"
   ]
  },
  {
   "cell_type": "markdown",
   "metadata": {},
   "source": [
    "## 0. 데이터 불러오기 및 기본 전처리"
   ]
  },
  {
   "cell_type": "code",
   "execution_count": 2,
   "metadata": {},
   "outputs": [],
   "source": [
    "house = pd.read_csv(\"dataset/train.csv\")"
   ]
  },
  {
   "cell_type": "code",
   "execution_count": 3,
   "metadata": {},
   "outputs": [],
   "source": [
    "house_test = pd.read_csv(\"dataset/test.csv\")"
   ]
  },
  {
   "cell_type": "code",
   "execution_count": 4,
   "metadata": {},
   "outputs": [],
   "source": [
    "house_ref = pd.read_csv(\"dataset/kc_house_data.csv\")"
   ]
  },
  {
   "cell_type": "code",
   "execution_count": 5,
   "metadata": {},
   "outputs": [],
   "source": [
    "house.drop(columns= ['id'], inplace = True)\n",
    "house_test.drop(columns= ['id'], inplace = True)\n",
    "house_ref.drop(columns= ['id'], inplace = True)"
   ]
  },
  {
   "cell_type": "code",
   "execution_count": 17,
   "metadata": {},
   "outputs": [],
   "source": [
    "# 위도+경도로이루어진 새로운 아이디 부여\n",
    "house['Newid'] = (round(-house['long']*1000,0)+round(house['lat']/100,6))\n",
    "house_ref['Newid'] = (round(-house_ref['long']*1000,0)+round(house_ref['lat']/100,6))\n",
    "#house_test['Newid'] = (-house_test['long']*1000+house_test['lat']/100)"
   ]
  },
  {
   "cell_type": "code",
   "execution_count": 18,
   "metadata": {},
   "outputs": [],
   "source": [
    "# 'Newid'가 모두 13자리로 잘 만들어졌는지. 아니면 index 출력\n",
    "def test_Newid(df):\n",
    "    test = []\n",
    "    for i in range(len(df)):\n",
    "        if len(str(df['Newid'].iloc[i]))==13:\n",
    "            continue\n",
    "        else:\n",
    "            test.append(i)\n",
    "    return test"
   ]
  },
  {
   "cell_type": "code",
   "execution_count": 133,
   "metadata": {},
   "outputs": [],
   "source": [
    "# 가격, 아이디만 추출\n",
    "house1 = house[['date', 'price', 'sqft_living', 'Newid']]\n",
    "house_ref1 = house_ref[['date', 'price', 'sqft_living', 'Newid']]"
   ]
  },
  {
   "cell_type": "code",
   "execution_count": 134,
   "metadata": {},
   "outputs": [
    {
     "name": "stdout",
     "output_type": "stream",
     "text": [
      "15035\n"
     ]
    },
    {
     "data": {
      "text/html": [
       "<div>\n",
       "<style scoped>\n",
       "    .dataframe tbody tr th:only-of-type {\n",
       "        vertical-align: middle;\n",
       "    }\n",
       "\n",
       "    .dataframe tbody tr th {\n",
       "        vertical-align: top;\n",
       "    }\n",
       "\n",
       "    .dataframe thead th {\n",
       "        text-align: right;\n",
       "    }\n",
       "</style>\n",
       "<table border=\"1\" class=\"dataframe\">\n",
       "  <thead>\n",
       "    <tr style=\"text-align: right;\">\n",
       "      <th></th>\n",
       "      <th>Newid</th>\n",
       "      <th>counts</th>\n",
       "    </tr>\n",
       "  </thead>\n",
       "  <tbody>\n",
       "    <tr>\n",
       "      <th>14731</th>\n",
       "      <td>122509.474444</td>\n",
       "      <td>1</td>\n",
       "    </tr>\n",
       "    <tr>\n",
       "      <th>14732</th>\n",
       "      <td>122511.474285</td>\n",
       "      <td>1</td>\n",
       "    </tr>\n",
       "    <tr>\n",
       "      <th>14733</th>\n",
       "      <td>122514.473782</td>\n",
       "      <td>1</td>\n",
       "    </tr>\n",
       "    <tr>\n",
       "      <th>14734</th>\n",
       "      <td>122515.473942</td>\n",
       "      <td>1</td>\n",
       "    </tr>\n",
       "    <tr>\n",
       "      <th>14735</th>\n",
       "      <td>122519.473477</td>\n",
       "      <td>1</td>\n",
       "    </tr>\n",
       "  </tbody>\n",
       "</table>\n",
       "</div>"
      ],
      "text/plain": [
       "               Newid  counts\n",
       "14731  122509.474444       1\n",
       "14732  122511.474285       1\n",
       "14733  122514.473782       1\n",
       "14734  122515.473942       1\n",
       "14735  122519.473477       1"
      ]
     },
     "execution_count": 134,
     "metadata": {},
     "output_type": "execute_result"
    }
   ],
   "source": [
    "# Newid가 겹치는 것이 있는지 확인\n",
    "print(len(house1))\n",
    "house1.groupby(\"Newid\").size().reset_index(name=\"counts\") .tail()\n",
    "    #아 겹치는 데이터가있네..."
   ]
  },
  {
   "cell_type": "code",
   "execution_count": 144,
   "metadata": {
    "scrolled": true
   },
   "outputs": [],
   "source": [
    "# house_ref에서 house에 있는 데이터만 골라내기위한 Data Frame\n",
    "# : 위도 경도로 생성된 아이디 +  날짜가 일치하는 데이터를 house_ref로부터 가져오는 함수.\n",
    "# h_result = pd.DataFrame(columns =['date', 'price', 'bedrooms', 'bathrooms', 'sqft_living', 'sqft_lot', 'floors', 'waterfront', \\\n",
    "#                        'view', 'condition', 'grade', 'sqft_above', 'sqft_basement', 'yr_built', 'yr_renovated', 'zipcode', 'lat', 'long',\\\n",
    "#                        'sqft_living15', 'sqft_lot15', 'Newid'])\n",
    "def h_result_from_ref(house):\n",
    "    h_result = pd.DataFrame(columns =['date', 'price', 'sqft_living', 'Newid'])   #데이터 프레임 생성\n",
    "    for i in range(len(house)):\n",
    "        temp = house_ref1[house_ref1['Newid'] == house['Newid'].iloc[i]]  #i 번째 아이디가 일치하는지 확인\n",
    "        if len(temp) != 1 and len(temp) > 0:      #일치하는게 여러개일 경우 # \n",
    "            temp = temp[temp['date'] == house['date'].iloc[i]]  # 그 중 날짜 정보까지 일치하는것을 찾는다.\n",
    "            if len(temp) !=1:\n",
    "                temp = temp[temp['sqft_living'] == house['sqft_living'].iloc[i]]  # 그 중 날짜 정보까지 일치하는것을 찾는다.\n",
    "                if len(temp) !=1:\n",
    "                    temp = temp.iloc[random.randint(0,len(temp)-1)]                \n",
    "                    h_result = h_result.append(temp)\n",
    "                else:\n",
    "                    h_result = h_result.append(temp)\n",
    "            else:\n",
    "                h_result = h_result.append(temp)\n",
    "        elif len(temp) == 1:   #일치하는게 하나일 경우\n",
    "            h_result = h_result.append(temp)   # 그냥 포함시킨다.\n",
    "        else:  # house_ref에서 정보 못찾으면 error와 함께 인덱스 정보 출력\n",
    "            print('error : {}번째 index'.format(i))\n",
    "  #          h_result = h_result.append(temp)    \n",
    "    h_result.reset_index(drop=True, inplace=True)\n",
    "    return h_result"
   ]
  },
  {
   "cell_type": "code",
   "execution_count": 149,
   "metadata": {},
   "outputs": [],
   "source": [
    "# 크로스 체크 함수\n",
    "def cross_check(house):\n",
    "    test = (house['price'] - h_result_from_ref(house)['price']).sum()  #일치 여부 확인. 0이면 정확히 일치한다.\n",
    "    return test"
   ]
  },
  {
   "cell_type": "code",
   "execution_count": 147,
   "metadata": {},
   "outputs": [],
   "source": [
    "h_rd = rd_data(house1, 1000)"
   ]
  },
  {
   "cell_type": "code",
   "execution_count": 148,
   "metadata": {
    "scrolled": true
   },
   "outputs": [
    {
     "data": {
      "text/html": [
       "<div>\n",
       "<style scoped>\n",
       "    .dataframe tbody tr th:only-of-type {\n",
       "        vertical-align: middle;\n",
       "    }\n",
       "\n",
       "    .dataframe tbody tr th {\n",
       "        vertical-align: top;\n",
       "    }\n",
       "\n",
       "    .dataframe thead th {\n",
       "        text-align: right;\n",
       "    }\n",
       "</style>\n",
       "<table border=\"1\" class=\"dataframe\">\n",
       "  <thead>\n",
       "    <tr style=\"text-align: right;\">\n",
       "      <th></th>\n",
       "      <th>date</th>\n",
       "      <th>price</th>\n",
       "      <th>sqft_living</th>\n",
       "      <th>Newid</th>\n",
       "    </tr>\n",
       "  </thead>\n",
       "  <tbody>\n",
       "    <tr>\n",
       "      <th>995</th>\n",
       "      <td>20140820T000000</td>\n",
       "      <td>300000.0</td>\n",
       "      <td>2360</td>\n",
       "      <td>122245.475044</td>\n",
       "    </tr>\n",
       "    <tr>\n",
       "      <th>996</th>\n",
       "      <td>20150423T000000</td>\n",
       "      <td>333760.0</td>\n",
       "      <td>1300</td>\n",
       "      <td>122113.476937</td>\n",
       "    </tr>\n",
       "    <tr>\n",
       "      <th>997</th>\n",
       "      <td>20141215T000000</td>\n",
       "      <td>850000.0</td>\n",
       "      <td>2700</td>\n",
       "      <td>122024.477187</td>\n",
       "    </tr>\n",
       "    <tr>\n",
       "      <th>998</th>\n",
       "      <td>20140916T000000</td>\n",
       "      <td>379000.0</td>\n",
       "      <td>930</td>\n",
       "      <td>122372.476971</td>\n",
       "    </tr>\n",
       "    <tr>\n",
       "      <th>999</th>\n",
       "      <td>20140908T000000</td>\n",
       "      <td>285000.0</td>\n",
       "      <td>1890</td>\n",
       "      <td>122041.473613</td>\n",
       "    </tr>\n",
       "  </tbody>\n",
       "</table>\n",
       "</div>"
      ],
      "text/plain": [
       "                date     price sqft_living          Newid\n",
       "995  20140820T000000  300000.0        2360  122245.475044\n",
       "996  20150423T000000  333760.0        1300  122113.476937\n",
       "997  20141215T000000  850000.0        2700  122024.477187\n",
       "998  20140916T000000  379000.0         930  122372.476971\n",
       "999  20140908T000000  285000.0        1890  122041.473613"
      ]
     },
     "execution_count": 148,
     "metadata": {},
     "output_type": "execute_result"
    }
   ],
   "source": [
    "h_result_from_ref(h_rd).tail()"
   ]
  },
  {
   "cell_type": "code",
   "execution_count": 150,
   "metadata": {
    "scrolled": true
   },
   "outputs": [
    {
     "data": {
      "text/plain": [
       "0.0"
      ]
     },
     "execution_count": 150,
     "metadata": {},
     "output_type": "execute_result"
    }
   ],
   "source": [
    "cross_check(h_rd)"
   ]
  },
  {
   "cell_type": "code",
   "execution_count": 92,
   "metadata": {
    "scrolled": true
   },
   "outputs": [
    {
     "data": {
      "text/html": [
       "<div>\n",
       "<style scoped>\n",
       "    .dataframe tbody tr th:only-of-type {\n",
       "        vertical-align: middle;\n",
       "    }\n",
       "\n",
       "    .dataframe tbody tr th {\n",
       "        vertical-align: top;\n",
       "    }\n",
       "\n",
       "    .dataframe thead th {\n",
       "        text-align: right;\n",
       "    }\n",
       "</style>\n",
       "<table border=\"1\" class=\"dataframe\">\n",
       "  <thead>\n",
       "    <tr style=\"text-align: right;\">\n",
       "      <th></th>\n",
       "      <th>date</th>\n",
       "      <th>price</th>\n",
       "      <th>Newid</th>\n",
       "    </tr>\n",
       "  </thead>\n",
       "  <tbody>\n",
       "    <tr>\n",
       "      <th>40</th>\n",
       "      <td>20140821T000000</td>\n",
       "      <td>440000</td>\n",
       "      <td>122033</td>\n",
       "    </tr>\n",
       "  </tbody>\n",
       "</table>\n",
       "</div>"
      ],
      "text/plain": [
       "               date   price   Newid\n",
       "40  20140821T000000  440000  122033"
      ]
     },
     "execution_count": 92,
     "metadata": {},
     "output_type": "execute_result"
    }
   ],
   "source": [
    "pd.DataFrame(h_result_from_ref(h_rd).iloc[40]).T"
   ]
  },
  {
   "cell_type": "code",
   "execution_count": 93,
   "metadata": {},
   "outputs": [
    {
     "data": {
      "text/html": [
       "<div>\n",
       "<style scoped>\n",
       "    .dataframe tbody tr th:only-of-type {\n",
       "        vertical-align: middle;\n",
       "    }\n",
       "\n",
       "    .dataframe tbody tr th {\n",
       "        vertical-align: top;\n",
       "    }\n",
       "\n",
       "    .dataframe thead th {\n",
       "        text-align: right;\n",
       "    }\n",
       "</style>\n",
       "<table border=\"1\" class=\"dataframe\">\n",
       "  <thead>\n",
       "    <tr style=\"text-align: right;\">\n",
       "      <th></th>\n",
       "      <th>date</th>\n",
       "      <th>price</th>\n",
       "      <th>Newid</th>\n",
       "    </tr>\n",
       "  </thead>\n",
       "  <tbody>\n",
       "    <tr>\n",
       "      <th>40</th>\n",
       "      <td>20140821T000000</td>\n",
       "      <td>475000</td>\n",
       "      <td>122033</td>\n",
       "    </tr>\n",
       "  </tbody>\n",
       "</table>\n",
       "</div>"
      ],
      "text/plain": [
       "               date   price   Newid\n",
       "40  20140821T000000  475000  122033"
      ]
     },
     "execution_count": 93,
     "metadata": {},
     "output_type": "execute_result"
    }
   ],
   "source": [
    "pd.DataFrame(h_rd.iloc[40]).T"
   ]
  },
  {
   "cell_type": "code",
   "execution_count": 81,
   "metadata": {
    "scrolled": true
   },
   "outputs": [
    {
     "data": {
      "text/plain": [
       "0          0.0\n",
       "1          0.0\n",
       "2          0.0\n",
       "3          0.0\n",
       "4          0.0\n",
       "5          0.0\n",
       "6          0.0\n",
       "7          0.0\n",
       "8          0.0\n",
       "9          0.0\n",
       "10         0.0\n",
       "11         0.0\n",
       "12         0.0\n",
       "13         0.0\n",
       "14         0.0\n",
       "15         0.0\n",
       "16         0.0\n",
       "17         0.0\n",
       "18         0.0\n",
       "19         0.0\n",
       "20         0.0\n",
       "21         0.0\n",
       "22         0.0\n",
       "23         0.0\n",
       "24         0.0\n",
       "25         0.0\n",
       "26         0.0\n",
       "27         0.0\n",
       "28         0.0\n",
       "29         0.0\n",
       "30         0.0\n",
       "31         0.0\n",
       "32         0.0\n",
       "33         0.0\n",
       "34         0.0\n",
       "35         0.0\n",
       "36         0.0\n",
       "37         0.0\n",
       "38         0.0\n",
       "39         0.0\n",
       "40     35000.0\n",
       "41    226000.0\n",
       "42   -436000.0\n",
       "Name: price, dtype: float64"
      ]
     },
     "execution_count": 81,
     "metadata": {},
     "output_type": "execute_result"
    }
   ],
   "source": [
    "(h_rd['price'] - h_result_from_ref(h_rd)['price']).head(43)"
   ]
  },
  {
   "cell_type": "code",
   "execution_count": 50,
   "metadata": {
    "scrolled": true
   },
   "outputs": [
    {
     "data": {
      "text/plain": [
       "355000.0"
      ]
     },
     "execution_count": 50,
     "metadata": {},
     "output_type": "execute_result"
    }
   ],
   "source": [
    "cross_check(h_rd)"
   ]
  },
  {
   "cell_type": "code",
   "execution_count": 79,
   "metadata": {},
   "outputs": [
    {
     "name": "stdout",
     "output_type": "stream",
     "text": [
      "Finish\n"
     ]
    }
   ],
   "source": [
    "'''\n",
    "1. 실제 좌표를 구글 맵에 찍어본다\n",
    "2. zipcode와 입력된 데이터를 몇개 비교해보니 실제 미국 King county에 위치해있는 지역의 집들과 일치한다는 것을 알았다.\n",
    "3. 만약 실제의 집 데이터를 기반으로 허구의 가격을 매긴다면, 집 값 데이터에 대한 통념적 상식이 안통할 수 있다.\n",
    "그렇게 되면 데이터 전처리 자체가 불가능하다. \n",
    " ex) 집이 크고, 시내에 있고, 뷰도 좋은데 랜덤 집값을 부여해서 낮은 가격이 책정되었다면 말이 안된다.\n",
    "4. 반드시 실제 데이터를 기반으로 했을 것이라고 추측할 수 있다.\n",
    "5. 실제 데이터라면 반드시 구글에 있다.\n",
    "6. 찾았다. 그런데 데이터 전체 갯수와 id코드들이 다르다.\n",
    "7. 원 데이터(house_ref)를 받아서 몇 개의 데이터를 제거하고 랜덤하게 섞었을 것이라고 추측했다.\n",
    "8. 원데이터와 1대1 대응 시켜서 비교할 방법이 없었다. 같은 날짜, 방 갯수 등등은 중복된게 너무 많다.\n",
    "9. 이 데이터는 1년사이의 거래에 대한 내역이고, 분명 하나의 집은 한번만 거래되었을 것이다. \n",
    "(하나의 집이 1년사이에 사고팔고가 두번 일어나는 경우는 흔치않다. 만약 있다면 그거 몇개만 골라서 처리하면 된다.)\n",
    "10. 따라서 집에 대한 고유의 아이디같은 데이터인 위치데이터를 활용한다.\n",
    "11. 위도 경도에 대응되는 데이터는 하나씩인것 같다. (확인 필요)\n",
    "12. 위도 경도를 고유 id라고 생각하고 데이터를 찾아서 대응시킨다.\n",
    "13. 경도+위도 = id로 변환 :  -'-122.300'*1000 + '47.7263'*1/100 = '-1223.477263'로 만든다.\n",
    "즉, -경도*1000 + 위도/1000\n",
    "14. house_ref에서 house데이터에 맞는 것을 추출해서 새로운 데이터 셋을 만든다.\n",
    "15. 둘의 집값이 일치하는지 체크한다.\n",
    "16. test셋에도 똑같이 적용한다.\n",
    "'''\n",
    "print('Finish')\n",
    "    "
   ]
  },
  {
   "cell_type": "code",
   "execution_count": 77,
   "metadata": {},
   "outputs": [],
   "source": [
    "#pd.concat([house_ref.iloc[aa].T, house.iloc[aa].T], axis=1)"
   ]
  },
  {
   "cell_type": "code",
   "execution_count": null,
   "metadata": {},
   "outputs": [],
   "source": [
    "for i in range(len(house)):"
   ]
  },
  {
   "cell_type": "code",
   "execution_count": 8,
   "metadata": {
    "scrolled": true
   },
   "outputs": [
    {
     "data": {
      "text/html": [
       "<div>\n",
       "<style scoped>\n",
       "    .dataframe tbody tr th:only-of-type {\n",
       "        vertical-align: middle;\n",
       "    }\n",
       "\n",
       "    .dataframe tbody tr th {\n",
       "        vertical-align: top;\n",
       "    }\n",
       "\n",
       "    .dataframe thead th {\n",
       "        text-align: right;\n",
       "    }\n",
       "</style>\n",
       "<table border=\"1\" class=\"dataframe\">\n",
       "  <thead>\n",
       "    <tr style=\"text-align: right;\">\n",
       "      <th></th>\n",
       "      <th>id</th>\n",
       "      <th>date</th>\n",
       "      <th>price</th>\n",
       "      <th>bedrooms</th>\n",
       "      <th>bathrooms</th>\n",
       "      <th>sqft_living</th>\n",
       "      <th>sqft_lot</th>\n",
       "      <th>floors</th>\n",
       "      <th>waterfront</th>\n",
       "      <th>view</th>\n",
       "      <th>...</th>\n",
       "      <th>grade</th>\n",
       "      <th>sqft_above</th>\n",
       "      <th>sqft_basement</th>\n",
       "      <th>yr_built</th>\n",
       "      <th>yr_renovated</th>\n",
       "      <th>zipcode</th>\n",
       "      <th>lat</th>\n",
       "      <th>long</th>\n",
       "      <th>sqft_living15</th>\n",
       "      <th>sqft_lot15</th>\n",
       "    </tr>\n",
       "  </thead>\n",
       "  <tbody>\n",
       "    <tr>\n",
       "      <th>0</th>\n",
       "      <td>0</td>\n",
       "      <td>20141013T000000</td>\n",
       "      <td>221900.0</td>\n",
       "      <td>3</td>\n",
       "      <td>1.00</td>\n",
       "      <td>1180</td>\n",
       "      <td>5650</td>\n",
       "      <td>1.0</td>\n",
       "      <td>0</td>\n",
       "      <td>0</td>\n",
       "      <td>...</td>\n",
       "      <td>7</td>\n",
       "      <td>1180</td>\n",
       "      <td>0</td>\n",
       "      <td>1955</td>\n",
       "      <td>0</td>\n",
       "      <td>98178</td>\n",
       "      <td>47.5112</td>\n",
       "      <td>-122.257</td>\n",
       "      <td>1340</td>\n",
       "      <td>5650</td>\n",
       "    </tr>\n",
       "    <tr>\n",
       "      <th>1</th>\n",
       "      <td>1</td>\n",
       "      <td>20150225T000000</td>\n",
       "      <td>180000.0</td>\n",
       "      <td>2</td>\n",
       "      <td>1.00</td>\n",
       "      <td>770</td>\n",
       "      <td>10000</td>\n",
       "      <td>1.0</td>\n",
       "      <td>0</td>\n",
       "      <td>0</td>\n",
       "      <td>...</td>\n",
       "      <td>6</td>\n",
       "      <td>770</td>\n",
       "      <td>0</td>\n",
       "      <td>1933</td>\n",
       "      <td>0</td>\n",
       "      <td>98028</td>\n",
       "      <td>47.7379</td>\n",
       "      <td>-122.233</td>\n",
       "      <td>2720</td>\n",
       "      <td>8062</td>\n",
       "    </tr>\n",
       "    <tr>\n",
       "      <th>2</th>\n",
       "      <td>2</td>\n",
       "      <td>20150218T000000</td>\n",
       "      <td>510000.0</td>\n",
       "      <td>3</td>\n",
       "      <td>2.00</td>\n",
       "      <td>1680</td>\n",
       "      <td>8080</td>\n",
       "      <td>1.0</td>\n",
       "      <td>0</td>\n",
       "      <td>0</td>\n",
       "      <td>...</td>\n",
       "      <td>8</td>\n",
       "      <td>1680</td>\n",
       "      <td>0</td>\n",
       "      <td>1987</td>\n",
       "      <td>0</td>\n",
       "      <td>98074</td>\n",
       "      <td>47.6168</td>\n",
       "      <td>-122.045</td>\n",
       "      <td>1800</td>\n",
       "      <td>7503</td>\n",
       "    </tr>\n",
       "    <tr>\n",
       "      <th>3</th>\n",
       "      <td>3</td>\n",
       "      <td>20140627T000000</td>\n",
       "      <td>257500.0</td>\n",
       "      <td>3</td>\n",
       "      <td>2.25</td>\n",
       "      <td>1715</td>\n",
       "      <td>6819</td>\n",
       "      <td>2.0</td>\n",
       "      <td>0</td>\n",
       "      <td>0</td>\n",
       "      <td>...</td>\n",
       "      <td>7</td>\n",
       "      <td>1715</td>\n",
       "      <td>0</td>\n",
       "      <td>1995</td>\n",
       "      <td>0</td>\n",
       "      <td>98003</td>\n",
       "      <td>47.3097</td>\n",
       "      <td>-122.327</td>\n",
       "      <td>2238</td>\n",
       "      <td>6819</td>\n",
       "    </tr>\n",
       "    <tr>\n",
       "      <th>4</th>\n",
       "      <td>4</td>\n",
       "      <td>20150115T000000</td>\n",
       "      <td>291850.0</td>\n",
       "      <td>3</td>\n",
       "      <td>1.50</td>\n",
       "      <td>1060</td>\n",
       "      <td>9711</td>\n",
       "      <td>1.0</td>\n",
       "      <td>0</td>\n",
       "      <td>0</td>\n",
       "      <td>...</td>\n",
       "      <td>7</td>\n",
       "      <td>1060</td>\n",
       "      <td>0</td>\n",
       "      <td>1963</td>\n",
       "      <td>0</td>\n",
       "      <td>98198</td>\n",
       "      <td>47.4095</td>\n",
       "      <td>-122.315</td>\n",
       "      <td>1650</td>\n",
       "      <td>9711</td>\n",
       "    </tr>\n",
       "  </tbody>\n",
       "</table>\n",
       "<p>5 rows × 21 columns</p>\n",
       "</div>"
      ],
      "text/plain": [
       "   id             date     price  bedrooms  bathrooms  sqft_living  sqft_lot  \\\n",
       "0   0  20141013T000000  221900.0         3       1.00         1180      5650   \n",
       "1   1  20150225T000000  180000.0         2       1.00          770     10000   \n",
       "2   2  20150218T000000  510000.0         3       2.00         1680      8080   \n",
       "3   3  20140627T000000  257500.0         3       2.25         1715      6819   \n",
       "4   4  20150115T000000  291850.0         3       1.50         1060      9711   \n",
       "\n",
       "   floors  waterfront  view  ...  grade  sqft_above  sqft_basement  yr_built  \\\n",
       "0     1.0           0     0  ...      7        1180              0      1955   \n",
       "1     1.0           0     0  ...      6         770              0      1933   \n",
       "2     1.0           0     0  ...      8        1680              0      1987   \n",
       "3     2.0           0     0  ...      7        1715              0      1995   \n",
       "4     1.0           0     0  ...      7        1060              0      1963   \n",
       "\n",
       "   yr_renovated  zipcode      lat     long  sqft_living15  sqft_lot15  \n",
       "0             0    98178  47.5112 -122.257           1340        5650  \n",
       "1             0    98028  47.7379 -122.233           2720        8062  \n",
       "2             0    98074  47.6168 -122.045           1800        7503  \n",
       "3             0    98003  47.3097 -122.327           2238        6819  \n",
       "4             0    98198  47.4095 -122.315           1650        9711  \n",
       "\n",
       "[5 rows x 21 columns]"
      ]
     },
     "execution_count": 8,
     "metadata": {},
     "output_type": "execute_result"
    }
   ],
   "source": [
    "# train 셋을 추출해서 home으로 만들어줍니다.\n",
    "house.head()  "
   ]
  },
  {
   "cell_type": "markdown",
   "metadata": {},
   "source": [
    "### 기본 전처리\n",
    "- #id 컬럼 삭제  #id가 정보 식별하려면 계속 따라다녀야할거같아"
   ]
  },
  {
   "cell_type": "code",
   "execution_count": 9,
   "metadata": {},
   "outputs": [],
   "source": [
    "# date(구매시기) 데이터 줄여주기 ex) 20141013T000000 -> 20141013 ->2014.1013  (구매와 건축 시기 차이 구할 때 유용)\n",
    "date_2 = [round(int(house['date'].iloc[i][:8])/10000, 4) for i in range(len(house))]\n",
    "house['date'] = date_2"
   ]
  },
  {
   "cell_type": "code",
   "execution_count": 10,
   "metadata": {},
   "outputs": [],
   "source": [
    "# price 정규화 0 < price < 1\n",
    "house['price'] = house['price']/7.700000e+06"
   ]
  },
  {
   "cell_type": "markdown",
   "metadata": {},
   "source": [
    "---"
   ]
  },
  {
   "cell_type": "markdown",
   "metadata": {},
   "source": [
    "## 특징별 데이터 분석 및 전처리\n",
    "\n",
    "- Lable : price : 집의 가격(Target variable)  # 최댓값으로 나눠 정규화함\n",
    "- 시기적 요소 : 건축 년도, 재건축년도, 구매 날짜 (리만브라더스 등 큰 사건에 따른 영향 고려)\n",
    "    - date : 집을 구매한 날짜 # T0000.. 없애기 #20140502 ~ 20150514\n",
    "    - yr_built : 지어진 년도\n",
    "    - yr_renovated : 집을 재건축한 년도  # 재건축은 시기가 또 달라짐\n",
    "        - 건물 감가상각 (30~50년 : 대략 40년), 그 이후는 토지가격.\n",
    "        - 건물가 감가상각고려해서 피팅\n",
    "- 내적 요소 : 집의 면적, 방 갯수 등\n",
    "    - bedrooms : 침실의 수 \n",
    "    - bathrooms : 침실 개수 당 화장실의 수(화장실의 수 / 침실의 수 )\n",
    "    - floors : 집의 층 수  #1~3.5층까지 있다. 아 단독주택들이구나\n",
    "    - sqft_above : 지하실을 제외한 평방 피트(면적)\n",
    "    - sqft_basement : 지하실의 평방 피트(면적)   # 지하실 있는 데이터는 따로 취급?\n",
    "    - sqft_living : 주거 공간의 평방 피트(면적)\n",
    "    - sqft_lot : 부지의 평방 피트(면적)   #일단 집의 종류를 분류해야할거같은데\n",
    "    - sqft_living15 : 2015년 기준 주거 공간의 평방 피트(면적, 집을 재건축했다면, 변화가 있을 수 있음)\n",
    "    - sqft_lot15 : 2015년 기준 부지의 평방 피트(면적, 집을 재건축했다면, 변화가 있을 수 있음)\n",
    "- 외적 요소 : 뷰, 보이는 상태\n",
    "    - waterfront : 집의 전방에 강이 흐르는지 유무 (a.k.a. 리버뷰)  # 거의 안보임\n",
    "    - view : 집이 얼마나 좋아 보이는지의 정도  #0~4점 보통 0점\n",
    "    - condition : 집의 전반적인 상태   #건물 연식이 몇년이 지나면 가격 같음\n",
    "- 위치 요소\n",
    "    - zipcode : 우편번호 #집 위치 판단할때좋을듯. 같은 위치의 분류로 나누기  - 위치와 무관. 삭제\n",
    "    - lat : 위도  #같은 위치의 분류로 나누기   - 비지도 학습   위치 분류\n",
    "    - long : 경도  #같은 위치의 분류로 나누기  - 비지도 학습\n",
    "- 기타 요소\n",
    "    - grade : King County grading 시스템 기준으로 매긴 집의 등급   \n",
    "- 영향이 있을까?\n",
    "    "
   ]
  },
  {
   "cell_type": "markdown",
   "metadata": {},
   "source": [
    "### 1. zipcode : 삭제\n",
    "- zipcode는 위치와 상관이 없다.\n",
    "- 같은 zipcode를 가지는 집들 중 (위도, 경도)를 구글 지도에 찍어보면 서로 완전 다른 지역을 나타내고 있다.\n",
    "- 따라서 zipcode는 무의미한 정보이다."
   ]
  },
  {
   "cell_type": "code",
   "execution_count": 12,
   "metadata": {},
   "outputs": [
    {
     "data": {
      "text/html": [
       "<div>\n",
       "<style scoped>\n",
       "    .dataframe tbody tr th:only-of-type {\n",
       "        vertical-align: middle;\n",
       "    }\n",
       "\n",
       "    .dataframe tbody tr th {\n",
       "        vertical-align: top;\n",
       "    }\n",
       "\n",
       "    .dataframe thead th {\n",
       "        text-align: right;\n",
       "    }\n",
       "</style>\n",
       "<table border=\"1\" class=\"dataframe\">\n",
       "  <thead>\n",
       "    <tr style=\"text-align: right;\">\n",
       "      <th></th>\n",
       "      <th>id</th>\n",
       "      <th>price</th>\n",
       "      <th>zipcode</th>\n",
       "      <th>lat</th>\n",
       "      <th>long</th>\n",
       "    </tr>\n",
       "  </thead>\n",
       "  <tbody>\n",
       "    <tr>\n",
       "      <th>0</th>\n",
       "      <td>9015</td>\n",
       "      <td>0.037662</td>\n",
       "      <td>98001</td>\n",
       "      <td>47.3530</td>\n",
       "      <td>-122.294</td>\n",
       "    </tr>\n",
       "    <tr>\n",
       "      <th>1</th>\n",
       "      <td>13162</td>\n",
       "      <td>0.059740</td>\n",
       "      <td>98001</td>\n",
       "      <td>47.2619</td>\n",
       "      <td>-122.271</td>\n",
       "    </tr>\n",
       "    <tr>\n",
       "      <th>2</th>\n",
       "      <td>13160</td>\n",
       "      <td>0.033117</td>\n",
       "      <td>98001</td>\n",
       "      <td>47.3318</td>\n",
       "      <td>-122.277</td>\n",
       "    </tr>\n",
       "    <tr>\n",
       "      <th>3</th>\n",
       "      <td>14135</td>\n",
       "      <td>0.053896</td>\n",
       "      <td>98001</td>\n",
       "      <td>47.3359</td>\n",
       "      <td>-122.257</td>\n",
       "    </tr>\n",
       "    <tr>\n",
       "      <th>4</th>\n",
       "      <td>1557</td>\n",
       "      <td>0.043117</td>\n",
       "      <td>98001</td>\n",
       "      <td>47.3524</td>\n",
       "      <td>-122.285</td>\n",
       "    </tr>\n",
       "  </tbody>\n",
       "</table>\n",
       "</div>"
      ],
      "text/plain": [
       "      id     price  zipcode      lat     long\n",
       "0   9015  0.037662    98001  47.3530 -122.294\n",
       "1  13162  0.059740    98001  47.2619 -122.271\n",
       "2  13160  0.033117    98001  47.3318 -122.277\n",
       "3  14135  0.053896    98001  47.3359 -122.257\n",
       "4   1557  0.043117    98001  47.3524 -122.285"
      ]
     },
     "execution_count": 12,
     "metadata": {},
     "output_type": "execute_result"
    }
   ],
   "source": [
    "# zipcode와 (위도, 경도) 정보 조사\n",
    "house[['id', 'price', 'zipcode', 'lat', 'long']].sort_values(by = ['zipcode']).reset_index(drop=True).head()"
   ]
  },
  {
   "cell_type": "code",
   "execution_count": 13,
   "metadata": {},
   "outputs": [],
   "source": [
    "#zipcode 삭제\n",
    "house.drop(columns=['zipcode'], inplace=True)"
   ]
  },
  {
   "cell_type": "markdown",
   "metadata": {},
   "source": [
    "### 2. (위도, 경도)로 구분해보기\n",
    "- 위도와 경도를 오름차순으로 정렬해서 비슷한 지역 애들로 묵기\n",
    "- 구글지도에 전부 찍어서 눈으로 보는게 제일 좋은데 어떻게든 가능할듯... 나중에 해보기"
   ]
  },
  {
   "cell_type": "code",
   "execution_count": 18,
   "metadata": {},
   "outputs": [
    {
     "data": {
      "text/plain": [
       "(47.7776, 47.1559, -121.315, -122.519)"
      ]
     },
     "execution_count": 18,
     "metadata": {},
     "output_type": "execute_result"
    }
   ],
   "source": [
    "house['lat'].max(), house['lat'].min(), house['long'].max(), house['long'].min()"
   ]
  },
  {
   "cell_type": "code",
   "execution_count": 19,
   "metadata": {},
   "outputs": [
    {
     "data": {
      "text/html": [
       "<div>\n",
       "<style scoped>\n",
       "    .dataframe tbody tr th:only-of-type {\n",
       "        vertical-align: middle;\n",
       "    }\n",
       "\n",
       "    .dataframe tbody tr th {\n",
       "        vertical-align: top;\n",
       "    }\n",
       "\n",
       "    .dataframe thead th {\n",
       "        text-align: right;\n",
       "    }\n",
       "</style>\n",
       "<table border=\"1\" class=\"dataframe\">\n",
       "  <thead>\n",
       "    <tr style=\"text-align: right;\">\n",
       "      <th></th>\n",
       "      <th>id</th>\n",
       "      <th>price</th>\n",
       "      <th>lat</th>\n",
       "      <th>long</th>\n",
       "      <th>yr_built</th>\n",
       "      <th>yr_renovated</th>\n",
       "      <th>waterfront</th>\n",
       "    </tr>\n",
       "  </thead>\n",
       "  <tbody>\n",
       "    <tr>\n",
       "      <th>0</th>\n",
       "      <td>2354</td>\n",
       "      <td>0.049351</td>\n",
       "      <td>47.1559</td>\n",
       "      <td>-121.646</td>\n",
       "      <td>1963</td>\n",
       "      <td>0</td>\n",
       "      <td>0</td>\n",
       "    </tr>\n",
       "    <tr>\n",
       "      <th>1</th>\n",
       "      <td>9070</td>\n",
       "      <td>0.097403</td>\n",
       "      <td>47.1622</td>\n",
       "      <td>-121.971</td>\n",
       "      <td>1979</td>\n",
       "      <td>0</td>\n",
       "      <td>0</td>\n",
       "    </tr>\n",
       "    <tr>\n",
       "      <th>2</th>\n",
       "      <td>8838</td>\n",
       "      <td>0.043506</td>\n",
       "      <td>47.1647</td>\n",
       "      <td>-121.973</td>\n",
       "      <td>1969</td>\n",
       "      <td>0</td>\n",
       "      <td>0</td>\n",
       "    </tr>\n",
       "    <tr>\n",
       "      <th>3</th>\n",
       "      <td>286</td>\n",
       "      <td>0.046753</td>\n",
       "      <td>47.1775</td>\n",
       "      <td>-122.022</td>\n",
       "      <td>1974</td>\n",
       "      <td>0</td>\n",
       "      <td>0</td>\n",
       "    </tr>\n",
       "    <tr>\n",
       "      <th>4</th>\n",
       "      <td>1969</td>\n",
       "      <td>0.029870</td>\n",
       "      <td>47.1776</td>\n",
       "      <td>-122.011</td>\n",
       "      <td>1919</td>\n",
       "      <td>0</td>\n",
       "      <td>0</td>\n",
       "    </tr>\n",
       "  </tbody>\n",
       "</table>\n",
       "</div>"
      ],
      "text/plain": [
       "     id     price      lat     long  yr_built  yr_renovated  waterfront\n",
       "0  2354  0.049351  47.1559 -121.646      1963             0           0\n",
       "1  9070  0.097403  47.1622 -121.971      1979             0           0\n",
       "2  8838  0.043506  47.1647 -121.973      1969             0           0\n",
       "3   286  0.046753  47.1775 -122.022      1974             0           0\n",
       "4  1969  0.029870  47.1776 -122.011      1919             0           0"
      ]
     },
     "execution_count": 19,
     "metadata": {},
     "output_type": "execute_result"
    }
   ],
   "source": [
    "#위도 경도 정보만 추출 및 오름차순 정렬\n",
    "house[['id', 'price',  'lat', 'long', 'yr_built', 'yr_renovated', 'waterfront']].sort_values(by = ['lat', 'long']).reset_index(drop=True).head()"
   ]
  },
  {
   "cell_type": "code",
   "execution_count": 22,
   "metadata": {},
   "outputs": [
    {
     "data": {
      "text/plain": [
       "(0.0473, 0.0831)"
      ]
     },
     "execution_count": 22,
     "metadata": {},
     "output_type": "execute_result"
    }
   ],
   "source": [
    "# 집값 데이터와 지어진 년도간의 상관계수\n",
    "round(np.corrcoef(house[\"price\"], house[\"yr_built\"])[0][1], 4), \\  #전체 집 값데이터와 지어진 년도 간의 상관계수\n",
    "round(np.corrcoef(house_no[\"price\"], house_no[\"yr_built\"])[0][1], 4) #No 재건축 데이터와 지어진 년도간의 상관계수"
   ]
  },
  {
   "cell_type": "code",
   "execution_count": 24,
   "metadata": {},
   "outputs": [
    {
     "data": {
      "text/plain": [
       "(0.0651, 0.0968)"
      ]
     },
     "execution_count": 24,
     "metadata": {},
     "output_type": "execute_result"
    }
   ],
   "source": [
    "# 재건축 집값 데이터와 지어진 년도간의 상관계수\n",
    "round(np.corrcoef(house_re[\"price\"], house_re[\"yr_built\"])[0][1], 4), \\ #전체 집 값데이터와 지어진 년도 간의 상관계수\n",
    "round(np.corrcoef(house_re[\"price\"], house_re[\"yr_renovated\"])[0][1], 4)  #No 재건축 데이터와 지어진 년도간의 상관계수"
   ]
  },
  {
   "cell_type": "markdown",
   "metadata": {},
   "source": [
    "### \\#. 재건축 여부\n",
    "- 재건축한 것과 안한 것은 서로 분류해서 생각해야한다."
   ]
  },
  {
   "cell_type": "code",
   "execution_count": 21,
   "metadata": {},
   "outputs": [],
   "source": [
    "# 재건축한 것(house_re)과 안한 것(house_no)으로 나누기\n",
    "house_no = house[house['yr_renovated']==0].reset_index(drop=True)\n",
    "house_re = house[house['yr_renovated']!=0].reset_index(drop=True)"
   ]
  },
  {
   "cell_type": "code",
   "execution_count": null,
   "metadata": {},
   "outputs": [],
   "source": []
  },
  {
   "cell_type": "markdown",
   "metadata": {},
   "source": [
    "### \\#. 15년 이전 면적 기준, 15년 이후 면적 기준\n",
    "- 14년 구매엔 이전 것이 적용.\n",
    "- 15년 구매시엔 15년 것이 적용. 아마도?\n",
    "- 상관계수를 구해보자.\n",
    "    - 14년도, 15년 초(몇월까지 ?)에 거래된 집의 가격과 15년 이전 기준 넓이의 상관계수\n",
    "    - 15년 초 이후에 거래된 집의 가격과 15년 기준 넓이의 상관계수\n",
    "- 15년 기준과 그 이전 기준 중 고르라고 하면 이전 기준으로 해야할 것 같다.\n",
    "- 아무래도 부지 넓이랑 가격과는 상관이 없는 것 아닌가 싶다."
   ]
  },
  {
   "cell_type": "code",
   "execution_count": 207,
   "metadata": {},
   "outputs": [
    {
     "data": {
      "text/html": [
       "<div>\n",
       "<style scoped>\n",
       "    .dataframe tbody tr th:only-of-type {\n",
       "        vertical-align: middle;\n",
       "    }\n",
       "\n",
       "    .dataframe tbody tr th {\n",
       "        vertical-align: top;\n",
       "    }\n",
       "\n",
       "    .dataframe thead th {\n",
       "        text-align: right;\n",
       "    }\n",
       "</style>\n",
       "<table border=\"1\" class=\"dataframe\">\n",
       "  <thead>\n",
       "    <tr style=\"text-align: right;\">\n",
       "      <th></th>\n",
       "      <th>id</th>\n",
       "      <th>price</th>\n",
       "      <th>date</th>\n",
       "      <th>sqft_living</th>\n",
       "      <th>sqft_living15</th>\n",
       "      <th>sqft_lot</th>\n",
       "      <th>sqft_lot15</th>\n",
       "      <th>yr_renovated</th>\n",
       "    </tr>\n",
       "  </thead>\n",
       "  <tbody>\n",
       "    <tr>\n",
       "      <th>0</th>\n",
       "      <td>0</td>\n",
       "      <td>0.028818</td>\n",
       "      <td>2014.1013</td>\n",
       "      <td>1180</td>\n",
       "      <td>1340</td>\n",
       "      <td>5650</td>\n",
       "      <td>5650</td>\n",
       "      <td>0</td>\n",
       "    </tr>\n",
       "    <tr>\n",
       "      <th>1</th>\n",
       "      <td>1</td>\n",
       "      <td>0.023377</td>\n",
       "      <td>2015.0225</td>\n",
       "      <td>770</td>\n",
       "      <td>2720</td>\n",
       "      <td>10000</td>\n",
       "      <td>8062</td>\n",
       "      <td>0</td>\n",
       "    </tr>\n",
       "    <tr>\n",
       "      <th>2</th>\n",
       "      <td>2</td>\n",
       "      <td>0.066234</td>\n",
       "      <td>2015.0218</td>\n",
       "      <td>1680</td>\n",
       "      <td>1800</td>\n",
       "      <td>8080</td>\n",
       "      <td>7503</td>\n",
       "      <td>0</td>\n",
       "    </tr>\n",
       "    <tr>\n",
       "      <th>3</th>\n",
       "      <td>3</td>\n",
       "      <td>0.033442</td>\n",
       "      <td>2014.0627</td>\n",
       "      <td>1715</td>\n",
       "      <td>2238</td>\n",
       "      <td>6819</td>\n",
       "      <td>6819</td>\n",
       "      <td>0</td>\n",
       "    </tr>\n",
       "    <tr>\n",
       "      <th>4</th>\n",
       "      <td>4</td>\n",
       "      <td>0.037903</td>\n",
       "      <td>2015.0115</td>\n",
       "      <td>1060</td>\n",
       "      <td>1650</td>\n",
       "      <td>9711</td>\n",
       "      <td>9711</td>\n",
       "      <td>0</td>\n",
       "    </tr>\n",
       "  </tbody>\n",
       "</table>\n",
       "</div>"
      ],
      "text/plain": [
       "   id     price       date  sqft_living  sqft_living15  sqft_lot  sqft_lot15  \\\n",
       "0   0  0.028818  2014.1013         1180           1340      5650        5650   \n",
       "1   1  0.023377  2015.0225          770           2720     10000        8062   \n",
       "2   2  0.066234  2015.0218         1680           1800      8080        7503   \n",
       "3   3  0.033442  2014.0627         1715           2238      6819        6819   \n",
       "4   4  0.037903  2015.0115         1060           1650      9711        9711   \n",
       "\n",
       "   yr_renovated  \n",
       "0             0  \n",
       "1             0  \n",
       "2             0  \n",
       "3             0  \n",
       "4             0  "
      ]
     },
     "execution_count": 207,
     "metadata": {},
     "output_type": "execute_result"
    }
   ],
   "source": [
    "house[['id', 'price', 'date', 'sqft_living', 'sqft_living15', 'sqft_lot', 'sqft_lot15', 'yr_renovated']].head()"
   ]
  },
  {
   "cell_type": "code",
   "execution_count": 226,
   "metadata": {},
   "outputs": [],
   "source": [
    "# 2015이전과 이후로 데이터 구분\n",
    "criteria = 2015\n",
    "h_2014 = house[house['date']<criteria]  #2014년도 데이터\n",
    "h_2015 = house[house['date']>=criteria] #2015년도 데이터"
   ]
  },
  {
   "cell_type": "code",
   "execution_count": 239,
   "metadata": {},
   "outputs": [
    {
     "data": {
      "text/html": [
       "<div>\n",
       "<style scoped>\n",
       "    .dataframe tbody tr th:only-of-type {\n",
       "        vertical-align: middle;\n",
       "    }\n",
       "\n",
       "    .dataframe tbody tr th {\n",
       "        vertical-align: top;\n",
       "    }\n",
       "\n",
       "    .dataframe thead th {\n",
       "        text-align: right;\n",
       "    }\n",
       "</style>\n",
       "<table border=\"1\" class=\"dataframe\">\n",
       "  <thead>\n",
       "    <tr style=\"text-align: right;\">\n",
       "      <th></th>\n",
       "      <th>sqft_living</th>\n",
       "      <th>sqft_living15</th>\n",
       "    </tr>\n",
       "  </thead>\n",
       "  <tbody>\n",
       "    <tr>\n",
       "      <th>price 2014</th>\n",
       "      <td>0.7149</td>\n",
       "      <td>0.5851</td>\n",
       "    </tr>\n",
       "    <tr>\n",
       "      <th>price 2015</th>\n",
       "      <td>0.6772</td>\n",
       "      <td>0.5899</td>\n",
       "    </tr>\n",
       "  </tbody>\n",
       "</table>\n",
       "</div>"
      ],
      "text/plain": [
       "            sqft_living  sqft_living15\n",
       "price 2014       0.7149         0.5851\n",
       "price 2015       0.6772         0.5899"
      ]
     },
     "execution_count": 239,
     "metadata": {},
     "output_type": "execute_result"
    }
   ],
   "source": [
    "# 주거 공간 넓이랑 가격의 상관계수\n",
    "h1 = [round(np.corrcoef(h_2014[\"price\"], h_2014[\"sqft_living\"])[0][1], 4), \\\n",
    "round(np.corrcoef(h_2014[\"price\"], h_2014[\"sqft_living15\"])[0][1], 4), \\\n",
    "round(np.corrcoef(h_2015[\"price\"], h_2015[\"sqft_living\"])[0][1], 4), \\\n",
    "round(np.corrcoef(h_2015[\"price\"], h_2015[\"sqft_living15\"])[0][1], 4)]    #상관계수 list ver.\n",
    "h1_a = np.reshape(np.array(h1),(2,2))  # list to array\n",
    "pd.DataFrame(h1_a, index=['price 2014', 'price 2015'], columns=[\"sqft_living\", \"sqft_living15\"]) #DF로 만들기\n",
    "# 2015 : (0.7149, 0.5851, 0.6772, 0.5899)\n",
    "# 2015.02 : (0.7133, 0.5899, 0.6762, 0.578)\n",
    "# 만약 15년 기준과 그 이전 기준 중 고르라고 하면 이전 기준으로 해야할 것 같다."
   ]
  },
  {
   "cell_type": "code",
   "execution_count": 240,
   "metadata": {},
   "outputs": [
    {
     "data": {
      "text/html": [
       "<div>\n",
       "<style scoped>\n",
       "    .dataframe tbody tr th:only-of-type {\n",
       "        vertical-align: middle;\n",
       "    }\n",
       "\n",
       "    .dataframe tbody tr th {\n",
       "        vertical-align: top;\n",
       "    }\n",
       "\n",
       "    .dataframe thead th {\n",
       "        text-align: right;\n",
       "    }\n",
       "</style>\n",
       "<table border=\"1\" class=\"dataframe\">\n",
       "  <thead>\n",
       "    <tr style=\"text-align: right;\">\n",
       "      <th></th>\n",
       "      <th>sqft_lot</th>\n",
       "      <th>sqft_lot15</th>\n",
       "    </tr>\n",
       "  </thead>\n",
       "  <tbody>\n",
       "    <tr>\n",
       "      <th>price 2014</th>\n",
       "      <td>0.0899</td>\n",
       "      <td>0.0815</td>\n",
       "    </tr>\n",
       "    <tr>\n",
       "      <th>price 2015</th>\n",
       "      <td>0.1106</td>\n",
       "      <td>0.0961</td>\n",
       "    </tr>\n",
       "  </tbody>\n",
       "</table>\n",
       "</div>"
      ],
      "text/plain": [
       "            sqft_lot  sqft_lot15\n",
       "price 2014    0.0899      0.0815\n",
       "price 2015    0.1106      0.0961"
      ]
     },
     "execution_count": 240,
     "metadata": {},
     "output_type": "execute_result"
    }
   ],
   "source": [
    "# 부지 넓이랑 가격의 상관계수\n",
    "h2 = [round(np.corrcoef(h_2014[\"price\"], h_2014[\"sqft_lot\"])[0][1], 4), \\\n",
    "round(np.corrcoef(h_2014[\"price\"], h_2014[\"sqft_lot15\"])[0][1], 4), \\\n",
    "round(np.corrcoef(h_2015[\"price\"], h_2015[\"sqft_lot\"])[0][1], 4), \\\n",
    "round(np.corrcoef(h_2015[\"price\"], h_2015[\"sqft_lot15\"])[0][1], 4)]   #상관계수 list ver.\n",
    "h2_a = np.reshape(np.array(h2),(2,2))   # list to array\n",
    "pd.DataFrame(h2_a, index=['price 2014', 'price 2015'], columns=[\"sqft_lot\", \"sqft_lot15\"]) #DF로 만들기\n",
    "# (0.0899, 0.0815, 0.1106, 0.0961)\n",
    "# 아무래도 부지 넓이랑 가격과는 상관이 없는 것 아닌가 싶다."
   ]
  },
  {
   "cell_type": "markdown",
   "metadata": {},
   "source": [
    "### \\#. 가격정보"
   ]
  },
  {
   "cell_type": "code",
   "execution_count": 126,
   "metadata": {},
   "outputs": [
    {
     "data": {
      "text/html": [
       "<div>\n",
       "<style scoped>\n",
       "    .dataframe tbody tr th:only-of-type {\n",
       "        vertical-align: middle;\n",
       "    }\n",
       "\n",
       "    .dataframe tbody tr th {\n",
       "        vertical-align: top;\n",
       "    }\n",
       "\n",
       "    .dataframe thead th {\n",
       "        text-align: right;\n",
       "    }\n",
       "</style>\n",
       "<table border=\"1\" class=\"dataframe\">\n",
       "  <thead>\n",
       "    <tr style=\"text-align: right;\">\n",
       "      <th></th>\n",
       "      <th>price</th>\n",
       "      <th>date</th>\n",
       "      <th>yr_built</th>\n",
       "      <th>yr_renovated</th>\n",
       "    </tr>\n",
       "  </thead>\n",
       "  <tbody>\n",
       "    <tr>\n",
       "      <th>15030</th>\n",
       "      <td>0.079310</td>\n",
       "      <td>2014.1014</td>\n",
       "      <td>2014</td>\n",
       "      <td>0</td>\n",
       "    </tr>\n",
       "    <tr>\n",
       "      <th>15031</th>\n",
       "      <td>0.130844</td>\n",
       "      <td>2015.0326</td>\n",
       "      <td>2009</td>\n",
       "      <td>0</td>\n",
       "    </tr>\n",
       "    <tr>\n",
       "      <th>15032</th>\n",
       "      <td>0.046753</td>\n",
       "      <td>2014.0521</td>\n",
       "      <td>2009</td>\n",
       "      <td>0</td>\n",
       "    </tr>\n",
       "    <tr>\n",
       "      <th>15033</th>\n",
       "      <td>0.051948</td>\n",
       "      <td>2015.0223</td>\n",
       "      <td>2014</td>\n",
       "      <td>0</td>\n",
       "    </tr>\n",
       "    <tr>\n",
       "      <th>15034</th>\n",
       "      <td>0.042208</td>\n",
       "      <td>2014.1015</td>\n",
       "      <td>2008</td>\n",
       "      <td>0</td>\n",
       "    </tr>\n",
       "  </tbody>\n",
       "</table>\n",
       "</div>"
      ],
      "text/plain": [
       "          price       date  yr_built  yr_renovated\n",
       "15030  0.079310  2014.1014      2014             0\n",
       "15031  0.130844  2015.0326      2009             0\n",
       "15032  0.046753  2014.0521      2009             0\n",
       "15033  0.051948  2015.0223      2014             0\n",
       "15034  0.042208  2014.1015      2008             0"
      ]
     },
     "execution_count": 126,
     "metadata": {},
     "output_type": "execute_result"
    }
   ],
   "source": [
    "h_yr = house[['price', 'date', 'yr_built', 'yr_renovated']]\n",
    "h_yr.tail()"
   ]
  },
  {
   "cell_type": "code",
   "execution_count": 128,
   "metadata": {},
   "outputs": [
    {
     "data": {
      "text/html": [
       "<div>\n",
       "<style scoped>\n",
       "    .dataframe tbody tr th:only-of-type {\n",
       "        vertical-align: middle;\n",
       "    }\n",
       "\n",
       "    .dataframe tbody tr th {\n",
       "        vertical-align: top;\n",
       "    }\n",
       "\n",
       "    .dataframe thead th {\n",
       "        text-align: right;\n",
       "    }\n",
       "</style>\n",
       "<table border=\"1\" class=\"dataframe\">\n",
       "  <thead>\n",
       "    <tr style=\"text-align: right;\">\n",
       "      <th></th>\n",
       "      <th>price</th>\n",
       "      <th>date</th>\n",
       "      <th>yr_built</th>\n",
       "      <th>yr_renovated</th>\n",
       "    </tr>\n",
       "  </thead>\n",
       "  <tbody>\n",
       "    <tr>\n",
       "      <th>0</th>\n",
       "      <td>0.107792</td>\n",
       "      <td>2015.0331</td>\n",
       "      <td>1968</td>\n",
       "      <td>2015</td>\n",
       "    </tr>\n",
       "    <tr>\n",
       "      <th>1</th>\n",
       "      <td>0.192857</td>\n",
       "      <td>2015.0506</td>\n",
       "      <td>1964</td>\n",
       "      <td>2015</td>\n",
       "    </tr>\n",
       "    <tr>\n",
       "      <th>2</th>\n",
       "      <td>0.105844</td>\n",
       "      <td>2015.0327</td>\n",
       "      <td>1962</td>\n",
       "      <td>2015</td>\n",
       "    </tr>\n",
       "    <tr>\n",
       "      <th>3</th>\n",
       "      <td>0.093117</td>\n",
       "      <td>2015.0406</td>\n",
       "      <td>1959</td>\n",
       "      <td>2015</td>\n",
       "    </tr>\n",
       "    <tr>\n",
       "      <th>4</th>\n",
       "      <td>0.113312</td>\n",
       "      <td>2015.0501</td>\n",
       "      <td>1956</td>\n",
       "      <td>2015</td>\n",
       "    </tr>\n",
       "  </tbody>\n",
       "</table>\n",
       "</div>"
      ],
      "text/plain": [
       "      price       date  yr_built  yr_renovated\n",
       "0  0.107792  2015.0331      1968          2015\n",
       "1  0.192857  2015.0506      1964          2015\n",
       "2  0.105844  2015.0327      1962          2015\n",
       "3  0.093117  2015.0406      1959          2015\n",
       "4  0.113312  2015.0501      1956          2015"
      ]
     },
     "execution_count": 128,
     "metadata": {},
     "output_type": "execute_result"
    }
   ],
   "source": [
    "h_yr_sort = h_yr.sort_values(by = ['yr_renovated', 'yr_built', 'date'],ascending=False).reset_index(drop=True)\n",
    "h_yr_sort.head()"
   ]
  }
 ],
 "metadata": {
  "kernelspec": {
   "display_name": "Python 3",
   "language": "python",
   "name": "python3"
  },
  "language_info": {
   "codemirror_mode": {
    "name": "ipython",
    "version": 3
   },
   "file_extension": ".py",
   "mimetype": "text/x-python",
   "name": "python",
   "nbconvert_exporter": "python",
   "pygments_lexer": "ipython3",
   "version": "3.6.5"
  }
 },
 "nbformat": 4,
 "nbformat_minor": 2
}
