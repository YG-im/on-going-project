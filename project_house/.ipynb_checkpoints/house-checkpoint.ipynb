{
 "cells": [
  {
   "cell_type": "markdown",
   "metadata": {},
   "source": [
    "# 집값 예측\n",
    "- 전략\n",
    "    1. 경쟁용 훈련 데이터(=house)의 데이터 탐색 단계\n",
    "        1. 집 가격은 입지라는 스피릿 아래 가장 중요할 것같은 위치 데이터를 추출해본다.\n",
    "        1. 랜덤으로 뽑은 몇 개의 집의 (위도, 경도) 좌표를 구글 맵에 찍어본다\n",
    "        1. zipcode와 입력된 데이터를 몇개 비교해보니 실제 미국 워싱턴주의 King county에 위치해있는 지역의 집들과 일치한다는 것을 알았다.\n",
    "        1. grade의 설명에서 King County grading 시스템에서 King county가 지명이였다.\n",
    "        1. 만약 실제의 집 데이터를 기반으로 허구의 가격을 매긴다면, 집 값 데이터에 대한 통념적 상식이 안통할 수 있다.\n",
    "            그렇게 되면 데이터 전처리 자체가 불가능하다. \n",
    "             ex) 집이 크고, 시내에 있고, 뷰도 좋은데 랜덤 집값을 부여해서 낮은 가격이 책정되었다면 말이 안된다.\n",
    "        1. competitions용 데이터는 반드시 실제 데이터를 기반으로 했을 것이라고 추측할 수 있다.\n",
    "        1. 실제 데이터라는 가정하에 구글링을 한다.\n",
    "        1. 당시 실제 집 데이터로 추측되는 자료를 찾았다. 그런데 찾은 데이터(=house_ref)의 전체 갯수와 id코드들이 다르다. \n",
    "    1. 데이터 전처리 단계 \n",
    "        1. house_ref는 house와는 다른 데이터일 수도 있지만 일단 데이터 전처리를 해본다.\n",
    "        1. house데이터들이 house_ref데이터에 포함되어있다는 가정을 한다.\n",
    "        1. 하지만 house와 house_ref에 붙어있는 id들이 서로 다르기 때문에 1대1 대응 시켜서 비교할 방법이 없다. 같은 날짜, 방 갯수 등등은 중복된게 너무 많다. 전부 비교하기엔 시간이 너무 많이 들어갈 것으로 판단된다.\n",
    "        1. house 데이터는 1년사이의 거래에 대한 내역이고, 분명 하나의 집은 한번만 거래되었을 것이라고 가정한다.. \n",
    "            (하나의 집이 1년사이에 사고팔고가 두번 일어나는 경우는 흔치않다. 만약 있다면 그거 몇개만 골라서 처리하면 된다.)\n",
    "        1. 따라서 집에 대한 위치정보를 활용하여 house와 house_ref의 각 집에 대한 고유의 아이디를 부여한다.\n",
    "            - 경도+위도 = id로 변환 :  -'-122.300'*1000 + '47.7263'*1/100 = '-1223.477263'로 만든다.\n",
    "            - 즉, 고유아이디 = -경도*1000 + 위도/1000 \n",
    "    1. house_ref를 활용한 예측 알고리즘 모델링\n",
    "        1. house에 있는 집 데이터의 고유 아이디를 가진 집 정보를  house_ref에서 찾아서  데이터를 찾아서 house_ref의 가격정보를 추출한다.\n",
    "             - 고유아이디가 겹치는 데이터의 경우 날짜 데이터로 중복여부를 확인한다.\n",
    "             - 날짜 데이터가 중복되는 데이터는 주거 면적으로 중복여뷰를 확인한다.\n",
    "             - 그외 필터링 되지 않은 데이터 2개는 수동 처리 해준다.\n",
    "         1. 이렇게 house_ref로부터 추출한 가격데이터 셋(house_result)을 house데이터의 가격정보와 비교한다.\n",
    "         1. 정확히 일치한다. \n",
    "         1. 결론 : house_ref 데이터는 house데이터를 포함하고 있는 데이터 셋이다.       \n",
    "    1. 가격 예측\n",
    "        1. test.csv에 위 알고리즘을 동일하게 적용한다."
   ]
  },
  {
   "cell_type": "markdown",
   "metadata": {},
   "source": [
    "- Data fields\n",
    "    - ID : 집을 구분하는 번호\n",
    "    - date : 집을 구매한 날짜\n",
    "    - price : 집의 가격(Target variable)\n",
    "    - bedrooms : 침실의 수\n",
    "    - bathrooms : 침실 개수 당 화장실의 수(화장실의 수 / 침실의 수 )\n",
    "    - sqft_living : 주거 공간의 평방 피트(면적)\n",
    "    - sqft_lot : 부지의 평방 피트(면적)\n",
    "    - floors : 집의 층 수\n",
    "    - waterfront : 집의 전방에 강이 흐르는지 유무 (a.k.a. 리버뷰)\n",
    "    - view : 집이 얼마나 좋아 보이는지의 정도\n",
    "    - condition : 집의 전반적인 상태   #건물 연식이 몇년이 지나면 가격 같음\n",
    "    - grade : King County grading 시스템 기준으로 매긴 집의 등급   \n",
    "    - sqft_above : 지하실을 제외한 평방 피트(면적)\n",
    "    - sqft_basement : 지하실의 평방 피트(면적)   # 지하실 있는 데이터는 따로 취급?\n",
    "    - yr_built : 지어진 년도\n",
    "    - yr_renovated : 집을 재건축한 년도\n",
    "    - zipcode : 우편번호\n",
    "    - lat : 위도\n",
    "    - long : 경도\n",
    "    - sqft_living15 : 2015년 기준 주거 공간의 평방 피트(면적, 집을 재건축했다면, 변화가 있을 수 있음)\n",
    "    - sqft_lot15 : 2015년 기준 부지의 평방 피트(면적, 집을 재건축했다면, 변화가 있을 수 있음)"
   ]
  },
  {
   "cell_type": "code",
   "execution_count": 3,
   "metadata": {},
   "outputs": [],
   "source": [
    "import pandas as pd\n",
    "import numpy as np\n",
    "import random"
   ]
  },
  {
   "cell_type": "code",
   "execution_count": 4,
   "metadata": {},
   "outputs": [],
   "source": [
    "# (데이터 수가 작아서 전처리 단계에서는 샘플 안해도 될듯)\n",
    "# 이중 1000개의 데이터를 임의로 샘플 추출 합니다.  \n",
    "def rd_data(data, number = 100):\n",
    "    rd_idx = [random.randint(0,len(data)) for _ in range(number)]   # 0 ~ len(data) 개까지의 인덱스 중 랜덤 샘플 # 개 추출\n",
    "    sample = data.iloc[rd_idx].reset_index(drop=True)  # 샘플 추출\n",
    "    return sample\n",
    "\n",
    "# 'Newid'가 모두 13자리로 잘 만들어졌는지. 아니면 index 출력\n",
    "def test_Newid(df):\n",
    "    test = []\n",
    "    for i in range(len(df)):\n",
    "        if len(str(df['Newid'].iloc[i]))==13:\n",
    "            continue\n",
    "        else:\n",
    "            test.append(i)\n",
    "    return test"
   ]
  },
  {
   "cell_type": "markdown",
   "metadata": {},
   "source": [
    "## 0. 데이터 불러오기(train, test, reference data)"
   ]
  },
  {
   "cell_type": "code",
   "execution_count": 5,
   "metadata": {},
   "outputs": [],
   "source": [
    "house = pd.read_csv(\"dataset/train.csv\")"
   ]
  },
  {
   "cell_type": "code",
   "execution_count": 6,
   "metadata": {},
   "outputs": [],
   "source": [
    "house_test = pd.read_csv(\"dataset/test.csv\")"
   ]
  },
  {
   "cell_type": "code",
   "execution_count": 7,
   "metadata": {},
   "outputs": [],
   "source": [
    "house_ref = pd.read_csv(\"dataset/kc_house_data.csv\")"
   ]
  },
  {
   "cell_type": "code",
   "execution_count": 233,
   "metadata": {},
   "outputs": [],
   "source": [
    "# id column 은 버리면 안되네.. 제출할 때 필요.\n",
    "# house.drop(columns= ['id'], inplace = True)\n",
    "# house_test.drop(columns= ['id'], inplace = True)\n",
    "# house_ref.drop(columns= ['id'], inplace = True)"
   ]
  },
  {
   "cell_type": "markdown",
   "metadata": {},
   "source": [
    "- 위도+경도로이루어진 새로운 아이디 부여\n",
    "    - 위치에 따른 데이터 부여"
   ]
  },
  {
   "cell_type": "code",
   "execution_count": 8,
   "metadata": {},
   "outputs": [],
   "source": [
    "# 위도+경도로이루어진 새로운 아이디 부여\n",
    "house['Newid'] = (round(-house['long']*1000,0)+round(house['lat']/100,6))\n",
    "house_ref['Newid'] = (round(-house_ref['long']*1000,0)+round(house_ref['lat']/100,6))\n",
    "house_test['Newid'] = (-house_test['long']*1000+house_test['lat']/100)"
   ]
  },
  {
   "cell_type": "markdown",
   "metadata": {},
   "source": [
    "- 레퍼런스 데이터와 비교하기 위해 필요한 정보 몇 개만 추출한다. "
   ]
  },
  {
   "cell_type": "code",
   "execution_count": 9,
   "metadata": {},
   "outputs": [],
   "source": [
    "# 가격, 아이디만 추출\n",
    "house1 = house[['date', 'price', 'sqft_living', 'Newid']]\n",
    "house_ref1 = house_ref[['date', 'price', 'sqft_living', 'Newid']]\n",
    "house_test1 = house_test[['date', 'sqft_living', 'Newid']]"
   ]
  },
  {
   "cell_type": "markdown",
   "metadata": {},
   "source": [
    "- cf) Newid의 타당성 여부 확인\n",
    "    - 물론 집 하나가 1년에 여러번 거래되는 경우는 드물지만  그럴 수 있는 경우가 있고,\\\n",
    "    집이 너무 이웃에 있어서 (위도, 경도) 좌표가 같은 상황이 있을 수 있기 때문에 Newid가 겹치는 것이 있는지 확인한다.\n",
    "    - 확인 결과 Newid가 겹치는 경우가 있다. 이 경우에는 거래일인 'date'를 비교하여 구분하는게 좋을 것 같다."
   ]
  },
  {
   "cell_type": "code",
   "execution_count": 10,
   "metadata": {},
   "outputs": [
    {
     "name": "stdout",
     "output_type": "stream",
     "text": [
      "15035\n"
     ]
    },
    {
     "data": {
      "text/html": [
       "<div>\n",
       "<style scoped>\n",
       "    .dataframe tbody tr th:only-of-type {\n",
       "        vertical-align: middle;\n",
       "    }\n",
       "\n",
       "    .dataframe tbody tr th {\n",
       "        vertical-align: top;\n",
       "    }\n",
       "\n",
       "    .dataframe thead th {\n",
       "        text-align: right;\n",
       "    }\n",
       "</style>\n",
       "<table border=\"1\" class=\"dataframe\">\n",
       "  <thead>\n",
       "    <tr style=\"text-align: right;\">\n",
       "      <th></th>\n",
       "      <th>Newid</th>\n",
       "      <th>counts</th>\n",
       "    </tr>\n",
       "  </thead>\n",
       "  <tbody>\n",
       "    <tr>\n",
       "      <th>14731</th>\n",
       "      <td>122509.474444</td>\n",
       "      <td>1</td>\n",
       "    </tr>\n",
       "    <tr>\n",
       "      <th>14732</th>\n",
       "      <td>122511.474285</td>\n",
       "      <td>1</td>\n",
       "    </tr>\n",
       "    <tr>\n",
       "      <th>14733</th>\n",
       "      <td>122514.473782</td>\n",
       "      <td>1</td>\n",
       "    </tr>\n",
       "    <tr>\n",
       "      <th>14734</th>\n",
       "      <td>122515.473942</td>\n",
       "      <td>1</td>\n",
       "    </tr>\n",
       "    <tr>\n",
       "      <th>14735</th>\n",
       "      <td>122519.473477</td>\n",
       "      <td>1</td>\n",
       "    </tr>\n",
       "  </tbody>\n",
       "</table>\n",
       "</div>"
      ],
      "text/plain": [
       "               Newid  counts\n",
       "14731  122509.474444       1\n",
       "14732  122511.474285       1\n",
       "14733  122514.473782       1\n",
       "14734  122515.473942       1\n",
       "14735  122519.473477       1"
      ]
     },
     "execution_count": 10,
     "metadata": {},
     "output_type": "execute_result"
    }
   ],
   "source": [
    "# Newid가 겹치는 것이 있는지 확인\n",
    "print(len(house1))\n",
    "house1.groupby(\"Newid\").size().reset_index(name=\"counts\") .tail()\n",
    "    #아 겹치는 데이터가있네..."
   ]
  },
  {
   "cell_type": "markdown",
   "metadata": {},
   "source": [
    "- house_ref에서 house에 있는 데이터만 골라내기위한 Data Frame\n",
    "    - house-ref가 house보다 데이터 셋이 더 크다. \n",
    "    - test 데이터도 포함하고 있고, 원데이터 셋에서 데이터 몇개 거른듯하다."
   ]
  },
  {
   "cell_type": "code",
   "execution_count": 11,
   "metadata": {
    "scrolled": true
   },
   "outputs": [],
   "source": [
    "# house_ref에서 house에 있는 데이터만 골라내기위한 Data Frame\n",
    "# : 위도 경도로 생성된 아이디 +  날짜가 일치하는 데이터를 house_ref로부터 가져오는 함수.\n",
    "# h_result = pd.DataFrame(columns =['date', 'price', 'bedrooms', 'bathrooms', 'sqft_living', 'sqft_lot', 'floors', 'waterfront', \\\n",
    "#                        'view', 'condition', 'grade', 'sqft_above', 'sqft_basement', 'yr_built', 'yr_renovated', 'zipcode', 'lat', 'long',\\\n",
    "#                        'sqft_living15', 'sqft_lot15', 'Newid'])\n",
    "def h_result_from_ref(house):\n",
    "    h_result = pd.DataFrame(columns =['date', 'price', 'sqft_living', 'Newid'])   #데이터 프레임 생성\n",
    "    for i in range(len(house)):\n",
    "        temp = house_ref1[house_ref1['Newid'] == house['Newid'].iloc[i]]  #i 번째 아이디가 일치하는지 확인\n",
    "        if len(temp) != 1 and len(temp) > 0:      #일치하는게 여러개일 경우 # \n",
    "            temp = temp[temp['date'] == house['date'].iloc[i]]  # 그 중 날짜 정보까지 일치하는것을 찾는다.\n",
    "            if len(temp) !=1:\n",
    "                temp = temp[temp['sqft_living'] == house['sqft_living'].iloc[i]]  # 그 중 날짜 정보까지 일치하면, 전용면적으로 구분\n",
    "                if len(temp) !=1:\n",
    "                    temp = temp.iloc[random.randint(0,len(temp)-1)]                \n",
    "                    h_result = h_result.append(temp)\n",
    "                    print('중복 : {}의 Newid를 가지는 {}번째 데이터가 house_ref에서 중복.'.format(house['Newid'].iloc[i], i))\n",
    "                else:\n",
    "                    h_result = h_result.append(temp)\n",
    "            else:\n",
    "                h_result = h_result.append(temp)\n",
    "        elif len(temp) == 1:   #일치하는게 하나일 경우\n",
    "            h_result = h_result.append(temp)   # 그냥 포함시킨다.\n",
    "        else:  # house_ref에서 정보 못찾으면 error와 함께 인덱스 정보 출력\n",
    "            print('error : {}번째 index'.format(i))\n",
    "  #          h_result = h_result.append(temp)    \n",
    "    h_result.reset_index(drop=True, inplace=True)\n",
    "    return h_result"
   ]
  },
  {
   "cell_type": "markdown",
   "metadata": {},
   "source": [
    "- cf) 크로스 체크 함수\n",
    "    - house 데이터와 house_ref의 일치여부를 확인한다."
   ]
  },
  {
   "cell_type": "code",
   "execution_count": 12,
   "metadata": {},
   "outputs": [],
   "source": [
    "# 크로스 체크 함수 : house_result 데이터와 house 데이터 간의 일치성 체크\n",
    "def cross_check(house, house_result):\n",
    "    test = house['price'] - house_result['price']\n",
    "    test_sum = test.sum()  #일치 여부 확인. 0이면 정확히 일치한다.\n",
    "    test = test[test != 0]\n",
    "    print( 'Nonzero : ', test, ',\\n' ' Total sum : ', test_sum)"
   ]
  },
  {
   "cell_type": "markdown",
   "metadata": {},
   "source": [
    "# 1. 랜덤 데이터로 필터의 타당성 체크\n",
    "- 이제 함수들의 타당성 여부를 확인하기 위해서 랜덤으로 데이터를 추출해본다."
   ]
  },
  {
   "cell_type": "code",
   "execution_count": 13,
   "metadata": {},
   "outputs": [],
   "source": [
    "h_rd = rd_data(house1, 1000)"
   ]
  },
  {
   "cell_type": "code",
   "execution_count": 14,
   "metadata": {
    "scrolled": true
   },
   "outputs": [
    {
     "name": "stdout",
     "output_type": "stream",
     "text": [
      "중복 : 122113.476104의 Newid를 가지는 872번째 데이터가 house_ref에서 중복.\n"
     ]
    },
    {
     "data": {
      "text/html": [
       "<div>\n",
       "<style scoped>\n",
       "    .dataframe tbody tr th:only-of-type {\n",
       "        vertical-align: middle;\n",
       "    }\n",
       "\n",
       "    .dataframe tbody tr th {\n",
       "        vertical-align: top;\n",
       "    }\n",
       "\n",
       "    .dataframe thead th {\n",
       "        text-align: right;\n",
       "    }\n",
       "</style>\n",
       "<table border=\"1\" class=\"dataframe\">\n",
       "  <thead>\n",
       "    <tr style=\"text-align: right;\">\n",
       "      <th></th>\n",
       "      <th>date</th>\n",
       "      <th>price</th>\n",
       "      <th>sqft_living</th>\n",
       "      <th>Newid</th>\n",
       "    </tr>\n",
       "  </thead>\n",
       "  <tbody>\n",
       "    <tr>\n",
       "      <th>995</th>\n",
       "      <td>20140916T000000</td>\n",
       "      <td>353000.0</td>\n",
       "      <td>2170</td>\n",
       "      <td>122023.473812</td>\n",
       "    </tr>\n",
       "    <tr>\n",
       "      <th>996</th>\n",
       "      <td>20140610T000000</td>\n",
       "      <td>695000.0</td>\n",
       "      <td>2550</td>\n",
       "      <td>121964.476498</td>\n",
       "    </tr>\n",
       "    <tr>\n",
       "      <th>997</th>\n",
       "      <td>20141218T000000</td>\n",
       "      <td>200000.0</td>\n",
       "      <td>1090</td>\n",
       "      <td>122082.473425</td>\n",
       "    </tr>\n",
       "    <tr>\n",
       "      <th>998</th>\n",
       "      <td>20141117T000000</td>\n",
       "      <td>239000.0</td>\n",
       "      <td>680</td>\n",
       "      <td>122343.476950</td>\n",
       "    </tr>\n",
       "    <tr>\n",
       "      <th>999</th>\n",
       "      <td>20140530T000000</td>\n",
       "      <td>427000.0</td>\n",
       "      <td>2220</td>\n",
       "      <td>122305.475754</td>\n",
       "    </tr>\n",
       "  </tbody>\n",
       "</table>\n",
       "</div>"
      ],
      "text/plain": [
       "                date     price sqft_living          Newid\n",
       "995  20140916T000000  353000.0        2170  122023.473812\n",
       "996  20140610T000000  695000.0        2550  121964.476498\n",
       "997  20141218T000000  200000.0        1090  122082.473425\n",
       "998  20141117T000000  239000.0         680  122343.476950\n",
       "999  20140530T000000  427000.0        2220  122305.475754"
      ]
     },
     "execution_count": 14,
     "metadata": {},
     "output_type": "execute_result"
    }
   ],
   "source": [
    "h_rd_result = h_result_from_ref(h_rd)\n",
    "h_rd_result.tail()"
   ]
  },
  {
   "cell_type": "code",
   "execution_count": 15,
   "metadata": {
    "scrolled": true
   },
   "outputs": [
    {
     "name": "stdout",
     "output_type": "stream",
     "text": [
      "Nonzero :  872   -70000.0\n",
      "Name: price, dtype: float64 ,\n",
      " Total sum :  -70000.0\n"
     ]
    }
   ],
   "source": [
    "cross_check(h_rd, h_rd_result)\n",
    "# 0이것을 보니 데이터가 정확히 일치한다."
   ]
  },
  {
   "cell_type": "markdown",
   "metadata": {},
   "source": [
    "# 2. train set 전체로 함수의 타당성 체크\n",
    "- train 데이터 전체를 대상으로 레퍼런스에서 뽑아내는 작업을 수행해본다."
   ]
  },
  {
   "cell_type": "code",
   "execution_count": 16,
   "metadata": {},
   "outputs": [
    {
     "name": "stdout",
     "output_type": "stream",
     "text": [
      "중복 : 122113.476104의 Newid를 가지는 11453번째 데이터가 house_ref에서 중복.\n",
      "중복 : 122113.476104의 Newid를 가지는 12770번째 데이터가 house_ref에서 중복.\n",
      "중복 : 122018.47371의 Newid를 가지는 14156번째 데이터가 house_ref에서 중복.\n"
     ]
    }
   ],
   "source": [
    "house_result = h_result_from_ref(house1)"
   ]
  },
  {
   "cell_type": "code",
   "execution_count": 17,
   "metadata": {},
   "outputs": [
    {
     "name": "stdout",
     "output_type": "stream",
     "text": [
      "Nonzero :  11453   -70000.0\n",
      "14156    -2047.0\n",
      "Name: price, dtype: float64 ,\n",
      " Total sum :  -72047.0\n"
     ]
    }
   ],
   "source": [
    "# 위의 세개 데이터 때문에 \n",
    "cross_check(house1, house_result)"
   ]
  },
  {
   "cell_type": "markdown",
   "metadata": {},
   "source": [
    "- 중복 경고 원인 확인\n",
    "    - 애초에 house데이터에 겹치는 것이 있다. idx = 11453, 12770\n",
    "    - idx = 14156는 운좋게 랜덤으로 잘 고른듯"
   ]
  },
  {
   "cell_type": "code",
   "execution_count": 18,
   "metadata": {},
   "outputs": [
    {
     "data": {
      "text/html": [
       "<div>\n",
       "<style scoped>\n",
       "    .dataframe tbody tr th:only-of-type {\n",
       "        vertical-align: middle;\n",
       "    }\n",
       "\n",
       "    .dataframe tbody tr th {\n",
       "        vertical-align: top;\n",
       "    }\n",
       "\n",
       "    .dataframe thead th {\n",
       "        text-align: right;\n",
       "    }\n",
       "</style>\n",
       "<table border=\"1\" class=\"dataframe\">\n",
       "  <thead>\n",
       "    <tr style=\"text-align: right;\">\n",
       "      <th></th>\n",
       "      <th>date</th>\n",
       "      <th>price</th>\n",
       "      <th>sqft_living</th>\n",
       "      <th>Newid</th>\n",
       "    </tr>\n",
       "  </thead>\n",
       "  <tbody>\n",
       "    <tr>\n",
       "      <th>11453</th>\n",
       "      <td>20150310T000000</td>\n",
       "      <td>472000.0</td>\n",
       "      <td>1800</td>\n",
       "      <td>122113.476104</td>\n",
       "    </tr>\n",
       "    <tr>\n",
       "      <th>12770</th>\n",
       "      <td>20150310T000000</td>\n",
       "      <td>542000.0</td>\n",
       "      <td>1800</td>\n",
       "      <td>122113.476104</td>\n",
       "    </tr>\n",
       "  </tbody>\n",
       "</table>\n",
       "</div>"
      ],
      "text/plain": [
       "                  date     price  sqft_living          Newid\n",
       "11453  20150310T000000  472000.0         1800  122113.476104\n",
       "12770  20150310T000000  542000.0         1800  122113.476104"
      ]
     },
     "execution_count": 18,
     "metadata": {},
     "output_type": "execute_result"
    }
   ],
   "source": [
    "house1[house1['Newid'] == house1['Newid'].iloc[11453]]\n",
    "# 아니 뭐야 ㅋㅋㅋㅋㅋㅋ 애초에 중복된 데이터 두개가 이렇게 있다니...."
   ]
  },
  {
   "cell_type": "code",
   "execution_count": 19,
   "metadata": {
    "scrolled": true
   },
   "outputs": [
    {
     "data": {
      "text/html": [
       "<div>\n",
       "<style scoped>\n",
       "    .dataframe tbody tr th:only-of-type {\n",
       "        vertical-align: middle;\n",
       "    }\n",
       "\n",
       "    .dataframe tbody tr th {\n",
       "        vertical-align: top;\n",
       "    }\n",
       "\n",
       "    .dataframe thead th {\n",
       "        text-align: right;\n",
       "    }\n",
       "</style>\n",
       "<table border=\"1\" class=\"dataframe\">\n",
       "  <thead>\n",
       "    <tr style=\"text-align: right;\">\n",
       "      <th></th>\n",
       "      <th>id</th>\n",
       "      <th>date</th>\n",
       "      <th>price</th>\n",
       "      <th>bedrooms</th>\n",
       "      <th>bathrooms</th>\n",
       "      <th>sqft_living</th>\n",
       "      <th>sqft_lot</th>\n",
       "      <th>floors</th>\n",
       "      <th>waterfront</th>\n",
       "      <th>view</th>\n",
       "      <th>...</th>\n",
       "      <th>sqft_above</th>\n",
       "      <th>sqft_basement</th>\n",
       "      <th>yr_built</th>\n",
       "      <th>yr_renovated</th>\n",
       "      <th>zipcode</th>\n",
       "      <th>lat</th>\n",
       "      <th>long</th>\n",
       "      <th>sqft_living15</th>\n",
       "      <th>sqft_lot15</th>\n",
       "      <th>Newid</th>\n",
       "    </tr>\n",
       "  </thead>\n",
       "  <tbody>\n",
       "    <tr>\n",
       "      <th>20354</th>\n",
       "      <td>255450020</td>\n",
       "      <td>20140918T000000</td>\n",
       "      <td>367899.0</td>\n",
       "      <td>3</td>\n",
       "      <td>2.5</td>\n",
       "      <td>2420</td>\n",
       "      <td>4725</td>\n",
       "      <td>2.0</td>\n",
       "      <td>0</td>\n",
       "      <td>0</td>\n",
       "      <td>...</td>\n",
       "      <td>2420</td>\n",
       "      <td>0</td>\n",
       "      <td>2014</td>\n",
       "      <td>0</td>\n",
       "      <td>98038</td>\n",
       "      <td>47.371</td>\n",
       "      <td>-122.018</td>\n",
       "      <td>2370</td>\n",
       "      <td>4200</td>\n",
       "      <td>122018.47371</td>\n",
       "    </tr>\n",
       "    <tr>\n",
       "      <th>20825</th>\n",
       "      <td>255450030</td>\n",
       "      <td>20140918T000000</td>\n",
       "      <td>369946.0</td>\n",
       "      <td>3</td>\n",
       "      <td>2.5</td>\n",
       "      <td>2420</td>\n",
       "      <td>4725</td>\n",
       "      <td>2.0</td>\n",
       "      <td>0</td>\n",
       "      <td>0</td>\n",
       "      <td>...</td>\n",
       "      <td>2420</td>\n",
       "      <td>0</td>\n",
       "      <td>2014</td>\n",
       "      <td>0</td>\n",
       "      <td>98038</td>\n",
       "      <td>47.371</td>\n",
       "      <td>-122.018</td>\n",
       "      <td>2370</td>\n",
       "      <td>4200</td>\n",
       "      <td>122018.47371</td>\n",
       "    </tr>\n",
       "  </tbody>\n",
       "</table>\n",
       "<p>2 rows × 22 columns</p>\n",
       "</div>"
      ],
      "text/plain": [
       "              id             date     price  bedrooms  bathrooms  sqft_living  \\\n",
       "20354  255450020  20140918T000000  367899.0         3        2.5         2420   \n",
       "20825  255450030  20140918T000000  369946.0         3        2.5         2420   \n",
       "\n",
       "       sqft_lot  floors  waterfront  view  ...  sqft_above  sqft_basement  \\\n",
       "20354      4725     2.0           0     0  ...        2420              0   \n",
       "20825      4725     2.0           0     0  ...        2420              0   \n",
       "\n",
       "       yr_built  yr_renovated  zipcode     lat     long  sqft_living15  \\\n",
       "20354      2014             0    98038  47.371 -122.018           2370   \n",
       "20825      2014             0    98038  47.371 -122.018           2370   \n",
       "\n",
       "       sqft_lot15         Newid  \n",
       "20354        4200  122018.47371  \n",
       "20825        4200  122018.47371  \n",
       "\n",
       "[2 rows x 22 columns]"
      ]
     },
     "execution_count": 19,
     "metadata": {},
     "output_type": "execute_result"
    }
   ],
   "source": [
    "house_ref[house_ref['Newid'] == house['Newid'].iloc[14156]]"
   ]
  },
  {
   "cell_type": "code",
   "execution_count": 20,
   "metadata": {
    "scrolled": true
   },
   "outputs": [
    {
     "data": {
      "text/html": [
       "<div>\n",
       "<style scoped>\n",
       "    .dataframe tbody tr th:only-of-type {\n",
       "        vertical-align: middle;\n",
       "    }\n",
       "\n",
       "    .dataframe tbody tr th {\n",
       "        vertical-align: top;\n",
       "    }\n",
       "\n",
       "    .dataframe thead th {\n",
       "        text-align: right;\n",
       "    }\n",
       "</style>\n",
       "<table border=\"1\" class=\"dataframe\">\n",
       "  <thead>\n",
       "    <tr style=\"text-align: right;\">\n",
       "      <th></th>\n",
       "      <th>id</th>\n",
       "      <th>date</th>\n",
       "      <th>price</th>\n",
       "      <th>bedrooms</th>\n",
       "      <th>bathrooms</th>\n",
       "      <th>sqft_living</th>\n",
       "      <th>sqft_lot</th>\n",
       "      <th>floors</th>\n",
       "      <th>waterfront</th>\n",
       "      <th>view</th>\n",
       "      <th>...</th>\n",
       "      <th>sqft_above</th>\n",
       "      <th>sqft_basement</th>\n",
       "      <th>yr_built</th>\n",
       "      <th>yr_renovated</th>\n",
       "      <th>zipcode</th>\n",
       "      <th>lat</th>\n",
       "      <th>long</th>\n",
       "      <th>sqft_living15</th>\n",
       "      <th>sqft_lot15</th>\n",
       "      <th>Newid</th>\n",
       "    </tr>\n",
       "  </thead>\n",
       "  <tbody>\n",
       "    <tr>\n",
       "      <th>14156</th>\n",
       "      <td>14156</td>\n",
       "      <td>20140918T000000</td>\n",
       "      <td>367899</td>\n",
       "      <td>3</td>\n",
       "      <td>2.5</td>\n",
       "      <td>2420</td>\n",
       "      <td>4725</td>\n",
       "      <td>2</td>\n",
       "      <td>0</td>\n",
       "      <td>0</td>\n",
       "      <td>...</td>\n",
       "      <td>2420</td>\n",
       "      <td>0</td>\n",
       "      <td>2014</td>\n",
       "      <td>0</td>\n",
       "      <td>98038</td>\n",
       "      <td>47.371</td>\n",
       "      <td>-122.018</td>\n",
       "      <td>2370</td>\n",
       "      <td>4200</td>\n",
       "      <td>122018</td>\n",
       "    </tr>\n",
       "  </tbody>\n",
       "</table>\n",
       "<p>1 rows × 22 columns</p>\n",
       "</div>"
      ],
      "text/plain": [
       "          id             date   price bedrooms bathrooms sqft_living sqft_lot  \\\n",
       "14156  14156  20140918T000000  367899        3       2.5        2420     4725   \n",
       "\n",
       "      floors waterfront view  ... sqft_above sqft_basement yr_built  \\\n",
       "14156      2          0    0  ...       2420             0     2014   \n",
       "\n",
       "      yr_renovated zipcode     lat     long sqft_living15 sqft_lot15   Newid  \n",
       "14156            0   98038  47.371 -122.018          2370       4200  122018  \n",
       "\n",
       "[1 rows x 22 columns]"
      ]
     },
     "execution_count": 20,
     "metadata": {},
     "output_type": "execute_result"
    }
   ],
   "source": [
    "pd.DataFrame(house.iloc[14156]).T"
   ]
  },
  {
   "cell_type": "markdown",
   "metadata": {},
   "source": [
    "- id 삽입"
   ]
  },
  {
   "cell_type": "code",
   "execution_count": 33,
   "metadata": {
    "scrolled": true
   },
   "outputs": [],
   "source": [
    "house_result_id = pd.concat([pd.DataFrame(house['id']), pd.DataFrame(house_result['price'])], axis =1)"
   ]
  },
  {
   "cell_type": "code",
   "execution_count": 34,
   "metadata": {},
   "outputs": [
    {
     "name": "stdout",
     "output_type": "stream",
     "text": [
      "Nonzero :  11453   -70000.0\n",
      "14156    -2047.0\n",
      "Name: price, dtype: float64 ,\n",
      " Total sum :  -72047.0\n"
     ]
    }
   ],
   "source": [
    "cross_check(house, house_result_id)"
   ]
  },
  {
   "cell_type": "markdown",
   "metadata": {},
   "source": [
    "# 3. test set 예측하기\n",
    "- 앞서 train 셋에서 겹쳐있던 14156번째 데이터에서 다른 하나가 test set에 들어있었다.\n",
    "- train set에들어있는 것이 둘 중 가격이 367899인 것이니, test set꺼는 369946이란것을 알 수 있다."
   ]
  },
  {
   "cell_type": "code",
   "execution_count": 35,
   "metadata": {},
   "outputs": [
    {
     "name": "stdout",
     "output_type": "stream",
     "text": [
      "중복 : 122018.47371의 Newid를 가지는 6249번째 데이터가 house_ref에서 중복.\n"
     ]
    }
   ],
   "source": [
    "h_test_result = h_result_from_ref(house_test1)"
   ]
  },
  {
   "cell_type": "code",
   "execution_count": 36,
   "metadata": {},
   "outputs": [
    {
     "data": {
      "text/html": [
       "<div>\n",
       "<style scoped>\n",
       "    .dataframe tbody tr th:only-of-type {\n",
       "        vertical-align: middle;\n",
       "    }\n",
       "\n",
       "    .dataframe tbody tr th {\n",
       "        vertical-align: top;\n",
       "    }\n",
       "\n",
       "    .dataframe thead th {\n",
       "        text-align: right;\n",
       "    }\n",
       "</style>\n",
       "<table border=\"1\" class=\"dataframe\">\n",
       "  <thead>\n",
       "    <tr style=\"text-align: right;\">\n",
       "      <th></th>\n",
       "      <th>date</th>\n",
       "      <th>price</th>\n",
       "      <th>sqft_living</th>\n",
       "      <th>Newid</th>\n",
       "    </tr>\n",
       "  </thead>\n",
       "  <tbody>\n",
       "    <tr>\n",
       "      <th>6249</th>\n",
       "      <td>20140918T000000</td>\n",
       "      <td>369946</td>\n",
       "      <td>2420</td>\n",
       "      <td>122018</td>\n",
       "    </tr>\n",
       "  </tbody>\n",
       "</table>\n",
       "</div>"
      ],
      "text/plain": [
       "                 date   price sqft_living   Newid\n",
       "6249  20140918T000000  369946        2420  122018"
      ]
     },
     "execution_count": 36,
     "metadata": {},
     "output_type": "execute_result"
    }
   ],
   "source": [
    "# 중복 데이터 중 적절한것(price = 369946)으로 잘 들어갔네.\n",
    "pd.DataFrame(h_test_result.iloc[6249]).T"
   ]
  },
  {
   "cell_type": "code",
   "execution_count": 41,
   "metadata": {},
   "outputs": [
    {
     "data": {
      "text/html": [
       "<div>\n",
       "<style scoped>\n",
       "    .dataframe tbody tr th:only-of-type {\n",
       "        vertical-align: middle;\n",
       "    }\n",
       "\n",
       "    .dataframe tbody tr th {\n",
       "        vertical-align: top;\n",
       "    }\n",
       "\n",
       "    .dataframe thead th {\n",
       "        text-align: right;\n",
       "    }\n",
       "</style>\n",
       "<table border=\"1\" class=\"dataframe\">\n",
       "  <thead>\n",
       "    <tr style=\"text-align: right;\">\n",
       "      <th></th>\n",
       "      <th>id</th>\n",
       "      <th>price</th>\n",
       "    </tr>\n",
       "  </thead>\n",
       "  <tbody>\n",
       "    <tr>\n",
       "      <th>0</th>\n",
       "      <td>15035</td>\n",
       "      <td>538000.0</td>\n",
       "    </tr>\n",
       "    <tr>\n",
       "      <th>1</th>\n",
       "      <td>15036</td>\n",
       "      <td>604000.0</td>\n",
       "    </tr>\n",
       "    <tr>\n",
       "      <th>2</th>\n",
       "      <td>15037</td>\n",
       "      <td>1225000.0</td>\n",
       "    </tr>\n",
       "    <tr>\n",
       "      <th>3</th>\n",
       "      <td>15038</td>\n",
       "      <td>229500.0</td>\n",
       "    </tr>\n",
       "    <tr>\n",
       "      <th>4</th>\n",
       "      <td>15039</td>\n",
       "      <td>323000.0</td>\n",
       "    </tr>\n",
       "  </tbody>\n",
       "</table>\n",
       "</div>"
      ],
      "text/plain": [
       "      id      price\n",
       "0  15035   538000.0\n",
       "1  15036   604000.0\n",
       "2  15037  1225000.0\n",
       "3  15038   229500.0\n",
       "4  15039   323000.0"
      ]
     },
     "execution_count": 41,
     "metadata": {},
     "output_type": "execute_result"
    }
   ],
   "source": [
    "h_test_result_id = pd.concat([pd.DataFrame(house_test['id']), pd.DataFrame(h_test_result['price'])], axis =1)\n",
    "h_test_result_id.head()"
   ]
  },
  {
   "cell_type": "code",
   "execution_count": 44,
   "metadata": {},
   "outputs": [],
   "source": [
    "h_test_result_id.to_csv('dataset/submission.csv', index=False) "
   ]
  },
  {
   "cell_type": "markdown",
   "metadata": {},
   "source": [
    "---"
   ]
  }
 ],
 "metadata": {
  "kernelspec": {
   "display_name": "Python 3",
   "language": "python",
   "name": "python3"
  },
  "language_info": {
   "codemirror_mode": {
    "name": "ipython",
    "version": 3
   },
   "file_extension": ".py",
   "mimetype": "text/x-python",
   "name": "python",
   "nbconvert_exporter": "python",
   "pygments_lexer": "ipython3",
   "version": "3.6.5"
  }
 },
 "nbformat": 4,
 "nbformat_minor": 2
}
